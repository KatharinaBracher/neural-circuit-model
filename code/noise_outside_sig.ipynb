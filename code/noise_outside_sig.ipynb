{
 "cells": [
  {
   "cell_type": "code",
   "execution_count": 1,
   "id": "5167d0d8-5fba-4332-9ef4-fbcbe847c1a9",
   "metadata": {},
   "outputs": [],
   "source": [
    "from onetwogo import Params\n",
    "from onetwogo.parallel_simulation import ParallelSimulation\n",
    "from onetwogo.experiment_simulation import ExperimentSimulation\n",
    "from onetwogo.plot import SimulationPlot\n",
    "from onetwogo.plot import BehavioralPlot\n",
    "\n",
    "import numpy as np\n",
    "import seaborn as sns\n",
    "import matplotlib\n",
    "import matplotlib.pyplot as plt\n",
    "from scipy.stats import linregress\n",
    "import pickle\n",
    "\n",
    "import parameter_tuning as pt\n",
    "\n",
    "%load_ext autoreload\n",
    "%autoreload 2"
   ]
  },
  {
   "cell_type": "code",
   "execution_count": 2,
   "id": "802541e4-83c6-4550-b662-2d1a5f3efcfa",
   "metadata": {},
   "outputs": [],
   "source": [
    "sns.set_style(\"ticks\", {'font.family':'sans-serif', \n",
    "               'font.sans-serif':['CMU Serif'],\n",
    "               'size': 11})"
   ]
  },
  {
   "cell_type": "code",
   "execution_count": 3,
   "id": "b94dbe8a-d904-49ed-b344-8c744054488c",
   "metadata": {},
   "outputs": [],
   "source": [
    "import matplotlib as mpl\n",
    "from matplotlib import rc\n",
    "\n",
    "rc('text', usetex=True)\n",
    "font = {'family':'CMU Serif', \n",
    "               #'sans-serif':['Helvetica'],\n",
    "               'size': 11}\n",
    "mpl.rc('font', **font)"
   ]
  },
  {
   "cell_type": "code",
   "execution_count": 4,
   "id": "b768f5ff-9033-4165-b178-3e217a5afe37",
   "metadata": {},
   "outputs": [],
   "source": [
    "colors_short = [(0.6196078431372549, 0.00392156862745098, 0.25882352941176473, 1.0),\n",
    " (0.7972318339100346, 0.20092272202998845, 0.3008073817762399, 1.0),\n",
    " (0.9139561707035756, 0.36239907727797, 0.27935409457900806, 1.0),\n",
    " (0.9748558246828143, 0.5574009996155325, 0.32272202998846594, 1.0),\n",
    " (0.9934640522875817, 0.7477124183006535, 0.4352941176470587, 1.0),\n",
    " (0.9966935793925413, 0.8975009611687812, 0.5770857362552863, 1.0),\n",
    " (1.0, 0.9803921568627451, 0.5529411764705883, 1.0)]\n",
    "\n",
    "colors_long = [(1.0, 0.9803921568627451, 0.5529411764705883, 1.0),\n",
    " (0.9173394848135333, 0.9669357939254134, 0.6200692041522493, 1.0),\n",
    " (0.7477124183006538, 0.8980392156862746, 0.6274509803921569, 1.0),\n",
    " (0.5273356401384084, 0.8106113033448674, 0.6452133794694349, 1.0),\n",
    " (0.3280276816608997, 0.6805074971164936, 0.6802768166089965, 1.0),\n",
    " (0.2265282583621684, 0.4938869665513264, 0.7224913494809688, 1.0),\n",
    " (0.3686274509803922, 0.30980392156862746, 0.6352941176470588, 1.0)]"
   ]
  },
  {
   "cell_type": "code",
   "execution_count": 5,
   "id": "c0cac389-c0ad-4397-a2c0-62094eb675d1",
   "metadata": {},
   "outputs": [],
   "source": [
    "PARAMS_DICT = {'Wui': 6,\n",
    "              'Wuv': 6,\n",
    "              'Wvi': 6,\n",
    "              'Wvu': 6,\n",
    "              'dt': 10,\n",
    "              'tau': 100,\n",
    "              'th': 0.1,\n",
    "              'IF': -500,\n",
    "              'uinit': 0.7,\n",
    "              'vinit': 0.2,\n",
    "              'yinit': 0.5,\n",
    "              'Iinit': 1.02,\n",
    "              'first_duration': 750, \n",
    "              'sigma': 0.01, \n",
    "              'ntrials': 500,\n",
    "              'delay': 500}"
   ]
  },
  {
   "cell_type": "code",
   "execution_count": 6,
   "id": "91f4935f-c148-4b3e-8197-47a4d88f545d",
   "metadata": {},
   "outputs": [],
   "source": [
    "stimulus_range_s = [400, 450, 500, 550, 600, 650, 700]\n",
    "stimulus_range_l = [700, 750, 800, 850, 900, 950, 1000]"
   ]
  },
  {
   "cell_type": "code",
   "execution_count": 7,
   "id": "29345f6c-ef3c-4ec1-b969-0039ca6079ad",
   "metadata": {},
   "outputs": [],
   "source": [
    "stimulus_lst_short = np.loadtxt('stimlst_short_400_700_7_a.txt', dtype=int)\n",
    "stimulus_lst_long = np.loadtxt('stimlst_long_700_1000_7_a.txt', dtype=int)"
   ]
  },
  {
   "cell_type": "markdown",
   "id": "e69b32fe-54cf-497b-a30c-bb725b4ce8ed",
   "metadata": {},
   "source": [
    "# CV"
   ]
  },
  {
   "cell_type": "code",
   "execution_count": 20,
   "id": "af2d7f13-8b6a-4887-ad3c-c4210a901c6d",
   "metadata": {},
   "outputs": [],
   "source": [
    "sigma_lst = [0,0.01,0.015,0.02,0.025,0.03,0.035,0.04,0.05,0.06]"
   ]
  },
  {
   "cell_type": "code",
   "execution_count": 21,
   "id": "b48edfee-d701-449c-8a23-82946607597b",
   "metadata": {},
   "outputs": [],
   "source": [
    "import matplotlib as mpl\n",
    "jet = cm = plt.get_cmap('Blues') \n",
    "cNorm  = mpl.colors.Normalize(vmin=-5, vmax=len(sigma_lst)-1)\n",
    "scalarMap = mpl.cm.ScalarMappable(norm=cNorm, cmap=jet)\n",
    "\n",
    "colors = []\n",
    "for i in range(len(sigma_lst)):\n",
    "    colors.append(scalarMap.to_rgba(i))"
   ]
  },
  {
   "cell_type": "code",
   "execution_count": 22,
   "id": "343f9360-3b51-402c-bb83-a1c60ff8743f",
   "metadata": {},
   "outputs": [
    {
     "name": "stdout",
     "output_type": "stream",
     "text": [
      "0\n",
      "0.01\n",
      "0.015\n",
      "0.02\n",
      "0.025\n",
      "0.03\n",
      "0.035\n",
      "0.04\n",
      "0.05\n",
      "0.06\n"
     ]
    }
   ],
   "source": [
    "K = 8.5\n",
    "\n",
    "stds_s_mean = []\n",
    "for sigma in sigma_lst:\n",
    "    stds_si = []\n",
    "    for i in range(11):\n",
    "        params = Params(ntrials=500, delay=700, tau=100, th=0.7, sigma = sigma)\n",
    "        expsim = ExperimentSimulation(params)\n",
    "        exp_result = expsim.simulate(stimulus_lst_short, K)\n",
    "        beh_result = exp_result.create_behavioral_data()\n",
    "        stds_si.append(beh_result.production_stds)\n",
    "    print(sigma)\n",
    "    stds_s_mean.append(np.nanmean(stds_si, axis=0))"
   ]
  },
  {
   "cell_type": "code",
   "execution_count": 23,
   "id": "57f33733-01d6-459b-943b-1c2f27413620",
   "metadata": {},
   "outputs": [],
   "source": [
    "K = 6\n",
    "stds_l_mean = []\n",
    "\n",
    "for sigma in sigma_lst:\n",
    "    stds_li = []\n",
    "    for i in range(11):\n",
    "        params = Params(ntrials=500, delay=700, tau=100, th=0.7, sigma = sigma)\n",
    "        expsim = ExperimentSimulation(params)\n",
    "        exp_result = expsim.simulate(stimulus_lst_long, K)\n",
    "        beh_result = exp_result.create_behavioral_data()\n",
    "        stds_li.append(beh_result.production_stds)\n",
    "    stds_l_mean.append(np.nanmean(stds_li, axis=0))"
   ]
  },
  {
   "cell_type": "code",
   "execution_count": 24,
   "id": "a9bc3223-7f09-4a99-8b12-94429faf6b8f",
   "metadata": {
    "tags": []
   },
   "outputs": [
    {
     "data": {
      "text/plain": [
       "<matplotlib.legend.Legend at 0x7f4fd7678d90>"
      ]
     },
     "execution_count": 24,
     "metadata": {},
     "output_type": "execute_result"
    },
    {
     "data": {
      "image/png": "[encoded data removed]",
      "text/plain": [
       "<Figure size 194.4x72 with 2 Axes>"
      ]
     },
     "metadata": {},
     "output_type": "display_data"
    }
   ],
   "source": [
    "fig, ax = plt.subplots(1,2, sharey=True, figsize=(2.7,1))\n",
    "ax[0].set_prop_cycle(color=colors)\n",
    "ax[1].set_prop_cycle(color=colors)\n",
    "\n",
    "for lst, sigma in zip(stds_s_mean, sigma_lst):\n",
    "    ax[0].plot(stimulus_range_s, lst, label=str(sigma))\n",
    "ax[0].set_title('short range', fontsize=11)\n",
    "ax[0].set_ylabel(r'$\\sigma_{\\mathrm{reproduction}}$')\n",
    "ax[0].set_xlabel('stimulus [ms]')\n",
    "ax[1].set_xlabel('stimulus [ms]')\n",
    "\n",
    "for lst, sigma in zip(stds_l_mean, sigma_lst):\n",
    "    ax[1].plot(stimulus_range_l, lst, label=str(sigma))\n",
    "ax[1].set_title('long range',  fontsize=11)\n",
    "\n",
    "for i in [0,1]:\n",
    "    ax[i].spines['right'].set_visible(False)\n",
    "    ax[i].spines['top'].set_visible(False)\n",
    "\n",
    "ax[1].legend(bbox_to_anchor=(1.15, 1.3), title=r'$\\sigma$', frameon=False,  prop={'size': 3.4})"
   ]
  },
  {
   "cell_type": "code",
   "execution_count": 25,
   "id": "5fd09cbb-4fa0-4633-8555-f88560f504d3",
   "metadata": {
    "tags": []
   },
   "outputs": [
    {
     "data": {
      "text/plain": [
       "<matplotlib.legend.Legend at 0x7f4fd77a2790>"
      ]
     },
     "execution_count": 25,
     "metadata": {},
     "output_type": "execute_result"
    },
    {
     "data": {
      "image/png": "[encoded data removed]",
      "text/plain": [
       "<Figure size 194.4x72 with 2 Axes>"
      ]
     },
     "metadata": {},
     "output_type": "display_data"
    }
   ],
   "source": [
    "fig, ax = plt.subplots(1,2, sharey=True, figsize=(2.7,1))\n",
    "ax[0].set_prop_cycle(color=colors)\n",
    "ax[1].set_prop_cycle(color=colors)\n",
    "\n",
    "for lst, sigma in zip(np.array(stds_s_mean)/np.array(stimulus_range_s), sigma_lst):\n",
    "    ax[0].plot(stimulus_range_s, lst, label=str(sigma))\n",
    "ax[0].set_title('short range', fontsize=11)\n",
    "ax[0].set_ylabel(r'$\\mathrm{CV}$')\n",
    "ax[0].set_xlabel('stimulus [ms]')\n",
    "ax[1].set_xlabel('stimulus [ms]')\n",
    "\n",
    "for lst, sigma in zip(np.array(stds_l_mean)/np.array(stimulus_range_l), sigma_lst):\n",
    "    ax[1].plot(stimulus_range_l, lst, label=str(sigma))\n",
    "ax[1].set_title('long range', fontsize=11)\n",
    "\n",
    "for i in [0,1]:\n",
    "    ax[i].spines['right'].set_visible(False)\n",
    "    ax[i].spines['top'].set_visible(False)\n",
    "\n",
    "ax[1].legend(bbox_to_anchor=(1.15, 1.3), title=r'$\\sigma$', frameon=False,  prop={'size': 3.4})"
   ]
  },
  {
   "cell_type": "code",
   "execution_count": 26,
   "id": "77fc6065-411d-4277-b207-43e9502dcd69",
   "metadata": {},
   "outputs": [
    {
     "data": {
      "text/plain": [
       "array([0.0221595 , 0.11180646, 0.16648122, 0.20798466, 0.23358073,\n",
       "       0.25332837, 0.27591297, 0.29429556, 0.31320114, 0.33591525])"
      ]
     },
     "execution_count": 26,
     "metadata": {},
     "output_type": "execute_result"
    }
   ],
   "source": [
    "np.mean(np.array(stds_s_mean)/np.array(stimulus_range_s), axis=1)"
   ]
  },
  {
   "cell_type": "code",
   "execution_count": 27,
   "id": "beca836d-e553-4e41-a37b-41ccbe614077",
   "metadata": {},
   "outputs": [
    {
     "data": {
      "text/plain": [
       "array([0.03210604, 0.20469254, 0.24473736, 0.26424769, 0.28990471,\n",
       "       0.29669343, 0.31206937, 0.31534682, 0.32837976, 0.34169726])"
      ]
     },
     "execution_count": 27,
     "metadata": {},
     "output_type": "execute_result"
    }
   ],
   "source": [
    "np.mean(np.array(stds_l_mean)/np.array(stimulus_range_l), axis=1)"
   ]
  },
  {
   "cell_type": "code",
   "execution_count": 20,
   "id": "45830976-68e2-43b5-b142-ce37d6ae0af9",
   "metadata": {},
   "outputs": [
    {
     "data": {
      "text/plain": [
       "0.12134692"
      ]
     },
     "execution_count": 20,
     "metadata": {},
     "output_type": "execute_result"
    }
   ],
   "source": [
    "(0.0978966+0.14479724)/2"
   ]
  },
  {
   "cell_type": "code",
   "execution_count": 28,
   "id": "06d4a2cc-dd15-4fe3-8f59-ae301b856feb",
   "metadata": {
    "tags": []
   },
   "outputs": [
    {
     "data": {
      "text/plain": [
       "<matplotlib.legend.Legend at 0x7f4fdad8cd30>"
      ]
     },
     "execution_count": 28,
     "metadata": {},
     "output_type": "execute_result"
    },
    {
     "data": {
      "image/png": "[encoded data removed]",
      "text/plain": [
       "<Figure size 194.4x72 with 2 Axes>"
      ]
     },
     "metadata": {},
     "output_type": "display_data"
    }
   ],
   "source": [
    "fig, ax = plt.subplots(1,2, sharey=True, sharex=True, figsize=(2.7,1))\n",
    "ax[0].set_prop_cycle(color=colors_short)\n",
    "ax[1].set_prop_cycle(color=colors_long)\n",
    "\n",
    "for lst, stimulus in zip(np.array(stds_s_mean).T, stimulus_range_s):\n",
    "    ax[0].plot(sigma_lst, lst, label=str(stimulus))\n",
    "ax[0].set_title('short range', fontsize=11)\n",
    "ax[0].set_ylabel(r'$\\sigma_{\\mathrm{reproduction}}$')\n",
    "ax[0].set_xlabel(r'$\\sigma$')\n",
    "ax[1].set_xlabel(r'$\\sigma$')\n",
    "\n",
    "for lst, stimulus in zip(np.array(stds_l_mean).T, stimulus_range_l):\n",
    "    ax[1].plot(sigma_lst, lst, label=str(stimulus))\n",
    "ax[1].set_title('long range', fontsize=11)\n",
    "\n",
    "for i in [0,1]:\n",
    "    ax[i].spines['right'].set_visible(False)\n",
    "    ax[i].spines['top'].set_visible(False)\n",
    "\n",
    "ax[1].legend(bbox_to_anchor=(1.42, 0.5), frameon=False,  prop={'size': 3.4})\n",
    "ax[0].legend(bbox_to_anchor=(2.77, 1.3), title='Stimulus',frameon=False,  prop={'size': 3.4})"
   ]
  },
  {
   "cell_type": "code",
   "execution_count": 29,
   "id": "042421dd-490c-47fb-93a0-e8d06d51b80b",
   "metadata": {},
   "outputs": [
    {
     "name": "stdout",
     "output_type": "stream",
     "text": [
      "timeouts: [(400, 0.0), (450, 0.0), (500, 0.0), (550, 0.0), (600, 0.0), (650, 0.04), (700, 0.03)]\n",
      "0.830747032343457\n",
      "timeouts: [(700, 0.0), (750, 0.0), (800, 0.03), (850, 0.03), (900, 0.01), (950, 0.0), (1000, 0.01)]\n",
      "0.6345787619096386\n"
     ]
    },
    {
     "data": {
      "image/png": "[encoded data removed]",
      "text/plain": [
       "<Figure size 180x144 with 1 Axes>"
      ]
     },
     "metadata": {},
     "output_type": "display_data"
    }
   ],
   "source": [
    "np.random.seed(0)\n",
    "params = Params(ntrials=500, delay=700, tau=140, sigma=0.02, th=0.7)\n",
    "expsim = ExperimentSimulation(params)\n",
    "\n",
    "fig, ax = plt.subplots(1,1, figsize=(2.5,2))\n",
    "\n",
    "K = 15\n",
    "exp_result = expsim.simulate(stimulus_lst_short, K)\n",
    "plot = exp_result.create_behavioral_plot()\n",
    "plot.plot_behavior(ax)\n",
    "print(exp_result.create_behavioral_data().slope)\n",
    "\n",
    "np.random.seed(0)\n",
    "K = 10.5\n",
    "exp_result = expsim.simulate(stimulus_lst_long, K)\n",
    "plot = exp_result.create_behavioral_plot()\n",
    "plot.plot_behavior(ax)\n",
    "print(exp_result.create_behavioral_data().slope)\n",
    "\n",
    "ax.set(xlabel='stimulus [ms]', ylabel='reproduction [ms]')\n",
    "ax.spines['right'].set_visible(False)\n",
    "ax.spines['top'].set_visible(False) \n",
    "\n",
    "plt.tight_layout()"
   ]
  },
  {
   "cell_type": "code",
   "execution_count": 30,
   "id": "b26f8efd-a846-46fb-8adb-40663ff29254",
   "metadata": {},
   "outputs": [
    {
     "name": "stdout",
     "output_type": "stream",
     "text": [
      "timeouts: [(400, 0.0), (450, 0.0), (500, 0.0), (550, 0.0), (600, 0.0), (650, 0.0), (700, 0.0)]\n",
      "0.8294691128180514\n",
      "timeouts: [(700, 0.0), (750, 0.0), (800, 0.0), (850, 0.0), (900, 0.0), (950, 0.0), (1000, 0.01)]\n",
      "0.7303142652210977\n"
     ]
    },
    {
     "data": {
      "image/png": "[encoded data removed]",
      "text/plain": [
       "<Figure size 180x144 with 1 Axes>"
      ]
     },
     "metadata": {},
     "output_type": "display_data"
    }
   ],
   "source": [
    "np.random.seed(0)\n",
    "params = Params(ntrials=500, delay=700, tau=140, sigma=0.01, th=0.7)\n",
    "expsim = ExperimentSimulation(params)\n",
    "\n",
    "fig, ax = plt.subplots(1,1, figsize=(2.5,2))\n",
    "\n",
    "K = 15\n",
    "exp_result = expsim.simulate(stimulus_lst_short, K)\n",
    "plot = exp_result.create_behavioral_plot()\n",
    "plot.plot_behavior(ax)\n",
    "print(exp_result.create_behavioral_data().slope)\n",
    "\n",
    "np.random.seed(0)\n",
    "K = 10.5\n",
    "exp_result = expsim.simulate(stimulus_lst_long, K)\n",
    "plot = exp_result.create_behavioral_plot()\n",
    "plot.plot_behavior(ax)\n",
    "print(exp_result.create_behavioral_data().slope)\n",
    "\n",
    "ax.set(xlabel='stimulus [ms]', ylabel='reproduction [ms]')\n",
    "ax.spines['right'].set_visible(False)\n",
    "ax.spines['top'].set_visible(False) \n",
    "\n",
    "plt.tight_layout()"
   ]
  }
 ],
 "metadata": {
  "kernelspec": {
   "display_name": "Python 3 (ipykernel)",
   "language": "python",
   "name": "python3"
  },
  "language_info": {
   "codemirror_mode": {
    "name": "ipython",
    "version": 3
   },
   "file_extension": ".py",
   "mimetype": "text/x-python",
   "name": "python",
   "nbconvert_exporter": "python",
   "pygments_lexer": "ipython3",
   "version": "3.9.7"
  }
 },
 "nbformat": 4,
 "nbformat_minor": 5
}
