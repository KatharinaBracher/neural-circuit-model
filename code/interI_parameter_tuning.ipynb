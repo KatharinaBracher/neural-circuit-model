{
 "cells": [
  {
   "cell_type": "code",
   "execution_count": 10,
   "id": "f590f1db-cab0-4d8a-b190-c3a9d4bd30ee",
   "metadata": {},
   "outputs": [
    {
     "name": "stdout",
     "output_type": "stream",
     "text": [
      "The autoreload extension is already loaded. To reload it, use:\n",
      "  %reload_ext autoreload\n"
     ]
    }
   ],
   "source": [
    "from onetwogo import Params\n",
    "from onetwogo.parallel_simulation import ParallelSimulation\n",
    "from onetwogo.experiment_simulation import ExperimentSimulation\n",
    "from onetwogo.plot import SimulationPlot\n",
    "from onetwogo.plot import BehavioralPlot\n",
    "\n",
    "import numpy as np\n",
    "import seaborn as sns\n",
    "import matplotlib\n",
    "import matplotlib.pyplot as plt\n",
    "from scipy.stats import linregress\n",
    "import pickle\n",
    "\n",
    "import parameter_tuning as pt\n",
    "\n",
    "%load_ext autoreload\n",
    "%autoreload 2"
   ]
  },
  {
   "cell_type": "code",
   "execution_count": 11,
   "id": "79c9b869-13d4-4c0d-bf7f-5b43e893b915",
   "metadata": {},
   "outputs": [],
   "source": [
    "sns.set_style(\"ticks\", {'font.family':'sans-serif', \n",
    "               'font.sans-serif':['CMU Serif'],\n",
    "               'size': 11})"
   ]
  },
  {
   "cell_type": "code",
   "execution_count": 12,
   "id": "4d2aa2b0-4e03-46c9-9f80-e88d95b781a4",
   "metadata": {},
   "outputs": [],
   "source": [
    "import matplotlib as mpl\n",
    "from matplotlib import rc\n",
    "\n",
    "rc('text', usetex=True)\n",
    "font = {'family':'CMU Serif', \n",
    "               #'sans-serif':['Helvetica'],\n",
    "               'size': 11}\n",
    "mpl.rc('font', **font)"
   ]
  },
  {
   "cell_type": "code",
   "execution_count": 13,
   "id": "c7aaaeca-6d8b-4ba2-9d4e-30a250a10436",
   "metadata": {},
   "outputs": [],
   "source": [
    "colors_short = [(0.6196078431372549, 0.00392156862745098, 0.25882352941176473, 1.0),\n",
    " (0.7972318339100346, 0.20092272202998845, 0.3008073817762399, 1.0),\n",
    " (0.9139561707035756, 0.36239907727797, 0.27935409457900806, 1.0),\n",
    " (0.9748558246828143, 0.5574009996155325, 0.32272202998846594, 1.0),\n",
    " (0.9934640522875817, 0.7477124183006535, 0.4352941176470587, 1.0),\n",
    " (0.9966935793925413, 0.8975009611687812, 0.5770857362552863, 1.0),\n",
    " (1.0, 0.9803921568627451, 0.5529411764705883, 1.0)]\n",
    "\n",
    "colors_long = [(1.0, 0.9803921568627451, 0.5529411764705883, 1.0),\n",
    " (0.9173394848135333, 0.9669357939254134, 0.6200692041522493, 1.0),\n",
    " (0.7477124183006538, 0.8980392156862746, 0.6274509803921569, 1.0),\n",
    " (0.5273356401384084, 0.8106113033448674, 0.6452133794694349, 1.0),\n",
    " (0.3280276816608997, 0.6805074971164936, 0.6802768166089965, 1.0),\n",
    " (0.2265282583621684, 0.4938869665513264, 0.7224913494809688, 1.0),\n",
    " (0.3686274509803922, 0.30980392156862746, 0.6352941176470588, 1.0)]"
   ]
  },
  {
   "cell_type": "code",
   "execution_count": 14,
   "id": "5ac28d23-0219-46fd-8438-3e881eb7faf4",
   "metadata": {},
   "outputs": [],
   "source": [
    "PARAMS_DICT = {'Wui': 6,\n",
    "              'Wuv': 6,\n",
    "              'Wvi': 6,\n",
    "              'Wvu': 6,\n",
    "              'dt': 10,\n",
    "              'tau': 100,\n",
    "              'th': 0.1,\n",
    "              'IF': -500,\n",
    "              'uinit': 0.7,\n",
    "              'vinit': 0.2,\n",
    "              'yinit': 0.5,\n",
    "              'Iinit': 1.02,\n",
    "              'first_duration': 750, \n",
    "              'sigma': 0.01, \n",
    "              'ntrials': 500,\n",
    "              'delay': 500}"
   ]
  },
  {
   "cell_type": "code",
   "execution_count": 15,
   "id": "e8b9cdc4-40d8-48ea-9e27-490cb056a019",
   "metadata": {},
   "outputs": [],
   "source": [
    "stimulus_range_s = [400, 450, 500, 550, 600, 650, 700]\n",
    "stimulus_range_l = [700, 750, 800, 850, 900, 950, 1000]\n",
    "stimulus_range = [400, 450, 500, 550, 600, 650, 700, 750, 800, 850, 900, 950, 1000]"
   ]
  },
  {
   "cell_type": "code",
   "execution_count": 16,
   "id": "b34cfb21-ba0e-492e-81b7-4f6bfcd37aa2",
   "metadata": {},
   "outputs": [],
   "source": [
    "stimulus_lst_short = np.loadtxt('stimlst_short_400_700_7_a.txt', dtype=int)\n",
    "stimulus_lst_long = np.loadtxt('stimlst_long_700_1000_7_a.txt', dtype=int)"
   ]
  },
  {
   "cell_type": "markdown",
   "id": "4dc94ece-df03-4852-839c-f9c480bb4fb5",
   "metadata": {},
   "source": [
    "# CV"
   ]
  },
  {
   "cell_type": "code",
   "execution_count": 8,
   "id": "ab5acdc1-fab3-4511-97d5-ee75e7eabe12",
   "metadata": {},
   "outputs": [],
   "source": [
    "sigma_lst = [0,0.01,0.015,0.02,0.025,0.03,0.035,0.04,0.05,0.06,0.07, 0.08, 0.09, 0.1, 0.15, 0.2, 0.25]"
   ]
  },
  {
   "cell_type": "code",
   "execution_count": 11,
   "id": "c8aa7232-24a8-488c-8787-cc0f34b91b45",
   "metadata": {},
   "outputs": [],
   "source": [
    "import matplotlib as mpl\n",
    "jet = cm = plt.get_cmap('Blues') \n",
    "cNorm  = mpl.colors.Normalize(vmin=-5, vmax=len(sigma_lst)-1)\n",
    "scalarMap = mpl.cm.ScalarMappable(norm=cNorm, cmap=jet)\n",
    "\n",
    "colors = []\n",
    "for i in range(len(sigma_lst)):\n",
    "    colors.append(scalarMap.to_rgba(i))"
   ]
  },
  {
   "cell_type": "code",
   "execution_count": 12,
   "id": "f618e1ba-868c-455b-bea5-c0b8441da2ac",
   "metadata": {},
   "outputs": [],
   "source": [
    "K = 8.5\n",
    "\n",
    "stds_s_mean = []\n",
    "for sigma in sigma_lst:\n",
    "    stds_si = []\n",
    "    for i in range(11):\n",
    "        params = Params(ntrials=500, delay=700, tau=100, th=0.7, sigma = sigma)\n",
    "        expsim = ExperimentSimulation(params)\n",
    "        exp_result = expsim.simulate(stimulus_lst_short, K)\n",
    "        beh_result = exp_result.create_behavioral_data()\n",
    "        stds_si.append(beh_result.production_stds)\n",
    "    stds_s_mean.append(np.mean(stds_si, axis=0))"
   ]
  },
  {
   "cell_type": "code",
   "execution_count": 13,
   "id": "cab76d50-c242-45f4-bce9-fbfaf691a389",
   "metadata": {},
   "outputs": [],
   "source": [
    "K = 6\n",
    "stds_l_mean = []\n",
    "\n",
    "for sigma in sigma_lst:\n",
    "    stds_li = []\n",
    "    for i in range(11):\n",
    "        params = Params(ntrials=500, delay=700, tau=100, th=0.7, sigma = sigma)\n",
    "        expsim = ExperimentSimulation(params)\n",
    "        exp_result = expsim.simulate(stimulus_lst_long, K)\n",
    "        beh_result = exp_result.create_behavioral_data()\n",
    "        stds_li.append(beh_result.production_stds)\n",
    "    stds_l_mean.append(np.mean(stds_li, axis=0))"
   ]
  },
  {
   "cell_type": "code",
   "execution_count": 23,
   "id": "85739c2d-b0ca-4118-ba47-d8f6549043ff",
   "metadata": {
    "tags": []
   },
   "outputs": [
    {
     "data": {
      "image/png": "[encoded data removed]",
      "text/plain": [
       "<Figure size 194.4x72 with 2 Axes>"
      ]
     },
     "metadata": {},
     "output_type": "display_data"
    }
   ],
   "source": [
    "fig, ax = plt.subplots(1,2, sharey=True, figsize=(2.7,1))\n",
    "ax[0].set_prop_cycle(color=colors)\n",
    "ax[1].set_prop_cycle(color=colors)\n",
    "\n",
    "for lst, sigma in zip(stds_s_mean, sigma_lst):\n",
    "    ax[0].plot(stimulus_range_s, lst, label=str(sigma))\n",
    "ax[0].set_title('short range', fontsize=11)\n",
    "ax[0].set_ylabel(r'$\\sigma_{\\mathrm{reproduction}}$')\n",
    "ax[0].set_xlabel('stimulus [ms]')\n",
    "ax[1].set_xlabel('stimulus [ms]')\n",
    "\n",
    "for lst, sigma in zip(stds_l_mean, sigma_lst):\n",
    "    ax[1].plot(stimulus_range_l, lst, label=str(sigma))\n",
    "ax[1].set_title('long range',  fontsize=11)\n",
    "\n",
    "for i in [0,1]:\n",
    "    ax[i].spines['right'].set_visible(False)\n",
    "    ax[i].spines['top'].set_visible(False)\n",
    "\n",
    "ax[1].legend(bbox_to_anchor=(1.15, 1.3), title=r'$\\sigma$', frameon=False,  prop={'size': 3.4})\n",
    "\n",
    "plt.savefig('../report/figures/interI_dyn/std.svg', dpi=500, bbox_inches='tight')"
   ]
  },
  {
   "cell_type": "code",
   "execution_count": 40,
   "id": "8cca1164-d1c0-4152-89b9-a381d21d3ae9",
   "metadata": {
    "tags": []
   },
   "outputs": [
    {
     "data": {
      "image/png": "[encoded data removed]",
      "text/plain": [
       "<Figure size 194.4x72 with 2 Axes>"
      ]
     },
     "metadata": {},
     "output_type": "display_data"
    }
   ],
   "source": [
    "fig, ax = plt.subplots(1,2, sharey=True, figsize=(2.7,1))\n",
    "ax[0].set_prop_cycle(color=colors)\n",
    "ax[1].set_prop_cycle(color=colors)\n",
    "\n",
    "for lst, sigma in zip(np.array(stds_s_mean)/np.array(stimulus_range_s), sigma_lst):\n",
    "    ax[0].plot(stimulus_range_s, lst, label=str(sigma))\n",
    "ax[0].set_title('short range', fontsize=11)\n",
    "ax[0].set_ylabel(r'$\\mathrm{CV}$')\n",
    "ax[0].set_xlabel('stimulus [ms]')\n",
    "ax[1].set_xlabel('stimulus [ms]')\n",
    "\n",
    "for lst, sigma in zip(np.array(stds_l_mean)/np.array(stimulus_range_l), sigma_lst):\n",
    "    ax[1].plot(stimulus_range_l, lst, label=str(sigma))\n",
    "ax[1].set_title('long range', fontsize=11)\n",
    "\n",
    "for i in [0,1]:\n",
    "    ax[i].spines['right'].set_visible(False)\n",
    "    ax[i].spines['top'].set_visible(False)\n",
    "\n",
    "ax[1].legend(bbox_to_anchor=(1.15, 1.3), title=r'$\\sigma$', frameon=False,  prop={'size': 3.4})\n",
    "\n",
    "plt.savefig('../report/figures/interI_dyn/CV.svg', dpi=500, bbox_inches='tight')\n",
    "plt.savefig('../report/figures/interI_dyn/CV.pdf', dpi=500, bbox_inches='tight')"
   ]
  },
  {
   "cell_type": "code",
   "execution_count": 21,
   "id": "131161c4-2f37-4b0b-bcce-9fc00b0036df",
   "metadata": {},
   "outputs": [
    {
     "data": {
      "text/plain": [
       "array([0.0221595 , 0.05413294, 0.07651025, 0.0978966 , 0.1190951 ,\n",
       "       0.14214152, 0.15060981, 0.1696788 , 0.2007554 , 0.22077025,\n",
       "       0.23837044, 0.25555949, 0.26796454, 0.29003393, 0.32913087,\n",
       "       0.34300797, 0.35396547])"
      ]
     },
     "execution_count": 21,
     "metadata": {},
     "output_type": "execute_result"
    }
   ],
   "source": [
    "np.mean(np.array(stds_s_mean)/np.array(stimulus_range_s), axis=1)"
   ]
  },
  {
   "cell_type": "code",
   "execution_count": 22,
   "id": "049a95a9-e454-4def-92be-9127a73f9254",
   "metadata": {},
   "outputs": [
    {
     "data": {
      "text/plain": [
       "array([0.03210604, 0.09439817, 0.12511334, 0.14479724, 0.16545488,\n",
       "       0.18226704, 0.19622793, 0.20620773, 0.21729895, 0.23649206,\n",
       "       0.23793532, 0.2458915 , 0.2505616 , 0.260644  , 0.28594219,\n",
       "       0.2919264 , 0.28925909])"
      ]
     },
     "execution_count": 22,
     "metadata": {},
     "output_type": "execute_result"
    }
   ],
   "source": [
    "np.mean(np.array(stds_l_mean)/np.array(stimulus_range_l), axis=1)"
   ]
  },
  {
   "cell_type": "code",
   "execution_count": 20,
   "id": "99335ade-0211-4c96-bca6-4489ff839599",
   "metadata": {},
   "outputs": [
    {
     "data": {
      "text/plain": [
       "0.12134692"
      ]
     },
     "execution_count": 20,
     "metadata": {},
     "output_type": "execute_result"
    }
   ],
   "source": [
    "(0.0978966+0.14479724)/2"
   ]
  },
  {
   "cell_type": "code",
   "execution_count": 39,
   "id": "8b07f6e7-84d1-4349-ad84-8115136c2c7a",
   "metadata": {
    "tags": []
   },
   "outputs": [
    {
     "data": {
      "image/png": "[encoded data removed]",
      "text/plain": [
       "<Figure size 194.4x72 with 2 Axes>"
      ]
     },
     "metadata": {},
     "output_type": "display_data"
    }
   ],
   "source": [
    "fig, ax = plt.subplots(1,2, sharey=True, sharex=True, figsize=(2.7,1))\n",
    "ax[0].set_prop_cycle(color=colors_short)\n",
    "ax[1].set_prop_cycle(color=colors_long)\n",
    "\n",
    "for lst, stimulus in zip(np.array(stds_s_mean).T, stimulus_range_s):\n",
    "    ax[0].plot(sigma_lst, lst, label=str(stimulus))\n",
    "ax[0].set_title('short range', fontsize=11)\n",
    "ax[0].set_ylabel(r'$\\sigma_{\\mathrm{reproduction}}$')\n",
    "ax[0].set_xlabel(r'$\\sigma$')\n",
    "ax[1].set_xlabel(r'$\\sigma$')\n",
    "\n",
    "for lst, stimulus in zip(np.array(stds_l_mean).T, stimulus_range_l):\n",
    "    ax[1].plot(sigma_lst, lst, label=str(stimulus))\n",
    "ax[1].set_title('long range', fontsize=11)\n",
    "\n",
    "for i in [0,1]:\n",
    "    ax[i].spines['right'].set_visible(False)\n",
    "    ax[i].spines['top'].set_visible(False)\n",
    "\n",
    "ax[1].legend(bbox_to_anchor=(1.42, 0.5), frameon=False,  prop={'size': 3.4})\n",
    "ax[0].legend(bbox_to_anchor=(2.77, 1.3), title='Stimulus',frameon=False,  prop={'size': 3.4})\n",
    "plt.savefig('../report/figures/interI_dyn/std_stim.svg', dpi=500, bbox_inches='tight')"
   ]
  },
  {
   "cell_type": "markdown",
   "id": "4a822060-a3e3-4a85-be91-91ec410b07e5",
   "metadata": {},
   "source": [
    "# Parameter Space (K 1-18, sigma = 0.02)"
   ]
  },
  {
   "cell_type": "code",
   "execution_count": 17,
   "id": "96ce0e29-725b-4358-914d-9789bea11787",
   "metadata": {},
   "outputs": [
    {
     "name": "stdout",
     "output_type": "stream",
     "text": [
      "34 13\n"
     ]
    }
   ],
   "source": [
    "K_lst = np.arange(1, 18, 0.5)\n",
    "tau = np.arange(60, 190, 10)\n",
    "\n",
    "print(len(K_lst), len(tau))"
   ]
  },
  {
   "cell_type": "code",
   "execution_count": 18,
   "id": "c1e4ec68-52e5-46f3-a0c1-79635efd9659",
   "metadata": {
    "tags": []
   },
   "outputs": [],
   "source": [
    "path = '../results/intermediateI/'\n",
    "short_ktau065, long_ktau065 = pt.load_data(path+'SHORT_K1-18TAU_th065_del700_sig02_fixed_seed-20220728-113920-output.pickle',\n",
    "                                      path+'LONG_K1-18TAU_th065_del700_sig02_fixed_seed-20220728-111650-output.pickle')\n",
    "short_ktau07, long_ktau07 = pt.load_data(path+'SHORT_K1-18TAU_th07_del700_sig02_fixed_seed-20220728-120026-output.pickle', \n",
    "                                      path+'LONG_K1-18TAU_th07_del700_sig02_fixed_seed-20220728-121929-output.pickle')\n",
    "short_ktau075, long_ktau075 = pt.load_data(path+'SHORT_K1-18TAU_th075_del700_sig02_fixed_seed-20220728-134030-output.pickle', \n",
    "                                      path+'LONG_K1-18TAU_th075_del700_sig02_fixed_seed-20220728-124551-output.pickle')"
   ]
  },
  {
   "cell_type": "markdown",
   "id": "ec20fe66-3eaf-4673-8734-1c85fc2de49f",
   "metadata": {},
   "source": [
    "# INDIFFERENCE POINT"
   ]
  },
  {
   "cell_type": "code",
   "execution_count": 58,
   "id": "1387bcbb-edc5-48c1-babc-d172f65bf7ad",
   "metadata": {
    "tags": []
   },
   "outputs": [
    {
     "name": "stdout",
     "output_type": "stream",
     "text": [
      "threshold 0.75\n",
      "-18132.02694877189 9070.892965574652\n",
      "threshold 0.7\n",
      "-6787.037521142813 11230.554170025694\n",
      "threshold 0.65\n",
      "-50162.39926356445 32940.64559699417\n"
     ]
    },
    {
     "data": {
      "image/png": "[encoded data removed]",
      "text/plain": [
       "<Figure size 360x144 with 3 Axes>"
      ]
     },
     "metadata": {},
     "output_type": "display_data"
    },
    {
     "data": {
      "image/png": "[encoded data removed]",
      "text/plain": [
       "<Figure size 360x144 with 3 Axes>"
      ]
     },
     "metadata": {},
     "output_type": "display_data"
    },
    {
     "data": {
      "image/png": "[encoded data removed]",
      "text/plain": [
       "<Figure size 360x144 with 3 Axes>"
      ]
     },
     "metadata": {},
     "output_type": "display_data"
    }
   ],
   "source": [
    "print('threshold', 0.75)\n",
    "pt.plot_ind_point(short_ktau075, long_ktau075, K_lst, tau)\n",
    "print('threshold', 0.7)\n",
    "pt.plot_ind_point(short_ktau07, long_ktau07, K_lst, tau)\n",
    "print('threshold', 0.65)\n",
    "pt.plot_ind_point(short_ktau065, long_ktau065, K_lst, tau)"
   ]
  },
  {
   "cell_type": "markdown",
   "id": "bb719f82-d287-4a78-a908-8e8c03719e53",
   "metadata": {},
   "source": [
    "# SLOPE"
   ]
  },
  {
   "cell_type": "code",
   "execution_count": 6,
   "id": "89ffbe8e-46ff-4b08-b9da-0d131c8da35e",
   "metadata": {
    "tags": []
   },
   "outputs": [
    {
     "name": "stdout",
     "output_type": "stream",
     "text": [
      "threshold 0.75\n",
      "-0.23844927974144484 1.20963144485069\n",
      "threshold 0.7\n",
      "-0.24175631669511818 1.3650564680526647\n",
      "threshold 0.65\n",
      "-0.2791215657637044 1.4505708361026972\n"
     ]
    },
    {
     "data": {
      "image/png": "[encoded data removed]",
      "text/plain": [
       "<Figure size 288x115.2 with 3 Axes>"
      ]
     },
     "metadata": {},
     "output_type": "display_data"
    },
    {
     "data": {
      "image/png": "[encoded data removed]",
      "text/plain": [
       "<Figure size 288x115.2 with 3 Axes>"
      ]
     },
     "metadata": {},
     "output_type": "display_data"
    },
    {
     "data": {
      "image/png": "[encoded data removed]",
      "text/plain": [
       "<Figure size 288x115.2 with 3 Axes>"
      ]
     },
     "metadata": {},
     "output_type": "display_data"
    }
   ],
   "source": [
    "print('threshold', 0.75)\n",
    "pt.plot_slope_behavior(short_ktau075, long_ktau075, K_lst, tau)\n",
    "plt.savefig('../report/figures/interI_params/slope75.svg',  bbox_inches='tight')\n",
    "print('threshold', 0.7)\n",
    "pt.plot_slope_behavior(short_ktau07, long_ktau07, K_lst, tau)\n",
    "plt.savefig('../report/figures/interI_params/slope7.svg',  bbox_inches='tight')\n",
    "print('threshold', 0.65)\n",
    "pt.plot_slope_behavior(short_ktau065, long_ktau065, K_lst, tau)\n",
    "plt.savefig('../report/figures/interI_params/slope65.svg',  bbox_inches='tight')"
   ]
  },
  {
   "cell_type": "code",
   "execution_count": 61,
   "id": "140d5cbc-6a82-4740-a721-c285c3380557",
   "metadata": {},
   "outputs": [
    {
     "name": "stdout",
     "output_type": "stream",
     "text": [
      "short\n",
      "['5.5,60' '6.0,70' '6.5,80' '7.5,90' '8.5,100' '9.0,100' '10.0,110'\n",
      " '10.5,110' '11.5,120' '12.0,120' '13.0,130' '13.5,130' '14.0,130'\n",
      " '15.0,140' '15.5,140' '16.0,140' '17.0,150' '17.5,150']\n",
      "long\n",
      "['8.0,90' '8.0,100' '8.5,90' '8.5,110' '9.0,110' '9.0,120' '9.5,120'\n",
      " '9.5,130' '10.0,130' '10.5,140' '11.0,140' '11.5,150' '12.0,150'\n",
      " '12.5,160' '13.0,160' '13.5,160' '14.0,170' '14.5,170' '15.0,170'\n",
      " '15.0,180' '15.5,180' '16.0,180' '16.5,180']\n"
     ]
    }
   ],
   "source": [
    "pt.parameter_behavioural_plausible(short_ktau07, long_ktau07, K_lst, tau)"
   ]
  },
  {
   "cell_type": "code",
   "execution_count": 45,
   "id": "408ae959-4432-4443-ba18-b3c0673eb275",
   "metadata": {},
   "outputs": [
    {
     "name": "stdout",
     "output_type": "stream",
     "text": [
      "timeouts: [(400, 0.0), (450, 0.0), (500, 0.0), (550, 0.0), (600, 0.0), (650, 0.0), (700, 0.0)]\n",
      "0.773006017456745\n",
      "timeouts: [(700, 0.0), (750, 0.0), (800, 0.0), (850, 0.0), (900, 0.0), (950, 0.0), (1000, 0.0)]\n",
      "0.6924981328927253\n"
     ]
    },
    {
     "data": {
      "image/png": "[encoded data removed]",
      "text/plain": [
       "<Figure size 180x144 with 1 Axes>"
      ]
     },
     "metadata": {},
     "output_type": "display_data"
    }
   ],
   "source": [
    "np.random.seed(0)\n",
    "params = Params(ntrials=500, delay=700, tau=140, sigma=0.02, th=0.7)\n",
    "expsim = ExperimentSimulation(params)\n",
    "\n",
    "fig, ax = plt.subplots(1,1, figsize=(2.5,2))\n",
    "\n",
    "K = 15\n",
    "exp_result = expsim.simulate(stimulus_lst_short, K)\n",
    "plot = exp_result.create_behavioral_plot()\n",
    "plot.plot_behavior(ax)\n",
    "print(exp_result.create_behavioral_data().slope)\n",
    "\n",
    "np.random.seed(0)\n",
    "K = 10.5\n",
    "exp_result = expsim.simulate(stimulus_lst_long, K)\n",
    "plot = exp_result.create_behavioral_plot()\n",
    "plot.plot_behavior(ax)\n",
    "print(exp_result.create_behavioral_data().slope)\n",
    "\n",
    "ax.set(xlabel='stimulus [ms]', ylabel='reproduction [ms]')\n",
    "ax.spines['right'].set_visible(False)\n",
    "ax.spines['top'].set_visible(False) \n",
    "\n",
    "plt.tight_layout()\n",
    "plt.savefig('../report/figures/interI_params/slope7_beh140.svg', dpi=500, bbox_inches='tight')"
   ]
  },
  {
   "cell_type": "markdown",
   "id": "54c11494-b5a3-4c29-a965-d88d425e8ec1",
   "metadata": {},
   "source": [
    "# MSE = BIAS2 + VAR"
   ]
  },
  {
   "cell_type": "code",
   "execution_count": 7,
   "id": "74fe6341-3629-4c18-9559-ece6cacdd66d",
   "metadata": {
    "tags": []
   },
   "outputs": [
    {
     "name": "stdout",
     "output_type": "stream",
     "text": [
      "threshold 0.75\n",
      "3748.532114119628 120043.754850718\n",
      "130 16.0\n",
      "[(60, 5.5), (70, 5.0), (80, 6.5), (90, 8.0), (100, 10.5), (110, 12.0), (120, 14.0), (130, 16.0), (140, 17.5), (150, 17.5), (160, 17.5), (170, 17.5), (180, 17.5)]\n",
      "180 17.5\n",
      "[(60, 1.5), (70, 1.5), (80, 1.0), (90, 2.5), (100, 5.0), (110, 5.5), (120, 6.0), (130, 10.5), (140, 13.5), (150, 14.0), (160, 14.5), (170, 17.5), (180, 17.5)]\n",
      "short\n",
      "['7.5,70' '8.0,70' '8.5,80' '9.0,80' '9.5,90' '10.0,90' '11.0,100'\n",
      " '11.5,100' '12.5,110' '13.0,110' '13.5,110' '14.5,120' '15.0,120'\n",
      " '15.5,120' '17.0,130' '17.5,130']\n",
      "long\n",
      "['11.0,100' '11.5,100' '11.5,110' '12.0,100' '12.0,120' '12.5,120'\n",
      " '12.5,130' '13.0,130' '13.5,130' '13.5,140' '14.0,140' '14.5,140'\n",
      " '14.5,150' '15.0,150' '15.5,150' '16.0,160' '16.5,160' '17.0,160'\n",
      " '17.0,170' '17.5,170']\n"
     ]
    },
    {
     "data": {
      "image/png": "[encoded data removed]",
      "text/plain": [
       "<Figure size 288x115.2 with 3 Axes>"
      ]
     },
     "metadata": {},
     "output_type": "display_data"
    }
   ],
   "source": [
    "print('threshold', 0.75)\n",
    "pt.plot_mse(short_ktau075, long_ktau075, K_lst, tau)\n",
    "print(pt.get_opt_K(short_ktau075, K_lst, tau, mse=True))\n",
    "print(pt.get_opt_K(long_ktau075, K_lst, tau, mse=True))\n",
    "pt.parameter_behavioural_plausible(short_ktau075, long_ktau075, K_lst, tau)\n",
    "plt.savefig('../report/figures/interI_params/mse75.svg', dpi=500, bbox_inches='tight')"
   ]
  },
  {
   "cell_type": "code",
   "execution_count": 12,
   "id": "859a793c-70a7-479f-8956-7d50dd774638",
   "metadata": {},
   "outputs": [
    {
     "name": "stdout",
     "output_type": "stream",
     "text": [
      "timeouts: [(400, 0.0), (450, 0.0), (500, 0.0), (550, 0.0), (600, 0.0), (650, 0.0), (700, 0.0)]\n",
      "0.7355977664088119\n",
      "timeouts: [(700, 0.0), (750, 0.0), (800, 0.0), (850, 0.0), (900, 0.0), (950, 0.0), (1000, 0.0)]\n",
      "0.568598882774988\n"
     ]
    },
    {
     "data": {
      "image/png": "[encoded data removed]",
      "text/plain": [
       "<Figure size 180x144 with 1 Axes>"
      ]
     },
     "metadata": {},
     "output_type": "display_data"
    }
   ],
   "source": [
    "np.random.seed(0)\n",
    "params = Params(ntrials=500, delay=700, tau=130, sigma=0.02, th=0.75)\n",
    "expsim = ExperimentSimulation(params)\n",
    "\n",
    "fig, ax = plt.subplots(1,1, figsize=(2.5,2))\n",
    "\n",
    "K = 16\n",
    "exp_result = expsim.simulate(stimulus_lst_short, K)\n",
    "plot = exp_result.create_behavioral_plot()\n",
    "plot.plot_behavior(ax)\n",
    "print(exp_result.create_behavioral_data().slope)\n",
    "\n",
    "np.random.seed(0)\n",
    "K = 10.5\n",
    "exp_result = expsim.simulate(stimulus_lst_long, K)\n",
    "plot = exp_result.create_behavioral_plot()\n",
    "plot.plot_behavior(ax)\n",
    "print(exp_result.create_behavioral_data().slope)\n",
    "\n",
    "ax.set(xlabel='stimulus [ms]', ylabel='reproduction [ms]')\n",
    "ax.spines['right'].set_visible(False)\n",
    "ax.spines['top'].set_visible(False) \n",
    "\n",
    "plt.tight_layout()\n",
    "plt.savefig('../report/figures/interI_params/mse75_beh120.svg', dpi=500, bbox_inches='tight')"
   ]
  },
  {
   "cell_type": "code",
   "execution_count": 14,
   "id": "783fe3f0-b7a3-4d2e-9db3-20755e8b1f73",
   "metadata": {
    "tags": []
   },
   "outputs": [
    {
     "name": "stdout",
     "output_type": "stream",
     "text": [
      "threshold 0.7\n",
      "3351.702340621643 103081.51016117324\n",
      "120 11.0\n",
      "[(60, 3.5), (70, 4.5), (80, 5.5), (90, 7.0), (100, 8.5), (110, 9.5), (120, 11.0), (130, 13.0), (140, 14.0), (150, 16.5), (160, 17.5), (170, 17.5), (180, 17.5)]\n",
      "180 16.5\n",
      "[(60, 1.0), (70, 1.0), (80, 2.5), (90, 3.5), (100, 4.0), (110, 4.5), (120, 7.0), (130, 10.0), (140, 10.5), (150, 12.0), (160, 13.5), (170, 15.5), (180, 16.5)]\n",
      "short\n",
      "['5.5,60' '6.0,70' '6.5,80' '7.5,90' '8.5,100' '9.0,100' '10.0,110'\n",
      " '10.5,110' '11.5,120' '12.0,120' '13.0,130' '13.5,130' '14.0,130'\n",
      " '15.0,140' '15.5,140' '16.0,140' '17.0,150' '17.5,150']\n",
      "long\n",
      "['8.0,90' '8.0,100' '8.5,90' '8.5,110' '9.0,110' '9.0,120' '9.5,120'\n",
      " '9.5,130' '10.0,130' '10.5,140' '11.0,140' '11.5,150' '12.0,150'\n",
      " '12.5,160' '13.0,160' '13.5,160' '14.0,170' '14.5,170' '15.0,170'\n",
      " '15.0,180' '15.5,180' '16.0,180' '16.5,180']\n"
     ]
    },
    {
     "data": {
      "image/png": "[encoded data removed]",
      "text/plain": [
       "<Figure size 288x115.2 with 3 Axes>"
      ]
     },
     "metadata": {},
     "output_type": "display_data"
    }
   ],
   "source": [
    "print('threshold', 0.7)\n",
    "pt.plot_mse(short_ktau07, long_ktau07, K_lst, tau)\n",
    "plt.savefig('../report/figures/interI_params/mse7.svg', dpi=500, bbox_inches='tight')\n",
    "print(pt.get_opt_K(short_ktau07, K_lst, tau, mse=True))\n",
    "print(pt.get_opt_K(long_ktau07, K_lst, tau, mse=True))\n",
    "pt.parameter_behavioural_plausible(short_ktau07, long_ktau07, K_lst, tau)"
   ]
  },
  {
   "cell_type": "code",
   "execution_count": 16,
   "id": "81ff8be0-2af9-4940-a1c5-5bc348875132",
   "metadata": {
    "tags": []
   },
   "outputs": [
    {
     "name": "stdout",
     "output_type": "stream",
     "text": [
      "timeouts: [(400, 0.0), (450, 0.0), (500, 0.0), (550, 0.0), (600, 0.0), (650, 0.0), (700, 0.0)]\n",
      "0.7474338163986581\n",
      "timeouts: [(700, 0.0), (750, 0.0), (800, 0.0), (850, 0.0), (900, 0.0), (950, 0.0), (1000, 0.0)]\n",
      "0.5028920853674232\n"
     ]
    },
    {
     "data": {
      "image/png": "[encoded data removed]",
      "text/plain": [
       "<Figure size 180x144 with 1 Axes>"
      ]
     },
     "metadata": {},
     "output_type": "display_data"
    }
   ],
   "source": [
    "np.random.seed(0)\n",
    "params = Params(ntrials=500, delay=700, tau=120, sigma=0.02, th=0.7)\n",
    "expsim = ExperimentSimulation(params)\n",
    "\n",
    "fig, ax = plt.subplots(1,1, figsize=(2.5,2))\n",
    "\n",
    "K = 11\n",
    "exp_result = expsim.simulate(stimulus_lst_short, K)\n",
    "plot = exp_result.create_behavioral_plot()\n",
    "plot.plot_behavior(ax)\n",
    "print(exp_result.create_behavioral_data().slope)\n",
    "\n",
    "np.random.seed(0)\n",
    "K = 7\n",
    "exp_result = expsim.simulate(stimulus_lst_long, K)\n",
    "plot = exp_result.create_behavioral_plot()\n",
    "plot.plot_behavior(ax)\n",
    "print(exp_result.create_behavioral_data().slope)\n",
    "\n",
    "ax.set(xlabel='stimulus [ms]', ylabel='reproduction [ms]')\n",
    "ax.spines['right'].set_visible(False)\n",
    "ax.spines['top'].set_visible(False) \n",
    "\n",
    "plt.tight_layout()\n",
    "plt.savefig('../report/figures/interI_params/mse7_beh120.svg', dpi=500, bbox_inches='tight')"
   ]
  },
  {
   "cell_type": "code",
   "execution_count": 9,
   "id": "80145d1c-90bd-4b0b-ac3e-4da5edc759cc",
   "metadata": {},
   "outputs": [
    {
     "name": "stdout",
     "output_type": "stream",
     "text": [
      "timeouts: [(400, 0.0), (450, 0.0), (500, 0.0), (550, 0.0), (600, 0.0), (650, 0.0), (700, 0.0)]\n",
      "0.7712727139927705\n",
      "timeouts: [(700, 0.0), (750, 0.0), (800, 0.0), (850, 0.0), (900, 0.0), (950, 0.0), (1000, 0.0)]\n",
      "0.7293959652015919\n"
     ]
    },
    {
     "data": {
      "image/png": "[encoded data removed]",
      "text/plain": [
       "<Figure size 180x144 with 1 Axes>"
      ]
     },
     "metadata": {},
     "output_type": "display_data"
    }
   ],
   "source": [
    "np.random.seed(0)\n",
    "params = Params(ntrials=500, delay=700, tau=130, sigma=0.02, th=0.7)\n",
    "expsim = ExperimentSimulation(params)\n",
    "\n",
    "fig, ax = plt.subplots(1,1, figsize=(2.5,2))\n",
    "\n",
    "K = 13\n",
    "exp_result = expsim.simulate(stimulus_lst_short, K)\n",
    "plot = exp_result.create_behavioral_plot()\n",
    "plot.plot_behavior(ax)\n",
    "print(exp_result.create_behavioral_data().slope)\n",
    "\n",
    "np.random.seed(0)\n",
    "K = 10\n",
    "exp_result = expsim.simulate(stimulus_lst_long, K)\n",
    "plot = exp_result.create_behavioral_plot()\n",
    "plot.plot_behavior(ax)\n",
    "print(exp_result.create_behavioral_data().slope)\n",
    "\n",
    "ax.set(xlabel='stimulus [ms]', ylabel='reproduction [ms]')\n",
    "ax.spines['right'].set_visible(False)\n",
    "ax.spines['top'].set_visible(False) \n",
    "\n",
    "plt.tight_layout()\n",
    "plt.savefig('../report/figures/interI_params/mse7_beh130_slope.svg', dpi=500, bbox_inches='tight')"
   ]
  },
  {
   "cell_type": "code",
   "execution_count": 33,
   "id": "8c6ae095-90f9-41a9-852f-d7d90cfb1594",
   "metadata": {},
   "outputs": [
    {
     "data": {
      "text/plain": [
       "{'range': 'long',\n",
       " 'K': 10.0,\n",
       " 'tau': 130,\n",
       " 'threshold': 0.7,\n",
       " 'delay': 700,\n",
       " 'sigma': 0.02,\n",
       " 'slope': 0.7293959652015919,\n",
       " 'production_stds': [65.50082385354447,\n",
       "  79.49906943365015,\n",
       "  70.93310923776968,\n",
       "  98.89841747366472,\n",
       "  107.78594880905352,\n",
       "  132.3934578506842,\n",
       "  136.40122068981302],\n",
       " 'ind_point': 710.2088127992416,\n",
       " 'bias2': 2269.452515607188,\n",
       " 'bias': -37.828059285784725,\n",
       " 'var': 10453.427768463129,\n",
       " 'MSE': 598084.712,\n",
       " 'seed': 0}"
      ]
     },
     "execution_count": 33,
     "metadata": {},
     "output_type": "execute_result"
    }
   ],
   "source": [
    "long_ktau07[241]"
   ]
  },
  {
   "cell_type": "code",
   "execution_count": 46,
   "id": "f0a0c8f5-489a-4220-9d21-c032f795fba5",
   "metadata": {},
   "outputs": [
    {
     "name": "stdout",
     "output_type": "stream",
     "text": [
      "timeouts: [(400, 0.0), (450, 0.0), (500, 0.0), (550, 0.0), (600, 0.0), (650, 0.0), (700, 0.0)]\n",
      "0.7071948060153771\n",
      "timeouts: [(700, 0.0), (750, 0.0), (800, 0.0), (850, 0.0), (900, 0.0), (950, 0.0), (1000, 0.0)]\n",
      "0.6924981328927253\n"
     ]
    },
    {
     "data": {
      "image/png": "[encoded data removed]",
      "text/plain": [
       "<Figure size 180x144 with 1 Axes>"
      ]
     },
     "metadata": {},
     "output_type": "display_data"
    }
   ],
   "source": [
    "np.random.seed(0)\n",
    "params = Params(ntrials=500, delay=700, tau=140, sigma=0.02, th=0.7)\n",
    "expsim = ExperimentSimulation(params)\n",
    "\n",
    "fig, ax = plt.subplots(1,1, figsize=(2.5,2))\n",
    "\n",
    "K = 14\n",
    "exp_result = expsim.simulate(stimulus_lst_short, K)\n",
    "plot = exp_result.create_behavioral_plot()\n",
    "plot.plot_behavior(ax)\n",
    "print(exp_result.create_behavioral_data().slope)\n",
    "\n",
    "np.random.seed(0)\n",
    "K = 10.5\n",
    "exp_result = expsim.simulate(stimulus_lst_long, K)\n",
    "plot = exp_result.create_behavioral_plot()\n",
    "plot.plot_behavior(ax)\n",
    "print(exp_result.create_behavioral_data().slope)\n",
    "\n",
    "ax.set(xlabel='stimulus [ms]', ylabel='reproduction [ms]')\n",
    "ax.spines['right'].set_visible(False)\n",
    "ax.spines['top'].set_visible(False) \n",
    "\n",
    "plt.tight_layout()\n",
    "plt.savefig('../report/figures/interI_params/mse7_beh140.svg', dpi=500, bbox_inches='tight')"
   ]
  },
  {
   "cell_type": "code",
   "execution_count": 74,
   "id": "df2cd43c-1b63-4e6f-91d6-07ba3f74a1cb",
   "metadata": {},
   "outputs": [
    {
     "name": "stdout",
     "output_type": "stream",
     "text": [
      "timeouts: [(400, 0.0), (450, 0.0), (500, 0.0), (550, 0.0), (600, 0.0), (650, 0.0), (700, 0.0)]\n",
      "0.7328294090398939\n",
      "timeouts: [(700, 0.0), (750, 0.0), (800, 0.0), (850, 0.0), (900, 0.0), (950, 0.0), (1000, 0.0)]\n",
      "0.6565610175274041\n"
     ]
    },
    {
     "data": {
      "image/png": "[encoded data removed]",
      "text/plain": [
       "<Figure size 180x144 with 1 Axes>"
      ]
     },
     "metadata": {},
     "output_type": "display_data"
    }
   ],
   "source": [
    "np.random.seed(0)\n",
    "params = Params(ntrials=500, delay=700, tau=140, sigma=0.02, th=0.7)\n",
    "expsim = ExperimentSimulation(params)\n",
    "\n",
    "fig, ax = plt.subplots(1,1, figsize=(2.5,2))\n",
    "\n",
    "K = 14.5\n",
    "exp_result = expsim.simulate(stimulus_lst_short, K)\n",
    "plot = exp_result.create_behavioral_plot()\n",
    "plot.plot_behavior(ax)\n",
    "print(exp_result.create_behavioral_data().slope)\n",
    "\n",
    "np.random.seed(0)\n",
    "K = 10\n",
    "exp_result = expsim.simulate(stimulus_lst_long, K)\n",
    "plot = exp_result.create_behavioral_plot()\n",
    "plot.plot_behavior(ax)\n",
    "print(exp_result.create_behavioral_data().slope)\n",
    "\n",
    "ax.set(xlabel='stimulus [ms]', ylabel='reproduction [ms]')\n",
    "ax.spines['right'].set_visible(False)\n",
    "ax.spines['top'].set_visible(False) \n",
    "\n",
    "plt.tight_layout()\n",
    "plt.savefig('../report/figures/interI_params/mse7_beh140_Kmean.svg', dpi=500, bbox_inches='tight')"
   ]
  },
  {
   "cell_type": "code",
   "execution_count": 11,
   "id": "d85b1690-3674-4e94-97b0-b25595f5e776",
   "metadata": {},
   "outputs": [
    {
     "data": {
      "image/png": "[encoded data removed]",
      "text/plain": [
       "<Figure size 144x72 with 2 Axes>"
      ]
     },
     "metadata": {},
     "output_type": "display_data"
    }
   ],
   "source": [
    "params = Params(ntrials=500, delay=700, tau=130, sigma=0.02, th=0.7)\n",
    "expsim = ExperimentSimulation(params)\n",
    "\n",
    "np.random.seed(0)\n",
    "K = 13\n",
    "exp_resultS = expsim.simulate(stimulus_lst_short, K).crate_behavioral_plot_data()\n",
    "np.random.seed(0)\n",
    "K = 10\n",
    "exp_resultL = expsim.simulate(stimulus_lst_long, K).crate_behavioral_plot_data()\n",
    "\n",
    "fig, ax = plt.subplots(1,2, sharey=True, figsize=(2.,1))\n",
    "\n",
    "ax[0].plot(stimulus_range_s, exp_resultS.production_stds, c='k')\n",
    "ax[0].set_title('short range', fontsize=11)\n",
    "ax[0].set_ylabel(r'$\\sigma_{\\mathrm{reproduction}}$')\n",
    "ax[0].set_xlabel('stimulus [ms]')\n",
    "ax[1].set_xlabel('stimulus [ms]')\n",
    "ax[1].plot(stimulus_range_l, exp_resultL.production_stds, c='grey')\n",
    "ax[1].set_title('long range',  fontsize=11)\n",
    "\n",
    "for i in [0,1]:\n",
    "    ax[i].spines['right'].set_visible(False)\n",
    "    ax[i].spines['top'].set_visible(False)\n",
    "\n",
    "#plt.tight_layout()\n",
    "plt.savefig('../report/figures/interI_params/std130.svg', dpi=500, bbox_inches='tight')"
   ]
  },
  {
   "cell_type": "code",
   "execution_count": 73,
   "id": "a0a766bf-d2c0-4ea8-8217-a4403b63c4e4",
   "metadata": {},
   "outputs": [
    {
     "name": "stdout",
     "output_type": "stream",
     "text": [
      "0.08563928264326777\n",
      "0.10538560057129209\n"
     ]
    }
   ],
   "source": [
    "print(np.mean(np.array(exp_resultS.production_stds)/np.array(stimulus_range_s)))\n",
    "print(np.mean(np.array(exp_resultL.production_stds)/np.array(stimulus_range_l)))"
   ]
  },
  {
   "cell_type": "code",
   "execution_count": 67,
   "id": "4231184a-ed96-4772-90fb-8d30b68daefd",
   "metadata": {},
   "outputs": [
    {
     "data": {
      "image/png": "[encoded data removed]",
      "text/plain": [
       "<Figure size 144x72 with 2 Axes>"
      ]
     },
     "metadata": {},
     "output_type": "display_data"
    }
   ],
   "source": [
    "fig, ax = plt.subplots(1,2, sharey=True, figsize=(2.,1))\n",
    "\n",
    "ax[0].plot(stimulus_range_s, np.array(exp_resultS.production_stds)/np.array(stimulus_range_s), c='k')\n",
    "ax[0].set_title('short range', fontsize=11)\n",
    "ax[0].set_ylabel(r'$\\sigma_{\\mathrm{reproduction}}$')\n",
    "ax[0].set_xlabel('stimulus [ms]')\n",
    "ax[1].set_xlabel('stimulus [ms]')\n",
    "ax[1].plot(stimulus_range_l, np.array(exp_resultL.production_stds)/np.array(stimulus_range_l), c='grey')\n",
    "ax[1].set_title('long range',  fontsize=11)\n",
    "\n",
    "for i in [0,1]:\n",
    "    ax[i].spines['right'].set_visible(False)\n",
    "    ax[i].spines['top'].set_visible(False)\n"
   ]
  },
  {
   "cell_type": "code",
   "execution_count": 18,
   "id": "5a747e79-e15d-4bf7-952e-cfbbeecd810a",
   "metadata": {
    "tags": []
   },
   "outputs": [
    {
     "name": "stdout",
     "output_type": "stream",
     "text": [
      "threshold 0.65\n",
      "3170.3196620991193 82909.48408839782\n",
      "110 8.0\n",
      "[(60, 3.0), (70, 4.0), (80, 5.0), (90, 6.0), (100, 7.0), (110, 8.0), (120, 9.0), (130, 10.5), (140, 12.0), (150, 14.0), (160, 15.5), (170, 17.0), (180, 17.5)]\n",
      "180 15.0\n",
      "[(60, 1.0), (70, 1.5), (80, 2.0), (90, 2.5), (100, 4.0), (110, 5.5), (120, 7.0), (130, 7.5), (140, 10.0), (150, 10.5), (160, 12.5), (170, 13.0), (180, 15.0)]\n",
      "short\n",
      "['4.5,60' '4.5,70' '5.5,80' '6.5,90' '7.5,100' '8.5,110' '9.0,110'\n",
      " '10.0,120' '10.5,120' '11.5,130' '12.0,130' '13.0,140' '13.5,140'\n",
      " '15.0,150' '15.5,150' '17.0,160' '17.5,160']\n",
      "long\n",
      "['6.0,90' '6.5,80' '6.5,90' '6.5,100' '7.0,110' '7.5,120' '8.0,120'\n",
      " '8.0,130' '8.5,130' '9.0,140' '9.5,140' '10.0,150' '10.5,150' '11.0,160'\n",
      " '11.5,160' '12.0,170' '12.5,170' '13.0,170' '13.5,180' '14.0,180']\n"
     ]
    },
    {
     "data": {
      "image/png": "[encoded data removed]",
      "text/plain": [
       "<Figure size 288x115.2 with 3 Axes>"
      ]
     },
     "metadata": {},
     "output_type": "display_data"
    }
   ],
   "source": [
    "print('threshold', 0.65)\n",
    "pt.plot_mse(short_ktau065, long_ktau065, K_lst, tau)\n",
    "plt.savefig('../report/figures/interI_params/mse65.svg', dpi=500, bbox_inches='tight')\n",
    "print(pt.get_opt_K(short_ktau065, K_lst, tau, mse=True))\n",
    "print(pt.get_opt_K(long_ktau065, K_lst, tau, mse=True))\n",
    "pt.parameter_behavioural_plausible(short_ktau065, long_ktau065, K_lst, tau)"
   ]
  },
  {
   "cell_type": "code",
   "execution_count": 19,
   "id": "741be5f6-25a8-4f50-bc36-8a0c7863b55b",
   "metadata": {},
   "outputs": [
    {
     "name": "stdout",
     "output_type": "stream",
     "text": [
      "timeouts: [(400, 0.0), (450, 0.0), (500, 0.0), (550, 0.0), (600, 0.0), (650, 0.0), (700, 0.0)]\n",
      "0.7055803154042933\n",
      "timeouts: [(700, 0.0), (750, 0.0), (800, 0.0), (850, 0.0), (900, 0.0), (950, 0.0), (1000, 0.0)]\n",
      "0.6210318232623676\n"
     ]
    },
    {
     "data": {
      "image/png": "[encoded data removed]",
      "text/plain": [
       "<Figure size 180x144 with 1 Axes>"
      ]
     },
     "metadata": {},
     "output_type": "display_data"
    }
   ],
   "source": [
    "np.random.seed(0)\n",
    "params = Params(ntrials=500, delay=700, tau=130, sigma=0.02, th=0.65)\n",
    "expsim = ExperimentSimulation(params)\n",
    "\n",
    "fig, ax = plt.subplots(1,1, figsize=(2.5,2))\n",
    "\n",
    "K = 10.5\n",
    "exp_result = expsim.simulate(stimulus_lst_short, K)\n",
    "plot = exp_result.create_behavioral_plot()\n",
    "plot.plot_behavior(ax)\n",
    "print(exp_result.create_behavioral_data().slope)\n",
    "\n",
    "np.random.seed(0)\n",
    "K = 7.5\n",
    "exp_result = expsim.simulate(stimulus_lst_long, K)\n",
    "plot = exp_result.create_behavioral_plot()\n",
    "plot.plot_behavior(ax)\n",
    "print(exp_result.create_behavioral_data().slope)\n",
    "\n",
    "ax.set(xlabel='stimulus [ms]', ylabel='reproduction [ms]')\n",
    "ax.spines['right'].set_visible(False)\n",
    "ax.spines['top'].set_visible(False) \n",
    "\n",
    "plt.tight_layout()\n",
    "plt.savefig('../report/figures/interI_params/mse65_beh130.svg', dpi=500, bbox_inches='tight')"
   ]
  },
  {
   "cell_type": "code",
   "execution_count": 65,
   "id": "c1f4b323-8c07-4976-94c0-3e95ed26f709",
   "metadata": {
    "tags": []
   },
   "outputs": [
    {
     "name": "stdout",
     "output_type": "stream",
     "text": [
      "timeouts: [(400, 0.0), (450, 0.0), (500, 0.0), (550, 0.0), (600, 0.0), (650, 0.0), (700, 0.0)]\n",
      "0.7138167476412586\n",
      "timeouts: [(700, 0.0), (750, 0.0), (800, 0.0), (850, 0.0), (900, 0.0), (950, 0.0), (1000, 0.0)]\n",
      "0.7421870425341379\n"
     ]
    },
    {
     "data": {
      "image/png": "[encoded data removed]",
      "text/plain": [
       "<Figure size 194.4x144 with 1 Axes>"
      ]
     },
     "metadata": {},
     "output_type": "display_data"
    }
   ],
   "source": [
    "np.random.seed(0)\n",
    "params = Params(ntrials=500, delay=700, tau=150, sigma=0.02, th=0.65)\n",
    "expsim = ExperimentSimulation(params)\n",
    "\n",
    "fig, ax = plt.subplots(1,1, figsize=(2.7,2))\n",
    "\n",
    "K = 14\n",
    "exp_result = expsim.simulate(stimulus_lst_short, K)\n",
    "plot = exp_result.create_behavioral_plot()\n",
    "plot.plot_behavior(ax)\n",
    "print(exp_result.create_behavioral_data().slope)\n",
    "\n",
    "K = 10.5\n",
    "exp_result = expsim.simulate(stimulus_lst_long, K)\n",
    "plot = exp_result.create_behavioral_plot()\n",
    "plot.plot_behavior(ax)\n",
    "print(exp_result.create_behavioral_data().slope)\n",
    "\n",
    "ax.set(xlabel='Stimulus (ms)', ylabel='Production (ms)')\n",
    "ax.spines['right'].set_visible(False)\n",
    "ax.spines['top'].set_visible(False) \n",
    "\n",
    "plt.tight_layout()\n",
    "#plt.savefig('../report/figures/interI/mse65_beh.png', dpi=500, bbox_inches='tight')"
   ]
  },
  {
   "cell_type": "markdown",
   "id": "d7f46ddc-64a4-44ca-acb2-4c1d47bfd3ab",
   "metadata": {},
   "source": [
    "# BIAS2"
   ]
  },
  {
   "cell_type": "code",
   "execution_count": 20,
   "id": "eebcca7a-5ab4-4dec-8182-09c9fdc7c177",
   "metadata": {},
   "outputs": [
    {
     "name": "stdout",
     "output_type": "stream",
     "text": [
      "threshold 0.75\n",
      "297.584162608647 83184.43687542142\n",
      "100 12.0\n",
      "[(60, 7.0), (70, 8.5), (80, 10.0), (90, 12.0), (100, 12.0), (110, 14.0), (120, 16.0), (130, 17.5), (140, 17.5), (150, 17.5), (160, 17.5), (170, 17.5), (180, 17.5)]\n",
      "120 15.5\n",
      "[(60, 7.5), (70, 9.0), (80, 10.0), (90, 11.5), (100, 13.0), (110, 14.5), (120, 15.5), (130, 17.5), (140, 17.5), (150, 17.5), (160, 17.5), (170, 17.5), (180, 17.5)]\n"
     ]
    },
    {
     "data": {
      "image/png": "[encoded data removed]",
      "text/plain": [
       "<Figure size 288x115.2 with 3 Axes>"
      ]
     },
     "metadata": {},
     "output_type": "display_data"
    }
   ],
   "source": [
    "print('threshold', 0.75)\n",
    "pt.plot_mse(short_ktau075, long_ktau075, K_lst, tau, 'bias2')\n",
    "print(pt.get_opt_K(short_ktau075, K_lst, tau, bias2=True))\n",
    "print(pt.get_opt_K(long_ktau075, K_lst, tau, bias2=True))\n",
    "plt.savefig('../report/figures/interI_params/biassquar75.svg', dpi=500, bbox_inches='tight')"
   ]
  },
  {
   "cell_type": "code",
   "execution_count": 21,
   "id": "4ab32b4c-b5fe-40e2-93ca-5a2ed7b6ef8c",
   "metadata": {
    "tags": []
   },
   "outputs": [
    {
     "name": "stdout",
     "output_type": "stream",
     "text": [
      "timeouts: [(400, 0.0), (450, 0.0), (500, 0.0), (550, 0.0), (600, 0.0), (650, 0.0), (700, 0.0)]\n",
      "0.8894515212567036\n",
      "timeouts: [(700, 0.0), (750, 0.0), (800, 0.0), (850, 0.0), (900, 0.0), (950, 0.06), (1000, 0.03)]\n",
      "1.111592154277968\n"
     ]
    },
    {
     "data": {
      "image/png": "[encoded data removed]",
      "text/plain": [
       "<Figure size 180x144 with 1 Axes>"
      ]
     },
     "metadata": {},
     "output_type": "display_data"
    }
   ],
   "source": [
    "np.random.seed(0)\n",
    "params = Params(ntrials=500, delay=700, tau=120, sigma=0.02, th=0.75)\n",
    "expsim = ExperimentSimulation(params)\n",
    "\n",
    "fig, ax = plt.subplots(1,1, figsize=(2.5,2))\n",
    "\n",
    "K = 16\n",
    "exp_result = expsim.simulate(stimulus_lst_short, K)\n",
    "plot = exp_result.create_behavioral_plot()\n",
    "plot.plot_behavior(ax)\n",
    "print(exp_result.create_behavioral_data().slope)\n",
    "\n",
    "np.random.seed(0)\n",
    "K = 15.5\n",
    "exp_result = expsim.simulate(stimulus_lst_long, K)\n",
    "plot = exp_result.create_behavioral_plot()\n",
    "plot.plot_behavior(ax)\n",
    "print(exp_result.create_behavioral_data().slope)\n",
    "\n",
    "ax.set(xlabel='stimulus [ms]', ylabel='reproduction [ms]')\n",
    "ax.spines['right'].set_visible(False)\n",
    "ax.spines['top'].set_visible(False) \n",
    "\n",
    "plt.tight_layout()\n",
    "plt.savefig('../report/figures/interI_params/biassquar75_beh120.svg', dpi=500, bbox_inches='tight')"
   ]
  },
  {
   "cell_type": "code",
   "execution_count": 22,
   "id": "566ad6b9-7cca-4623-85f8-48e00b8a648c",
   "metadata": {},
   "outputs": [
    {
     "name": "stdout",
     "output_type": "stream",
     "text": [
      "threshold 0.7\n",
      "255.64043836046275 66646.845690239\n",
      "100 9.5\n",
      "[(60, 5.5), (70, 6.5), (80, 7.5), (90, 8.0), (100, 9.5), (110, 11.0), (120, 12.5), (130, 14.5), (140, 16.0), (150, 17.5), (160, 17.5), (170, 17.5), (180, 17.5)]\n",
      "110 11.0\n",
      "[(60, 6.0), (70, 7.0), (80, 8.0), (90, 9.0), (100, 10.0), (110, 11.0), (120, 12.0), (130, 13.0), (140, 14.5), (150, 15.5), (160, 17.0), (170, 17.5), (180, 17.5)]\n"
     ]
    },
    {
     "data": {
      "image/png": "[encoded data removed]",
      "text/plain": [
       "<Figure size 288x115.2 with 3 Axes>"
      ]
     },
     "metadata": {},
     "output_type": "display_data"
    }
   ],
   "source": [
    "print('threshold', 0.7)\n",
    "pt.plot_mse(short_ktau07, long_ktau07, K_lst, tau, 'bias2')\n",
    "print(pt.get_opt_K(short_ktau07, K_lst, tau, bias2=True))\n",
    "print(pt.get_opt_K(long_ktau07, K_lst, tau, bias2=True))\n",
    "plt.savefig('../report/figures/interI_params/biassquar7.svg', dpi=500, bbox_inches='tight')"
   ]
  },
  {
   "cell_type": "code",
   "execution_count": 23,
   "id": "bd85b6b0-4c54-4bdb-841a-72efc63832c8",
   "metadata": {
    "tags": []
   },
   "outputs": [
    {
     "name": "stdout",
     "output_type": "stream",
     "text": [
      "timeouts: [(400, 0.0), (450, 0.0), (500, 0.0), (550, 0.0), (600, 0.0), (650, 0.0), (700, 0.0)]\n",
      "0.9120558097891924\n",
      "timeouts: [(700, 0.0), (750, 0.0), (800, 0.0), (850, 0.0), (900, 0.0), (950, 0.06), (1000, 0.03)]\n",
      "1.0746918579954003\n"
     ]
    },
    {
     "data": {
      "image/png": "[encoded data removed]",
      "text/plain": [
       "<Figure size 180x144 with 1 Axes>"
      ]
     },
     "metadata": {},
     "output_type": "display_data"
    }
   ],
   "source": [
    "np.random.seed(0)\n",
    "params = Params(ntrials=500, delay=700, tau=110, sigma=0.02, th=0.7)\n",
    "expsim = ExperimentSimulation(params)\n",
    "\n",
    "fig, ax = plt.subplots(1,1, figsize=(2.5,2))\n",
    "\n",
    "K = 11\n",
    "exp_result = expsim.simulate(stimulus_lst_short, K)\n",
    "plot = exp_result.create_behavioral_plot()\n",
    "plot.plot_behavior(ax)\n",
    "print(exp_result.create_behavioral_data().slope)\n",
    "\n",
    "np.random.seed(0)\n",
    "K = 11\n",
    "exp_result = expsim.simulate(stimulus_lst_long, K)\n",
    "plot = exp_result.create_behavioral_plot()\n",
    "plot.plot_behavior(ax)\n",
    "print(exp_result.create_behavioral_data().slope)\n",
    "\n",
    "ax.set(xlabel='stimulus [ms]', ylabel='reproduction [ms]')\n",
    "ax.spines['right'].set_visible(False)\n",
    "ax.spines['top'].set_visible(False) \n",
    "\n",
    "plt.tight_layout()\n",
    "plt.savefig('../report/figures/interI_params/biassquar7_beh110.svg', dpi=500, bbox_inches='tight')"
   ]
  },
  {
   "cell_type": "code",
   "execution_count": 24,
   "id": "3b96f921-2162-40cc-8bf9-e14aa69ee946",
   "metadata": {},
   "outputs": [
    {
     "name": "stdout",
     "output_type": "stream",
     "text": [
      "threshold 0.65\n",
      "237.75198828986586 48729.73513975592\n",
      "90 7.0\n",
      "[(60, 4.5), (70, 5.5), (80, 6.0), (90, 7.0), (100, 8.0), (110, 9.5), (120, 10.5), (130, 12.0), (140, 13.5), (150, 14.5), (160, 16.5), (170, 17.5), (180, 17.5)]\n",
      "130 11.0\n",
      "[(60, 5.0), (70, 5.5), (80, 6.5), (90, 7.5), (100, 8.5), (110, 9.0), (120, 10.0), (130, 11.0), (140, 12.0), (150, 13.5), (160, 15.0), (170, 16.0), (180, 17.5)]\n"
     ]
    },
    {
     "data": {
      "image/png": "[encoded data removed]",
      "text/plain": [
       "<Figure size 288x115.2 with 3 Axes>"
      ]
     },
     "metadata": {},
     "output_type": "display_data"
    }
   ],
   "source": [
    "print('threshold', 0.65)\n",
    "pt.plot_mse(short_ktau065, long_ktau065, K_lst, tau, 'bias2')\n",
    "print(pt.get_opt_K(short_ktau065, K_lst, tau, bias2=True))\n",
    "print(pt.get_opt_K(long_ktau065, K_lst, tau, bias2=True))\n",
    "plt.savefig('../report/figures/interI_params/biassquar65.svg', dpi=500, bbox_inches='tight')"
   ]
  },
  {
   "cell_type": "code",
   "execution_count": 25,
   "id": "593e0556-31d1-4e7f-bb26-f51c9dcbd550",
   "metadata": {
    "tags": []
   },
   "outputs": [
    {
     "name": "stdout",
     "output_type": "stream",
     "text": [
      "timeouts: [(400, 0.0), (450, 0.0), (500, 0.0), (550, 0.0), (600, 0.0), (650, 0.0), (700, 0.0)]\n",
      "0.9213914432136596\n",
      "timeouts: [(700, 0.0), (750, 0.0), (800, 0.0), (850, 0.0), (900, 0.0), (950, 0.03), (1000, 0.01)]\n",
      "1.0889593581263295\n"
     ]
    },
    {
     "data": {
      "image/png": "[encoded data removed]",
      "text/plain": [
       "<Figure size 180x144 with 1 Axes>"
      ]
     },
     "metadata": {},
     "output_type": "display_data"
    }
   ],
   "source": [
    "np.random.seed(0)\n",
    "params = Params(ntrials=500, delay=700, tau=110, sigma=0.02, th=0.65)\n",
    "expsim = ExperimentSimulation(params)\n",
    "\n",
    "fig, ax = plt.subplots(1,1, figsize=(2.5,2))\n",
    "\n",
    "K = 9.5\n",
    "exp_result = expsim.simulate(stimulus_lst_short, K)\n",
    "plot = exp_result.create_behavioral_plot()\n",
    "plot.plot_behavior(ax)\n",
    "print(exp_result.create_behavioral_data().slope)\n",
    "\n",
    "np.random.seed(0)\n",
    "K = 9\n",
    "exp_result = expsim.simulate(stimulus_lst_long, K)\n",
    "plot = exp_result.create_behavioral_plot()\n",
    "plot.plot_behavior(ax)\n",
    "print(exp_result.create_behavioral_data().slope)\n",
    "\n",
    "ax.set(xlabel='stimulus [ms]', ylabel='reproduction [ms]')\n",
    "ax.spines['right'].set_visible(False)\n",
    "ax.spines['top'].set_visible(False) \n",
    "\n",
    "plt.tight_layout()\n",
    "plt.savefig('../report/figures/interI_params/biassquar65_beh110.svg', dpi=500, bbox_inches='tight')"
   ]
  },
  {
   "cell_type": "markdown",
   "id": "d4bbc80a-ef8b-4e54-b352-4053ab238940",
   "metadata": {},
   "source": [
    "# VAR"
   ]
  },
  {
   "cell_type": "code",
   "execution_count": 26,
   "id": "7ee4a5e5-4992-4bf5-ae3f-facae5c1688c",
   "metadata": {},
   "outputs": [
    {
     "name": "stdout",
     "output_type": "stream",
     "text": [
      "threshold 0.75\n",
      "1981.2865999655023 58304.68425909332\n",
      "160 1.5\n",
      "[(60, 1.0), (70, 1.0), (80, 1.5), (90, 1.5), (100, 1.0), (110, 1.0), (120, 1.0), (130, 1.5), (140, 8.0), (150, 8.5), (160, 1.5), (170, 1.5), (180, 10.5)]\n",
      "180 5.5\n",
      "[(60, 1.0), (70, 1.5), (80, 1.0), (90, 2.0), (100, 2.5), (110, 3.0), (120, 3.0), (130, 3.5), (140, 3.5), (150, 4.0), (160, 4.0), (170, 4.0), (180, 5.5)]\n"
     ]
    },
    {
     "data": {
      "image/png": "[encoded data removed]",
      "text/plain": [
       "<Figure size 288x115.2 with 3 Axes>"
      ]
     },
     "metadata": {},
     "output_type": "display_data"
    }
   ],
   "source": [
    "print('threshold', 0.75)\n",
    "pt.plot_mse(short_ktau075, long_ktau075, K_lst, tau, 'var')\n",
    "print(pt.get_opt_K(short_ktau075, K_lst, tau, var=True))\n",
    "print(pt.get_opt_K(long_ktau075, K_lst, tau, var=True))\n",
    "plt.savefig('../report/figures/interI_params/var75.svg', dpi=500, bbox_inches='tight')"
   ]
  },
  {
   "cell_type": "code",
   "execution_count": 27,
   "id": "8cce0124-044b-42d8-8905-65b074f90896",
   "metadata": {},
   "outputs": [
    {
     "name": "stdout",
     "output_type": "stream",
     "text": [
      "threshold 0.7\n",
      "2280.979503710504 57459.603166534274\n",
      "130 4.0\n",
      "[(60, 1.0), (70, 2.0), (80, 2.0), (90, 2.0), (100, 2.5), (110, 3.5), (120, 4.0), (130, 4.0), (140, 4.5), (150, 5.5), (160, 6.5), (170, 6.0), (180, 8.0)]\n",
      "180 3.5\n",
      "[(60, 1.5), (70, 1.5), (80, 1.0), (90, 1.0), (100, 2.0), (110, 1.5), (120, 1.5), (130, 2.0), (140, 2.5), (150, 2.5), (160, 2.5), (170, 3.0), (180, 3.5)]\n"
     ]
    },
    {
     "data": {
      "image/png": "[encoded data removed]",
      "text/plain": [
       "<Figure size 288x115.2 with 3 Axes>"
      ]
     },
     "metadata": {},
     "output_type": "display_data"
    }
   ],
   "source": [
    "print('threshold', 0.7)\n",
    "pt.plot_mse(short_ktau07, long_ktau07, K_lst, tau, 'var')\n",
    "print(pt.get_opt_K(short_ktau07, K_lst, tau, var=True))\n",
    "print(pt.get_opt_K(long_ktau07, K_lst, tau, var=True))\n",
    "plt.savefig('../report/figures/interI_params/var7.svg', dpi=500, bbox_inches='tight')"
   ]
  },
  {
   "cell_type": "code",
   "execution_count": 28,
   "id": "89abfac0-d148-473c-97d5-d8cc63e5ba17",
   "metadata": {},
   "outputs": [
    {
     "name": "stdout",
     "output_type": "stream",
     "text": [
      "threshold 0.65\n",
      "1491.6942614870284 53820.174956056384\n",
      "120 1.0\n",
      "[(60, 1.0), (70, 1.0), (80, 1.0), (90, 1.0), (100, 1.0), (110, 1.0), (120, 1.0), (130, 1.0), (140, 1.0), (150, 1.0), (160, 1.5), (170, 1.5), (180, 2.0)]\n",
      "180 1.0\n",
      "[(60, 1.0), (70, 1.0), (80, 1.0), (90, 1.0), (100, 1.0), (110, 1.5), (120, 1.5), (130, 1.0), (140, 1.0), (150, 1.0), (160, 1.0), (170, 1.0), (180, 1.0)]\n"
     ]
    },
    {
     "data": {
      "image/png": "[encoded data removed]",
      "text/plain": [
       "<Figure size 288x115.2 with 3 Axes>"
      ]
     },
     "metadata": {},
     "output_type": "display_data"
    }
   ],
   "source": [
    "print('threshold', 0.65)\n",
    "pt.plot_mse(short_ktau065, long_ktau065, K_lst, tau, 'var')\n",
    "print(pt.get_opt_K(short_ktau065, K_lst, tau, var=True))\n",
    "print(pt.get_opt_K(long_ktau065, K_lst, tau, var=True))\n",
    "plt.savefig('../report/figures/interI_params/var65.svg', dpi=500, bbox_inches='tight')"
   ]
  },
  {
   "cell_type": "code",
   "execution_count": 96,
   "id": "0d68bb72-2681-42d1-a186-17f7baa827b9",
   "metadata": {
    "tags": []
   },
   "outputs": [
    {
     "name": "stdout",
     "output_type": "stream",
     "text": [
      "timeouts: [(400, 0.0), (450, 0.0), (500, 0.0), (550, 0.0), (600, 0.0), (650, 0.0), (700, 0.0)]\n",
      "0.9213914432136596\n",
      "timeouts: [(700, 0.0), (750, 0.0), (800, 0.0), (850, 0.0), (900, 0.0), (950, 0.0), (1000, 0.03)]\n",
      "1.0533961833054692\n"
     ]
    },
    {
     "data": {
      "image/png": "[encoded data removed]",
      "text/plain": [
       "<Figure size 194.4x144 with 1 Axes>"
      ]
     },
     "metadata": {},
     "output_type": "display_data"
    }
   ],
   "source": [
    "np.random.seed(0)\n",
    "params = Params(ntrials=500, delay=700, tau=110, sigma=0.02, th=0.65)\n",
    "expsim = ExperimentSimulation(params)\n",
    "\n",
    "fig, ax = plt.subplots(1,1, figsize=(2.7,2))\n",
    "\n",
    "K = 9.5\n",
    "exp_result = expsim.simulate(stimulus_lst_short, K)\n",
    "plot = exp_result.create_behavioral_plot()\n",
    "plot.plot_behavior(ax)\n",
    "print(exp_result.create_behavioral_data().slope)\n",
    "\n",
    "K = 9\n",
    "exp_result = expsim.simulate(stimulus_lst_long, K)\n",
    "plot = exp_result.create_behavioral_plot()\n",
    "plot.plot_behavior(ax)\n",
    "print(exp_result.create_behavioral_data().slope)\n",
    "\n",
    "ax.set(xlabel='Stimulus (ms)', ylabel='Production (ms)')\n",
    "ax.spines['right'].set_visible(False)\n",
    "ax.spines['top'].set_visible(False) \n",
    "\n",
    "plt.tight_layout()\n",
    "#plt.savefig('../report/figures/interI/mse65_beh.png', dpi=500, bbox_inches='tight')"
   ]
  },
  {
   "cell_type": "markdown",
   "id": "35da266f-528e-4a01-9604-709cc32a6023",
   "metadata": {},
   "source": [
    "# BIAS"
   ]
  },
  {
   "cell_type": "code",
   "execution_count": 29,
   "id": "f0e8fb52-e6b9-4bbb-b80f-b2d6407e41a6",
   "metadata": {},
   "outputs": [
    {
     "name": "stdout",
     "output_type": "stream",
     "text": [
      "threshold 0.75\n",
      "-272.0137605098891 21.4458324963563\n",
      "150 2.5\n",
      "[(60, 7.0), (70, 8.5), (80, 10.0), (90, 11.5), (100, 12.5), (110, 14.0), (120, 14.5), (130, 14.5), (140, 13.5), (150, 2.5), (160, 1.5), (170, 4.0), (180, 8.5)]\n",
      "130 17.0\n",
      "[(60, 7.0), (70, 9.0), (80, 10.0), (90, 11.0), (100, 13.0), (110, 14.5), (120, 17.5), (130, 17.0), (140, 17.5), (150, 17.5), (160, 17.5), (170, 1.0), (180, 1.0)]\n"
     ]
    },
    {
     "data": {
      "image/png": "[encoded data removed]",
      "text/plain": [
       "<Figure size 288x115.2 with 3 Axes>"
      ]
     },
     "metadata": {},
     "output_type": "display_data"
    }
   ],
   "source": [
    "print('threshold', 0.75)\n",
    "pt.plot_mse(short_ktau075, long_ktau075, K_lst, tau, 'bias')\n",
    "print(pt.get_opt_K(short_ktau075, K_lst, tau, bias=True))\n",
    "print(pt.get_opt_K(long_ktau075, K_lst, tau, bias=True))\n",
    "plt.savefig('../report/figures/interI_params/bias75.svg', dpi=500, bbox_inches='tight')"
   ]
  },
  {
   "cell_type": "code",
   "execution_count": 30,
   "id": "a57c1dfc-6311-43c0-a838-be3cf5824bfa",
   "metadata": {},
   "outputs": [
    {
     "name": "stdout",
     "output_type": "stream",
     "text": [
      "threshold 0.7\n",
      "-236.89817567270327 39.126163814863176\n",
      "150 2.5\n",
      "[(60, 7.0), (70, 8.5), (80, 10.0), (90, 11.5), (100, 12.5), (110, 14.0), (120, 14.5), (130, 14.5), (140, 13.5), (150, 2.5), (160, 1.5), (170, 4.0), (180, 8.5)]\n",
      "130 17.0\n",
      "[(60, 7.0), (70, 9.0), (80, 10.0), (90, 11.0), (100, 13.0), (110, 14.5), (120, 17.5), (130, 17.0), (140, 17.5), (150, 17.5), (160, 17.5), (170, 1.0), (180, 1.0)]\n"
     ]
    },
    {
     "data": {
      "image/png": "[encoded data removed]",
      "text/plain": [
       "<Figure size 288x115.2 with 3 Axes>"
      ]
     },
     "metadata": {},
     "output_type": "display_data"
    }
   ],
   "source": [
    "print('threshold', 0.7)\n",
    "pt.plot_mse(short_ktau07, long_ktau07, K_lst, tau, 'bias')\n",
    "print(pt.get_opt_K(short_ktau075, K_lst, tau, bias=True))\n",
    "print(pt.get_opt_K(long_ktau075, K_lst, tau, bias=True))\n",
    "plt.savefig('../report/figures/interI_params/bias7.svg', dpi=500, bbox_inches='tight')"
   ]
  },
  {
   "cell_type": "code",
   "execution_count": 142,
   "id": "e20e74b5-6036-479e-b065-a31029b8eb8b",
   "metadata": {},
   "outputs": [
    {
     "name": "stdout",
     "output_type": "stream",
     "text": [
      "timeouts: [(400, 0.0), (450, 0.0), (500, 0.0), (550, 0.0), (600, 0.0), (650, 0.0), (700, 0.0)]\n",
      "0.8152503663242282\n",
      "timeouts: [(700, 0.0), (750, 0.0), (800, 0.0), (850, 0.03), (900, 0.01), (950, 0.01), (1000, 0.04)]\n",
      "0.7305908674698468\n"
     ]
    },
    {
     "data": {
      "image/png": "[encoded data removed]",
      "text/plain": [
       "<Figure size 180x144 with 1 Axes>"
      ]
     },
     "metadata": {},
     "output_type": "display_data"
    }
   ],
   "source": [
    "np.random.seed(0)\n",
    "params = Params(ntrials=500, delay=700, tau=90, sigma=0.02, th=0.7)\n",
    "expsim = ExperimentSimulation(params)\n",
    "\n",
    "fig, ax = plt.subplots(1,1, figsize=(2.5,2))\n",
    "\n",
    "K = 7.5\n",
    "exp_result = expsim.simulate(stimulus_lst_short, K)\n",
    "plot = exp_result.create_behavioral_plot()\n",
    "plot.plot_behavior(ax)\n",
    "print(exp_result.create_behavioral_data().slope)\n",
    "\n",
    "K = 8.5\n",
    "exp_result = expsim.simulate(stimulus_lst_long, K)\n",
    "plot = exp_result.create_behavioral_plot()\n",
    "plot.plot_behavior(ax)\n",
    "print(exp_result.create_behavioral_data().slope)\n",
    "\n",
    "ax.set(xlabel='stimulus (ms)', ylabel='reproduction (ms)')\n",
    "ax.spines['right'].set_visible(False)\n",
    "ax.spines['top'].set_visible(False) \n",
    "\n",
    "plt.tight_layout()\n",
    "#plt.savefig('../report/figures/interI/mse65_beh.png', dpi=500, bbox_inches='tight')"
   ]
  },
  {
   "cell_type": "code",
   "execution_count": 31,
   "id": "d00e2e33-e1e0-40c7-9768-d7c447f9005d",
   "metadata": {},
   "outputs": [
    {
     "name": "stdout",
     "output_type": "stream",
     "text": [
      "threshold 0.65\n",
      "-196.8383366964931 49.977885468568694\n",
      "150 2.5\n",
      "[(60, 7.0), (70, 8.5), (80, 10.0), (90, 11.5), (100, 12.5), (110, 14.0), (120, 14.5), (130, 14.5), (140, 13.5), (150, 2.5), (160, 1.5), (170, 4.0), (180, 8.5)]\n",
      "130 17.0\n",
      "[(60, 7.0), (70, 9.0), (80, 10.0), (90, 11.0), (100, 13.0), (110, 14.5), (120, 17.5), (130, 17.0), (140, 17.5), (150, 17.5), (160, 17.5), (170, 1.0), (180, 1.0)]\n"
     ]
    },
    {
     "data": {
      "image/png": "[encoded data removed]",
      "text/plain": [
       "<Figure size 288x115.2 with 3 Axes>"
      ]
     },
     "metadata": {},
     "output_type": "display_data"
    }
   ],
   "source": [
    "print('threshold', 0.65)\n",
    "pt.plot_mse(short_ktau065, long_ktau065, K_lst, tau, 'bias')\n",
    "print(pt.get_opt_K(short_ktau075, K_lst, tau, bias=True))\n",
    "print(pt.get_opt_K(long_ktau075, K_lst, tau, bias=True))\n",
    "plt.savefig('../report/figures/interI_params/bias65.svg', dpi=500, bbox_inches='tight')"
   ]
  },
  {
   "cell_type": "code",
   "execution_count": 128,
   "id": "a52856ca-c654-4fda-a3f5-60f6e1c56472",
   "metadata": {},
   "outputs": [
    {
     "name": "stdout",
     "output_type": "stream",
     "text": [
      "threshold 0.75\n",
      "247344.16632443533 636075.6129032258\n",
      "threshold 0.7\n",
      "245641.24640657083 630249.2244488978\n",
      "threshold 0.65\n",
      "244418.3353909465 624048.832\n"
     ]
    },
    {
     "data": {
      "image/png": "[encoded data removed]",
      "text/plain": [
       "<Figure size 360x144 with 4 Axes>"
      ]
     },
     "metadata": {},
     "output_type": "display_data"
    },
    {
     "data": {
      "image/png": "[encoded data removed]",
      "text/plain": [
       "<Figure size 360x144 with 4 Axes>"
      ]
     },
     "metadata": {},
     "output_type": "display_data"
    },
    {
     "data": {
      "image/png": "[encoded data removed]",
      "text/plain": [
       "<Figure size 360x144 with 4 Axes>"
      ]
     },
     "metadata": {},
     "output_type": "display_data"
    }
   ],
   "source": [
    "print('threshold', 0.75)\n",
    "pt.plot_mse_total(short_ktau075, long_ktau075, K_lst, tau)\n",
    "print('threshold', 0.7)\n",
    "pt.plot_mse_total(short_ktau07, long_ktau07, K_lst, tau)\n",
    "print('threshold', 0.65)\n",
    "pt.plot_mse_total(short_ktau065, long_ktau065, K_lst, tau)"
   ]
  },
  {
   "cell_type": "markdown",
   "id": "588f4460-b223-45b4-bed1-1f95b95d77ad",
   "metadata": {},
   "source": [
    "# Initialization"
   ]
  },
  {
   "cell_type": "code",
   "execution_count": 12,
   "id": "f4d062c8-b33c-4e2e-9359-d5388f3f1530",
   "metadata": {},
   "outputs": [],
   "source": [
    "seed = np.arange(0, 21, 1)\n",
    "K_lst = np.arange(1, 22, 0.5)"
   ]
  },
  {
   "cell_type": "code",
   "execution_count": 13,
   "id": "a5ebdf99-14f6-46c9-82a4-f58adb72e2a4",
   "metadata": {},
   "outputs": [],
   "source": [
    "path = '../results/intermediateI/'\n",
    "short_ktau07_seed, long_ktau07_seed = pt.load_data(\n",
    "    path+'SHORT_K1-22_TAU130_th07_del700_sig02_seed-20220923-121834-output.pickle',\n",
    "    path+'LONG_K1-22_TAU130_th07_del700_sig02_seed-20220923-122722-output.pickle')"
   ]
  },
  {
   "cell_type": "code",
   "execution_count": 14,
   "id": "b140f1ef-a56e-4029-9cd2-a3c369eb42c3",
   "metadata": {},
   "outputs": [
    {
     "name": "stdout",
     "output_type": "stream",
     "text": [
      "-0.5199448960137615 1.4683581397983017\n"
     ]
    },
    {
     "data": {
      "image/png": "[encoded data removed]",
      "text/plain": [
       "<Figure size 288x115.2 with 3 Axes>"
      ]
     },
     "metadata": {},
     "output_type": "display_data"
    }
   ],
   "source": [
    "pt.plot_slope(short_ktau07_seed, long_ktau07_seed, K_lst, seed)\n",
    "#plt.savefig('../report/figures/interI_params/slope7_seed.svg', dpi=500, bbox_inches='tight')"
   ]
  },
  {
   "cell_type": "code",
   "execution_count": 15,
   "id": "63b3c19f-273b-43f1-a4ed-07a380a79190",
   "metadata": {},
   "outputs": [
    {
     "name": "stdout",
     "output_type": "stream",
     "text": [
      "17 13.5\n",
      "[(0, 13.0), (1, 12.5), (2, 13.0), (3, 12.5), (4, 13.0), (5, 13.0), (6, 12.5), (7, 13.0), (8, 13.0), (9, 12.5), (10, 13.0), (11, 13.5), (12, 12.0), (13, 13.0), (14, 12.5), (15, 13.0), (16, 13.0), (17, 13.5), (18, 13.0), (19, 13.0), (20, 13.0)]\n",
      "18 8.0\n",
      "[(0, 10.0), (1, 9.0), (2, 7.5), (3, 11.0), (4, 9.0), (5, 10.0), (6, 8.0), (7, 9.0), (8, 9.0), (9, 9.0), (10, 8.5), (11, 9.5), (12, 8.0), (13, 8.0), (14, 7.5), (15, 9.0), (16, 8.0), (17, 7.5), (18, 8.0), (19, 7.0), (20, 7.5)]\n"
     ]
    },
    {
     "data": {
      "image/png": "[encoded data removed]",
      "text/plain": [
       "<Figure size 288x115.2 with 3 Axes>"
      ]
     },
     "metadata": {},
     "output_type": "display_data"
    }
   ],
   "source": [
    "pt.plot_mse_sep(short_ktau07_seed, long_ktau07_seed, K_lst, seed)\n",
    "print(pt.get_opt_K(short_ktau07_seed, K_lst, seed, mse=True))\n",
    "print(pt.get_opt_K(long_ktau07_seed, K_lst, seed, mse=True))\n",
    "#plt.savefig('../report/figures/interI_params/mse7_seed.svg', dpi=500, bbox_inches='tight')"
   ]
  },
  {
   "cell_type": "code",
   "execution_count": 16,
   "id": "3932a706-66b1-40cb-8acb-911231ac1ef8",
   "metadata": {},
   "outputs": [
    {
     "name": "stdout",
     "output_type": "stream",
     "text": [
      "17 13.5\n",
      "17 13.5\n"
     ]
    },
    {
     "data": {
      "text/plain": [
       "(12.880952380952381, 0.34173095462874575)"
      ]
     },
     "execution_count": 16,
     "metadata": {},
     "output_type": "execute_result"
    }
   ],
   "source": [
    "np.mean(list(zip(*pt.get_opt_K(short_ktau07_seed, K_lst, seed, mse=True)))[1]), np.std(list(zip(*pt.get_opt_K(short_ktau07_seed, K_lst, seed,mse=True)))[1])"
   ]
  },
  {
   "cell_type": "code",
   "execution_count": 17,
   "id": "779ba9a6-9351-4c6f-8965-c466a99860e1",
   "metadata": {},
   "outputs": [
    {
     "name": "stdout",
     "output_type": "stream",
     "text": [
      "18 8.0\n",
      "18 8.0\n"
     ]
    },
    {
     "data": {
      "text/plain": [
       "(8.571428571428571, 0.9914601339836673)"
      ]
     },
     "execution_count": 17,
     "metadata": {},
     "output_type": "execute_result"
    }
   ],
   "source": [
    "np.mean(list(zip(*pt.get_opt_K(long_ktau07_seed, K_lst, seed, mse=True)))[1]), np.std(list(zip(*pt.get_opt_K(long_ktau07_seed, K_lst, seed, mse=True)))[1])"
   ]
  },
  {
   "cell_type": "code",
   "execution_count": 24,
   "id": "fc497d8b-4152-452e-bd91-717a946a0e78",
   "metadata": {},
   "outputs": [
    {
     "name": "stdout",
     "output_type": "stream",
     "text": [
      "-55.42603182688621 36.649999437179375\n",
      "16 9.0\n",
      "[(0, 4.0), (1, 7.5), (2, 5.5), (3, 3.5), (4, 4.5), (5, 3.0), (6, 3.0), (7, 2.5), (8, 1.5), (9, 4.5), (10, 8.5), (11, 6.0), (12, 3.0), (13, 2.5), (14, 6.5), (15, 5.0), (16, 9.0), (17, 5.0), (18, 10.0), (19, 7.5), (20, 3.5)]\n",
      "10 16.0\n",
      "[(0, 17.0), (1, 16.0), (2, 15.5), (3, 16.5), (4, 16.5), (5, 16.0), (6, 15.5), (7, 15.0), (8, 16.5), (9, 17.5), (10, 16.0), (11, 17.0), (12, 16.0), (13, 17.5), (14, 15.5), (15, 16.5), (16, 17.0), (17, 17.0), (18, 15.5), (19, 16.0), (20, 17.5)]\n"
     ]
    },
    {
     "data": {
      "image/png": "[encoded data removed]",
      "text/plain": [
       "<Figure size 360x144 with 3 Axes>"
      ]
     },
     "metadata": {},
     "output_type": "display_data"
    }
   ],
   "source": [
    "pt.plot_mse(short_ktau07_seed, long_ktau07_seed, K_lst, seed, 'bias')\n",
    "print(pt.get_opt_K(short_ktau07_seed, K_lst, seed, bias=True))\n",
    "print(pt.get_opt_K(long_ktau07_seed, K_lst, seed, bias=True))\n",
    "#plt.savefig('../report/figures/interI/bias7_seed.png', dpi=500, bbox_inches='tight')"
   ]
  },
  {
   "cell_type": "code",
   "execution_count": 19,
   "id": "55cffbea-71fe-482d-8502-0b617df40698",
   "metadata": {},
   "outputs": [
    {
     "name": "stdout",
     "output_type": "stream",
     "text": [
      "timeouts: [(400, 0.0), (450, 0.0), (500, 0.0), (550, 0.0), (600, 0.0), (650, 0.0), (700, 0.0)]\n",
      "0.8009630012758778\n",
      "timeouts: [(700, 0.0), (750, 0.0), (800, 0.0), (850, 0.0), (900, 0.0), (950, 0.0), (1000, 0.0)]\n",
      "0.6836438784465821\n"
     ]
    },
    {
     "data": {
      "image/png": "[encoded data removed]",
      "text/plain": [
       "<Figure size 180x144 with 1 Axes>"
      ]
     },
     "metadata": {},
     "output_type": "display_data"
    }
   ],
   "source": [
    "np.random.seed(17)\n",
    "params = Params(ntrials=500, delay=700, tau=130, sigma=0.02, th=0.7)\n",
    "expsim = ExperimentSimulation(params)\n",
    "\n",
    "fig, ax = plt.subplots(1,1, figsize=(2.5,2))\n",
    "\n",
    "K = 13.5\n",
    "exp_result = expsim.simulate(stimulus_lst_short, K)\n",
    "plot = exp_result.create_behavioral_plot()\n",
    "plot.plot_behavior(ax)\n",
    "print(exp_result.create_behavioral_data().slope)\n",
    "\n",
    "np.random.seed(18)\n",
    "K = 8\n",
    "exp_result = expsim.simulate(stimulus_lst_long, K)\n",
    "plot = exp_result.create_behavioral_plot()\n",
    "plot.plot_behavior(ax)\n",
    "print(exp_result.create_behavioral_data().slope)\n",
    "\n",
    "ax.set(xlabel='stimulus [ms]', ylabel='reproduction [ms]')\n",
    "ax.spines['right'].set_visible(False)\n",
    "ax.spines['top'].set_visible(False) \n",
    "\n",
    "plt.tight_layout()\n",
    "#plt.savefig('../report/figures/interI_params/mse7_beh130_Kmean.svg', dpi=500, bbox_inches='tight')"
   ]
  },
  {
   "cell_type": "code",
   "execution_count": null,
   "id": "fc30f34f-ba55-433a-bf48-7f126ea287bd",
   "metadata": {},
   "outputs": [],
   "source": []
  },
  {
   "cell_type": "code",
   "execution_count": null,
   "id": "49750467-3eba-4f6e-bb07-770985f88af9",
   "metadata": {},
   "outputs": [],
   "source": []
  },
  {
   "cell_type": "markdown",
   "id": "54eb5694-1cb8-41bd-8db3-8bfcf491ae69",
   "metadata": {},
   "source": [
    "# Optimality long range"
   ]
  },
  {
   "cell_type": "code",
   "execution_count": 28,
   "id": "98c289e1-3a27-4523-b3a6-e906a7039156",
   "metadata": {},
   "outputs": [],
   "source": [
    "K_lst_ = np.arange(1, 22, 0.5)\n",
    "tau_ = np.arange(100, 230, 10)\n",
    "\n",
    "K_lst__ = np.arange(20, 30, 0.5) \n",
    "tau__ = [190,200]"
   ]
  },
  {
   "cell_type": "code",
   "execution_count": 26,
   "id": "6dbb3c65-f787-416f-a702-2fd1aa7c3598",
   "metadata": {
    "tags": []
   },
   "outputs": [],
   "source": [
    "path = '../results/intermediateI/'\n",
    "short_ktau07_, long_ktau07_ = pt.load_data(path+'SHORT_K1-22TAU_th07_del700_sig02_fixed_seed-20220907-163746-output.pickle', \n",
    "                                      path+'LONG_K1-22TAU_th07_del700_sig02_fixed_seed-20220907-165928-output.pickle')\n",
    "\n",
    "short_ktau07__, long_ktau07_ = pt.load_data(path+'SHORT_K20-30_tau200_th07_del700_sig02_fixed_seed-20220910-113222-output.pickle', \n",
    "                                      path+'LONG_K1-22TAU_th07_del700_sig02_fixed_seed-20220907-165928-output.pickle')"
   ]
  },
  {
   "cell_type": "code",
   "execution_count": 19,
   "id": "8431d561-5054-4405-b15c-a80dcee94f04",
   "metadata": {},
   "outputs": [
    {
     "name": "stdout",
     "output_type": "stream",
     "text": [
      "-0.3706860669680293 1.4602460685582281\n"
     ]
    },
    {
     "data": {
      "image/png": "[encoded data removed]",
      "text/plain": [
       "<Figure size 288x115.2 with 3 Axes>"
      ]
     },
     "metadata": {},
     "output_type": "display_data"
    }
   ],
   "source": [
    "pt.plot_slope_behavior(short_ktau07_, long_ktau07_, K_lst_, tau_)\n",
    "plt.savefig('../report/figures/interI_params/slope7_extended.svg',  bbox_inches='tight')"
   ]
  },
  {
   "cell_type": "code",
   "execution_count": 15,
   "id": "fbcedec9-90d3-41f8-9a1d-2b74647fe994",
   "metadata": {},
   "outputs": [
    {
     "name": "stdout",
     "output_type": "stream",
     "text": [
      "threshold 0.7\n",
      "3351.702340621643 46948.96210724917\n",
      "120 11.0\n",
      "[(100, 8.5), (110, 9.5), (120, 11.0), (130, 13.0), (140, 14.0), (150, 16.5), (160, 18.0), (170, 20.0), (180, 20.5), (190, 21.5), (200, 21.5), (210, 21.5), (220, 21.5)]\n",
      "200 20.0\n",
      "[(100, 4.0), (110, 4.5), (120, 7.0), (130, 10.0), (140, 10.5), (150, 12.0), (160, 13.5), (170, 15.5), (180, 16.5), (190, 18.5), (200, 20.0), (210, 21.5), (220, 21.5)]\n",
      "short\n",
      "['8.5,100' '9.0,100' '10.0,110' '10.5,110' '11.5,120' '12.0,120'\n",
      " '13.0,130' '13.5,130' '14.0,130' '15.0,140' '15.5,140' '16.0,140'\n",
      " '17.0,150' '17.5,150' '18.0,150' '19.5,160' '20.0,160' '20.5,160']\n",
      "long\n",
      "['8.0,100' '8.5,110' '9.0,110' '9.0,120' '9.5,120' '9.5,130' '10.0,130'\n",
      " '10.5,140' '11.0,140' '11.5,150' '12.0,150' '12.5,160' '13.0,160'\n",
      " '13.5,160' '14.0,170' '14.5,170' '15.0,170' '15.0,180' '15.5,180'\n",
      " '16.0,180' '16.5,180' '17.0,190' '17.5,190' '18.0,190' '18.5,200'\n",
      " '19.0,200' '19.5,200' '20.5,210' '21.0,210' '21.5,210']\n"
     ]
    },
    {
     "data": {
      "image/png": "[encoded data removed]",
      "text/plain": [
       "<Figure size 288x115.2 with 3 Axes>"
      ]
     },
     "metadata": {},
     "output_type": "display_data"
    }
   ],
   "source": [
    "print('threshold', 0.7)\n",
    "pt.plot_mse(short_ktau07_, long_ktau07_, K_lst_, tau_)\n",
    "#plt.savefig('../report/figures/interI_params/mse7_.svg', dpi=500, bbox_inches='tight')\n",
    "print(pt.get_opt_K(short_ktau07_, K_lst_, tau_, mse=True))\n",
    "print(pt.get_opt_K(long_ktau07_, K_lst_, tau_, mse=True))\n",
    "pt.parameter_behavioural_plausible(short_ktau07_, long_ktau07_, K_lst_, tau_)\n",
    "plt.savefig('../report/figures/interI_params/mse07_extended.svg', dpi=500, bbox_inches='tight')"
   ]
  },
  {
   "cell_type": "code",
   "execution_count": 29,
   "id": "32565a7a-1b0e-439b-877c-0f88e22c8175",
   "metadata": {},
   "outputs": [
    {
     "name": "stdout",
     "output_type": "stream",
     "text": [
      "6474.289113454314 24452.052133111767\n",
      "190 24.0\n",
      "[(190, 24.0), (200, 25.0)]\n",
      "200 27.5\n",
      "[(190, 27.5), (200, 27.5)]\n",
      "short\n",
      "[]\n",
      "long\n",
      "[]\n"
     ]
    },
    {
     "data": {
      "image/png": "[encoded data removed]",
      "text/plain": [
       "<Figure size 288x115.2 with 3 Axes>"
      ]
     },
     "metadata": {},
     "output_type": "display_data"
    }
   ],
   "source": [
    "pt.plot_mse(short_ktau07__, long_ktau07_, K_lst__, tau__)\n",
    "#plt.savefig('../report/figures/interI_params/mse7_.svg', dpi=500, bbox_inches='tight')\n",
    "print(pt.get_opt_K(short_ktau07__, K_lst__, tau__, mse=True))\n",
    "print(pt.get_opt_K(long_ktau07_, K_lst__, tau__, mse=True))\n",
    "pt.parameter_behavioural_plausible(short_ktau07__, long_ktau07_, K_lst__, tau__)"
   ]
  },
  {
   "cell_type": "code",
   "execution_count": 16,
   "id": "3970414d-ec90-458f-9b25-793e45dbbbeb",
   "metadata": {},
   "outputs": [
    {
     "name": "stdout",
     "output_type": "stream",
     "text": [
      "threshold 0.7\n",
      "-72.59101805500563 45.99361563624103\n",
      "110 10.0\n",
      "[(100, 9.5), (110, 10.0), (120, 10.0), (130, 9.5), (140, 4.0), (150, 3.5), (160, 4.0), (170, 6.0), (180, 6.5), (190, 7.0), (200, 7.5), (210, 8.5), (220, 10.0)]\n",
      "150 18.5\n",
      "[(100, 10.0), (110, 11.5), (120, 13.0), (130, 15.5), (140, 17.0), (150, 18.5), (160, 19.5), (170, 21.0), (180, 21.5), (190, 21.5), (200, 21.5), (210, 1.0), (220, 1.0)]\n",
      "short\n",
      "['8.5,100' '9.0,100' '10.0,110' '10.5,110' '11.5,120' '12.0,120'\n",
      " '13.0,130' '13.5,130' '14.0,130' '15.0,140' '15.5,140' '16.0,140'\n",
      " '17.0,150' '17.5,150' '18.0,150' '19.5,160' '20.0,160' '20.5,160']\n",
      "long\n",
      "['8.0,100' '8.5,110' '9.0,110' '9.0,120' '9.5,120' '9.5,130' '10.0,130'\n",
      " '10.5,140' '11.0,140' '11.5,150' '12.0,150' '12.5,160' '13.0,160'\n",
      " '13.5,160' '14.0,170' '14.5,170' '15.0,170' '15.0,180' '15.5,180'\n",
      " '16.0,180' '16.5,180' '17.0,190' '17.5,190' '18.0,190' '18.5,200'\n",
      " '19.0,200' '19.5,200' '20.5,210' '21.0,210' '21.5,210']\n"
     ]
    },
    {
     "data": {
      "image/png": "[encoded data removed]",
      "text/plain": [
       "<Figure size 288x115.2 with 3 Axes>"
      ]
     },
     "metadata": {},
     "output_type": "display_data"
    }
   ],
   "source": [
    "print('threshold', 0.7)\n",
    "pt.plot_mse(short_ktau07_, long_ktau07_, K_lst_, tau_, 'bias')\n",
    "#plt.savefig('../report/figures/interI_params/mse7_.svg', dpi=500, bbox_inches='tight')\n",
    "print(pt.get_opt_K(short_ktau07_, K_lst_, tau_, bias=True))\n",
    "print(pt.get_opt_K(long_ktau07_, K_lst_, tau_, bias=True))\n",
    "pt.parameter_behavioural_plausible(short_ktau07_, long_ktau07_, K_lst_, tau_)\n",
    "plt.savefig('../report/figures/interI_params/bias07_extended.svg', dpi=500, bbox_inches='tight')"
   ]
  },
  {
   "cell_type": "code",
   "execution_count": 17,
   "id": "58a44957-3e55-4744-aea7-4d1bcd2277d4",
   "metadata": {},
   "outputs": [
    {
     "name": "stdout",
     "output_type": "stream",
     "text": [
      "threshold 0.7\n",
      "255.64043836046275 20824.613324064212\n",
      "100 9.5\n",
      "[(100, 9.5), (110, 11.0), (120, 12.5), (130, 14.5), (140, 16.0), (150, 17.5), (160, 19.5), (170, 21.5), (180, 21.5), (190, 21.5), (200, 21.5), (210, 21.5), (220, 21.5)]\n",
      "110 11.0\n",
      "[(100, 10.0), (110, 11.0), (120, 12.0), (130, 13.0), (140, 14.5), (150, 15.5), (160, 17.0), (170, 18.5), (180, 20.5), (190, 21.5), (200, 21.5), (210, 21.5), (220, 21.5)]\n",
      "short\n",
      "['8.5,100' '9.0,100' '10.0,110' '10.5,110' '11.5,120' '12.0,120'\n",
      " '13.0,130' '13.5,130' '14.0,130' '15.0,140' '15.5,140' '16.0,140'\n",
      " '17.0,150' '17.5,150' '18.0,150' '19.5,160' '20.0,160' '20.5,160']\n",
      "long\n",
      "['8.0,100' '8.5,110' '9.0,110' '9.0,120' '9.5,120' '9.5,130' '10.0,130'\n",
      " '10.5,140' '11.0,140' '11.5,150' '12.0,150' '12.5,160' '13.0,160'\n",
      " '13.5,160' '14.0,170' '14.5,170' '15.0,170' '15.0,180' '15.5,180'\n",
      " '16.0,180' '16.5,180' '17.0,190' '17.5,190' '18.0,190' '18.5,200'\n",
      " '19.0,200' '19.5,200' '20.5,210' '21.0,210' '21.5,210']\n"
     ]
    },
    {
     "data": {
      "image/png": "[encoded data removed]",
      "text/plain": [
       "<Figure size 288x115.2 with 3 Axes>"
      ]
     },
     "metadata": {},
     "output_type": "display_data"
    }
   ],
   "source": [
    "print('threshold', 0.7)\n",
    "pt.plot_mse(short_ktau07_, long_ktau07_, K_lst_, tau_, 'bias2')\n",
    "#plt.savefig('../report/figures/interI_params/mse7_.svg', dpi=500, bbox_inches='tight')\n",
    "print(pt.get_opt_K(short_ktau07_, K_lst_, tau_, bias2=True))\n",
    "print(pt.get_opt_K(long_ktau07_, K_lst_, tau_, bias2=True))\n",
    "pt.parameter_behavioural_plausible(short_ktau07_, long_ktau07_, K_lst_, tau_)\n",
    "plt.savefig('../report/figures/interI_params/bias207_extended.svg', dpi=500, bbox_inches='tight')"
   ]
  },
  {
   "cell_type": "code",
   "execution_count": 20,
   "id": "9917da50-ee50-4f7a-83fe-75c3fabd0690",
   "metadata": {},
   "outputs": [
    {
     "name": "stdout",
     "output_type": "stream",
     "text": [
      "threshold 0.7\n",
      "2280.979503710504 44439.8040450981\n",
      "130 4.0\n",
      "[(100, 2.5), (110, 3.5), (120, 4.0), (130, 4.0), (140, 4.5), (150, 5.5), (160, 6.5), (170, 6.0), (180, 8.0), (190, 8.0), (200, 8.0), (210, 8.5), (220, 9.5)]\n",
      "200 4.0\n",
      "[(100, 2.0), (110, 1.5), (120, 1.5), (130, 2.0), (140, 2.5), (150, 2.5), (160, 2.5), (170, 3.0), (180, 3.5), (190, 4.0), (200, 4.0), (210, 4.5), (220, 4.5)]\n",
      "short\n",
      "['8.5,100' '9.0,100' '10.0,110' '10.5,110' '11.5,120' '12.0,120'\n",
      " '13.0,130' '13.5,130' '14.0,130' '15.0,140' '15.5,140' '16.0,140'\n",
      " '17.0,150' '17.5,150' '18.0,150' '19.5,160' '20.0,160' '20.5,160']\n",
      "long\n",
      "['8.0,100' '8.5,110' '9.0,110' '9.0,120' '9.5,120' '9.5,130' '10.0,130'\n",
      " '10.5,140' '11.0,140' '11.5,150' '12.0,150' '12.5,160' '13.0,160'\n",
      " '13.5,160' '14.0,170' '14.5,170' '15.0,170' '15.0,180' '15.5,180'\n",
      " '16.0,180' '16.5,180' '17.0,190' '17.5,190' '18.0,190' '18.5,200'\n",
      " '19.0,200' '19.5,200' '20.5,210' '21.0,210' '21.5,210']\n"
     ]
    },
    {
     "data": {
      "image/png": "[encoded data removed]",
      "text/plain": [
       "<Figure size 288x115.2 with 3 Axes>"
      ]
     },
     "metadata": {},
     "output_type": "display_data"
    }
   ],
   "source": [
    "print('threshold', 0.7)\n",
    "pt.plot_mse(short_ktau07_, long_ktau07_, K_lst_, tau_, 'var')\n",
    "#plt.savefig('../report/figures/interI_params/mse7_.svg', dpi=500, bbox_inches='tight')\n",
    "print(pt.get_opt_K(short_ktau07_, K_lst_, tau_, var=True))\n",
    "print(pt.get_opt_K(long_ktau07_, K_lst_, tau_, var=True))\n",
    "pt.parameter_behavioural_plausible(short_ktau07_, long_ktau07_, K_lst_, tau_)\n",
    "plt.savefig('../report/figures/interI_params/var7_extended.svg', dpi=500, bbox_inches='tight')"
   ]
  },
  {
   "cell_type": "code",
   "execution_count": 36,
   "id": "75de3a06-ede8-427b-9565-54813dbbb133",
   "metadata": {},
   "outputs": [
    {
     "name": "stdout",
     "output_type": "stream",
     "text": [
      "timeouts: [(400, 0.0), (450, 0.0), (500, 0.0), (550, 0.01), (600, 0.0), (650, 0.0), (700, 0.0)]\n",
      "0.5019473773311726\n",
      "timeouts: [(700, 0.0), (750, 0.0), (800, 0.0), (850, 0.0), (900, 0.0), (950, 0.0), (1000, 0.0)]\n",
      "0.7720679821976861\n"
     ]
    },
    {
     "data": {
      "image/png": "[encoded data removed]",
      "text/plain": [
       "<Figure size 165.6x144 with 1 Axes>"
      ]
     },
     "metadata": {},
     "output_type": "display_data"
    }
   ],
   "source": [
    "np.random.seed(0)\n",
    "params = Params(ntrials=500, delay=700, tau=200, sigma=0.02, th=0.7)\n",
    "expsim = ExperimentSimulation(params)\n",
    "\n",
    "fig, ax = plt.subplots(1,1, figsize=(2.3,2))\n",
    "\n",
    "K = 25\n",
    "exp_result = expsim.simulate(stimulus_lst_short, K)\n",
    "plot = exp_result.create_behavioral_plot()\n",
    "plot.plot_behavior(ax)\n",
    "print(exp_result.create_behavioral_data().slope)\n",
    "\n",
    "K = 20\n",
    "exp_result = expsim.simulate(stimulus_lst_long, K)\n",
    "plot = exp_result.create_behavioral_plot()\n",
    "plot.plot_behavior(ax)\n",
    "print(exp_result.create_behavioral_data().slope)\n",
    "\n",
    "ax.set(xlabel='stimulus (ms)', ylabel='reproduction (ms)')\n",
    "ax.spines['right'].set_visible(False)\n",
    "ax.spines['top'].set_visible(False) \n",
    "\n",
    "plt.tight_layout()\n",
    "plt.savefig('../report/figures/interI_params/mse07_beh_long.svg', dpi=500, bbox_inches='tight')"
   ]
  },
  {
   "cell_type": "code",
   "execution_count": null,
   "id": "72aa1e46-3d00-427f-9dc4-d0f96ce9686c",
   "metadata": {},
   "outputs": [],
   "source": [
    "# np.random.seed(0)\n",
    "params = Params(ntrials=500, delay=700, tau=120, sigma=0.02, th=0.7)\n",
    "expsim = ExperimentSimulation(params)\n",
    "\n",
    "fig, ax = plt.subplots(1,1, figsize=(2.3,2))\n",
    "\n",
    "K = 11\n",
    "exp_result = expsim.simulate(stimulus_lst_short, K)\n",
    "plot = exp_result.create_behavioral_plot()\n",
    "plot.plot_behavior(ax)\n",
    "print(exp_result.create_behavioral_data().slope)\n",
    "\n",
    "K = 7\n",
    "exp_result = expsim.simulate(stimulus_lst_long, K)\n",
    "plot = exp_result.create_behavioral_plot()\n",
    "plot.plot_behavior(ax)\n",
    "print(exp_result.create_behavioral_data().slope)\n",
    "\n",
    "ax.set(xlabel='stimulus (ms)', ylabel='reproduction (ms)')\n",
    "ax.spines['right'].set_visible(False)\n",
    "ax.spines['top'].set_visible(False) \n",
    "\n",
    "plt.tight_layout()\n",
    "plt.savefig('../report/figures/interI_params/mse07_beh_short.svg', dpi=500, bbox_inches='tight')"
   ]
  },
  {
   "cell_type": "code",
   "execution_count": null,
   "id": "8df60972-4d18-4d9e-8a2a-a53c18fb58f3",
   "metadata": {},
   "outputs": [],
   "source": []
  }
 ],
 "metadata": {
  "kernelspec": {
   "display_name": "Python 3 (ipykernel)",
   "language": "python",
   "name": "python3"
  },
  "language_info": {
   "codemirror_mode": {
    "name": "ipython",
    "version": 3
   },
   "file_extension": ".py",
   "mimetype": "text/x-python",
   "name": "python",
   "nbconvert_exporter": "python",
   "pygments_lexer": "ipython3",
   "version": "3.9.7"
  }
 },
 "nbformat": 4,
 "nbformat_minor": 5
}
