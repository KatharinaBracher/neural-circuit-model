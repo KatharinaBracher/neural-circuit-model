{
 "cells": [
  {
   "cell_type": "code",
   "execution_count": 1,
   "id": "f962f536-6fa8-4f58-9d83-fd153dcb6e8a",
   "metadata": {},
   "outputs": [],
   "source": [
    "from onetwogo import Params\n",
    "from onetwogo.parallel_simulation import ParallelSimulation\n",
    "from onetwogo.experiment_simulation import ExperimentSimulation\n",
    "from onetwogo.plot import SimulationPlot\n",
    "from onetwogo.plot import BehavioralPlot\n",
    "\n",
    "import numpy as np\n",
    "import seaborn as sns\n",
    "import matplotlib\n",
    "import matplotlib.pyplot as plt\n",
    "from scipy.stats import linregress\n",
    "import pickle\n",
    "\n",
    "import parameter_tuning as pt\n",
    "\n",
    "%load_ext autoreload\n",
    "%autoreload 2"
   ]
  },
  {
   "cell_type": "code",
   "execution_count": 2,
   "id": "4d509dfe-52b5-46be-9eb0-e33fe92e9aad",
   "metadata": {},
   "outputs": [],
   "source": [
    "sns.set_style(\"ticks\", {'font.family':'sans-serif', \n",
    "               'font.sans-serif':['CMU Serif'],\n",
    "               'size': 11})"
   ]
  },
  {
   "cell_type": "code",
   "execution_count": 3,
   "id": "e4a9fcbe-e203-4aac-84e7-1d038dd9a7df",
   "metadata": {},
   "outputs": [],
   "source": [
    "import matplotlib as mpl\n",
    "from matplotlib import rc\n",
    "\n",
    "rc('text', usetex=True)\n",
    "font = {'family':'CMU Serif', \n",
    "               #'sans-serif':['Helvetica'],\n",
    "               'size': 11}\n",
    "mpl.rc('font', **font)"
   ]
  },
  {
   "cell_type": "code",
   "execution_count": 4,
   "id": "f7fb5102-7e5e-4a61-9874-6d41d98af95d",
   "metadata": {},
   "outputs": [],
   "source": [
    "PARAMS_DICT = {'Wui': 6,\n",
    "              'Wuv': 6,\n",
    "              'Wvi': 6,\n",
    "              'Wvu': 6,\n",
    "              'dt': 10,\n",
    "              'tau': 100,\n",
    "              'th': 0.1,\n",
    "              'IF': -500,\n",
    "              'uinit': 0.7,\n",
    "              'vinit': 0.2,\n",
    "              'yinit': 0.5,\n",
    "              'Iinit': 1.02,\n",
    "              'first_duration': 750, \n",
    "              'sigma': 0.01, \n",
    "              'ntrials': 500,\n",
    "              'delay': 500}"
   ]
  },
  {
   "cell_type": "code",
   "execution_count": 5,
   "id": "727da0b1-6b7d-406f-a380-3901697cfef5",
   "metadata": {},
   "outputs": [],
   "source": [
    "range_short = [400, 450, 500, 550, 600, 650, 700]\n",
    "range_long = [700, 750, 800, 850, 900, 950, 1000]\n",
    "mid_range = [550, 600, 650, 700, 750, 800, 850]\n",
    "all_range = [400, 450, 500, 550, 600, 650, 700, 750, 800, 850, 900, 950, 1000]\n",
    "short_few = [400, 550, 700]\n",
    "all_few = [400, 500, 600, 700, 800, 900, 1000]\n",
    "short_few2 = [400, 500, 600, 700]\n",
    "extra_long = [900, 950, 1000, 1050, 1100, 1150, 1200]"
   ]
  },
  {
   "cell_type": "code",
   "execution_count": 8,
   "id": "93b9d71a-d0d2-4f73-801e-b33c82d8a609",
   "metadata": {},
   "outputs": [],
   "source": [
    "stimulus_lst_mid = np.loadtxt('stimlst_mid_550_850.txt', dtype=int)\n",
    "stimulus_lst_all = np.loadtxt('stimlst_all_400_1000.txt', dtype=int)\n",
    "stimulus_lst_few_short = np.loadtxt('stimlst_few_short_400_700.txt', dtype=int)\n",
    "stimulus_lst_few_all = np.loadtxt('stimlst_few_all_400_1000.txt', dtype=int)\n",
    "stimulus_lst_extralong = np.loadtxt('stimlst_extralong_900_1200.txt', dtype=int)\n",
    "stimulus_lst_short = np.loadtxt('stimlst_short_400_700_7_a.txt', dtype=int)\n",
    "stimulus_lst_long = np.loadtxt('stimlst_long_700_1000_7_a.txt', dtype=int)"
   ]
  },
  {
   "cell_type": "markdown",
   "id": "0ff939af-b951-4144-afb5-098640e7b8ab",
   "metadata": {},
   "source": [
    "## Parameter Space"
   ]
  },
  {
   "cell_type": "code",
   "execution_count": 7,
   "id": "db7378d5-f70f-47f0-890f-21947c2ed8e2",
   "metadata": {},
   "outputs": [],
   "source": [
    "K_lst = np.arange(1, 22, 0.5)\n",
    "tau = np.arange(100, 230, 10)\n",
    "seed_lst = np.arange(0, 21, 1)"
   ]
  },
  {
   "cell_type": "markdown",
   "id": "5e29b419-1bed-4cba-a8eb-36d4fb265563",
   "metadata": {},
   "source": [
    "# SHORT & LONG"
   ]
  },
  {
   "cell_type": "code",
   "execution_count": 18,
   "id": "4c6cb48d-f255-4686-9deb-1d944b06e575",
   "metadata": {},
   "outputs": [],
   "source": [
    "path = '../results/intermediateI/'\n",
    "short_ktau07_seed, long_ktau07_seed = pt.load_data(\n",
    "    path+'SHORT_K1-22_TAU130_th07_del700_sig02_seed-20220923-121834-output.pickle',\n",
    "    path+'LONG_K1-22_TAU130_th07_del700_sig02_seed-20220923-122722-output.pickle')"
   ]
  },
  {
   "cell_type": "code",
   "execution_count": 20,
   "id": "544158c9-3d45-4198-9a22-c158464d267b",
   "metadata": {},
   "outputs": [
    {
     "name": "stdout",
     "output_type": "stream",
     "text": [
      "17 13.5\n",
      "18 8.0\n"
     ]
    }
   ],
   "source": [
    "short_k = pt.get_mean_seed(short_ktau07_seed, K_lst, seed_lst, True)\n",
    "long_k = pt.get_mean_seed(long_ktau07_seed, K_lst, seed_lst, True)"
   ]
  },
  {
   "cell_type": "markdown",
   "id": "d83ad491-6b59-47b7-b17e-b815ecbcb0b9",
   "metadata": {},
   "source": [
    "# MID & ALL"
   ]
  },
  {
   "cell_type": "code",
   "execution_count": 21,
   "id": "b4dfaebd-aee2-47b4-ac52-fa8551f926f5",
   "metadata": {},
   "outputs": [],
   "source": [
    "path = '../results/range/'\n",
    "mid_data, all_data = pt.load_data(path+'inter_MID_07-20221001-115027-output.pickle',\n",
    "                                  path+'inter_ALL_07-20221001-115833-output.pickle')\n",
    "\n",
    "mid_data_seed, all_data_seed = pt.load_data(path+'inter_MID_07_seed-20221001-152829-output.pickle',\n",
    "                                  path+'inter_ALL_07_seed-20221001-160258-output.pickle')"
   ]
  },
  {
   "cell_type": "code",
   "execution_count": 11,
   "id": "4cf52fc2-2147-4978-bab6-a6852c1e28c2",
   "metadata": {},
   "outputs": [
    {
     "name": "stdout",
     "output_type": "stream",
     "text": [
      "-0.23492230186963775 1.2873119081561573\n"
     ]
    },
    {
     "data": {
      "image/png": "[encoded data removed]",
      "text/plain": [
       "<Figure size 288x115.2 with 3 Axes>"
      ]
     },
     "metadata": {},
     "output_type": "display_data"
    }
   ],
   "source": [
    "pt.plot_slope_behavior(mid_data, all_data, K_lst, tau)"
   ]
  },
  {
   "cell_type": "code",
   "execution_count": 12,
   "id": "82b65520-c8d6-4778-a569-26520d002610",
   "metadata": {},
   "outputs": [
    {
     "name": "stdout",
     "output_type": "stream",
     "text": [
      "4788.74392449582 54741.42254810985\n",
      "170 17.5\n",
      "[(100, 7.0), (110, 7.0), (120, 9.0), (130, 10.5), (140, 12.0), (150, 14.5), (160, 15.5), (170, 17.5), (180, 18.5), (190, 20.5), (200, 21.5), (210, 21.5), (220, 21.5)]\n",
      "140 12.5\n",
      "[(100, 9.0), (110, 10.0), (120, 11.5), (130, 11.0), (140, 12.5), (150, 14.0), (160, 15.5), (170, 17.0), (180, 18.0), (190, 20.5), (200, 21.0), (210, 21.5), (220, 21.0)]\n",
      "mid range\n",
      "['7.5,100' '8.0,100' '8.5,110' '9.0,110' '9.5,120' '10.0,120' '10.5,130'\n",
      " '11.0,130' '11.5,130' '12.0,140' '12.5,140' '13.0,140' '13.5,150'\n",
      " '14.0,150' '14.5,150' '15.0,160' '15.5,160' '16.0,160' '16.5,160'\n",
      " '17.0,170' '17.5,170' '18.0,170' '18.5,170' '19.0,180' '19.5,180'\n",
      " '20.0,180' '20.5,180' '21.0,190' '21.5,190']\n",
      "all range\n",
      "['8.0,100' '8.5,100' '8.5,110' '9.0,110' '9.5,110' '9.5,120' '10.0,120'\n",
      " '10.5,120' '11.0,130' '11.5,130' '12.0,140' '12.5,140' '13.0,140'\n",
      " '13.0,150' '13.5,150' '14.0,150' '15.0,160' '15.5,160' '16.0,160'\n",
      " '16.5,170' '17.0,170' '17.5,170' '18.5,180' '19.0,180' '19.5,180'\n",
      " '20.5,190' '21.0,190' '21.5,190']\n"
     ]
    },
    {
     "data": {
      "image/png": "[encoded data removed]",
      "text/plain": [
       "<Figure size 288x115.2 with 3 Axes>"
      ]
     },
     "metadata": {},
     "output_type": "display_data"
    }
   ],
   "source": [
    "pt.plot_mse(mid_data, all_data, K_lst, tau)\n",
    "print(pt.get_opt_K(mid_data, K_lst, tau, mse=True))\n",
    "print(pt.get_opt_K(all_data, K_lst, tau, mse=True))\n",
    "pt.parameter_behavioural_plausible(mid_data, all_data, K_lst, tau)"
   ]
  },
  {
   "cell_type": "code",
   "execution_count": 112,
   "id": "a6cc0e64-e083-450b-9cb5-9541a0717dec",
   "metadata": {},
   "outputs": [
    {
     "name": "stdout",
     "output_type": "stream",
     "text": [
      "14 11.0\n",
      "14 11.0\n"
     ]
    },
    {
     "data": {
      "text/plain": [
       "(10.428571428571429, 0.5183700251685057)"
      ]
     },
     "execution_count": 112,
     "metadata": {},
     "output_type": "execute_result"
    }
   ],
   "source": [
    "pt.get_mean_seed(mid_data_seed, K_lst, seed_lst)"
   ]
  },
  {
   "cell_type": "code",
   "execution_count": 22,
   "id": "dd56e636-ce11-47b0-b806-54093e34cd8f",
   "metadata": {},
   "outputs": [
    {
     "name": "stdout",
     "output_type": "stream",
     "text": [
      "14 11.0\n"
     ]
    }
   ],
   "source": [
    "mid_k = pt.get_mean_seed(mid_data_seed, K_lst, seed_lst, True)"
   ]
  },
  {
   "cell_type": "code",
   "execution_count": 26,
   "id": "b201559d-5d1b-42f9-a360-937404c3ec25",
   "metadata": {},
   "outputs": [
    {
     "name": "stdout",
     "output_type": "stream",
     "text": [
      "5 12.0\n",
      "5 12.0\n"
     ]
    },
    {
     "data": {
      "text/plain": [
       "(11.428571428571429, 0.5624291338579864)"
      ]
     },
     "execution_count": 26,
     "metadata": {},
     "output_type": "execute_result"
    }
   ],
   "source": [
    "pt.get_mean_seed(all_data_seed, K_lst, seed_lst)"
   ]
  },
  {
   "cell_type": "code",
   "execution_count": 23,
   "id": "4927ec5e-917d-478f-96b6-e892964c7156",
   "metadata": {},
   "outputs": [
    {
     "name": "stdout",
     "output_type": "stream",
     "text": [
      "5 12.0\n"
     ]
    }
   ],
   "source": [
    "alle_k = pt.get_mean_seed(all_data_seed, K_lst, seed_lst, True)"
   ]
  },
  {
   "cell_type": "code",
   "execution_count": 16,
   "id": "8c6cd6a2-bde9-4db7-ac8c-d7ff65859f32",
   "metadata": {},
   "outputs": [
    {
     "name": "stdout",
     "output_type": "stream",
     "text": [
      "timeouts: [(550, 0.0), (600, 0.0), (650, 0.0), (700, 0.0), (750, 0.0), (800, 0.0), (850, 0.0)]\n",
      "0.7932859676448458\n"
     ]
    },
    {
     "data": {
      "image/png": "[encoded data removed]",
      "text/plain": [
       "<Figure size 180x144 with 1 Axes>"
      ]
     },
     "metadata": {},
     "output_type": "display_data"
    }
   ],
   "source": [
    "np.random.seed(0)\n",
    "params = Params(ntrials=500, delay=700, tau=130, sigma=0.02, th=0.7)\n",
    "expsim = ExperimentSimulation(params)\n",
    "\n",
    "fig, ax = plt.subplots(1,1, figsize=(2.5,2))\n",
    "\n",
    "K = 10.5\n",
    "exp_result = expsim.simulate(stimulus_lst_mid, K)\n",
    "plot = exp_result.create_behavioral_plot()\n",
    "plot.plot_behavior(ax)\n",
    "print(exp_result.create_behavioral_data().slope)\n",
    "\n",
    "ax.set(xlabel='stimulus [ms]', ylabel='reproduction [ms]')\n",
    "ax.spines['right'].set_visible(False)\n",
    "ax.spines['top'].set_visible(False) \n",
    "\n",
    "plt.tight_layout()"
   ]
  },
  {
   "cell_type": "code",
   "execution_count": 10,
   "id": "cad7be1c-e10c-447e-927d-6ccc5249c46d",
   "metadata": {},
   "outputs": [
    {
     "name": "stdout",
     "output_type": "stream",
     "text": [
      "timeouts: [(550, 0.0), (600, 0.0), (650, 0.0), (700, 0.0), (750, 0.0), (800, 0.0), (850, 0.0)]\n",
      "0.816582798500381\n"
     ]
    },
    {
     "data": {
      "image/png": "[encoded data removed]",
      "text/plain": [
       "<Figure size 180x144 with 1 Axes>"
      ]
     },
     "metadata": {},
     "output_type": "display_data"
    }
   ],
   "source": [
    "np.random.seed(0)\n",
    "params = Params(ntrials=500, delay=700, tau=170, sigma=0.02, th=0.7)\n",
    "expsim = ExperimentSimulation(params)\n",
    "\n",
    "fig, ax = plt.subplots(1,1, figsize=(2.5,2))\n",
    "\n",
    "K = 17.5\n",
    "exp_result = expsim.simulate(stimulus_lst_mid, K)\n",
    "plot = exp_result.create_behavioral_plot()\n",
    "plot.plot_behavior(ax)\n",
    "print(exp_result.create_behavioral_data().slope)\n",
    "\n",
    "ax.set(xlabel='stimulus [ms]', ylabel='reproduction [ms]')\n",
    "ax.spines['right'].set_visible(False)\n",
    "ax.spines['top'].set_visible(False) \n",
    "\n",
    "plt.tight_layout()"
   ]
  },
  {
   "cell_type": "code",
   "execution_count": 17,
   "id": "14eb458e-25f2-49bb-9f1a-4431addd3e2a",
   "metadata": {},
   "outputs": [
    {
     "name": "stdout",
     "output_type": "stream",
     "text": [
      "timeouts: [(400, 0.0), (450, 0.0), (500, 0.0), (550, 0.0), (600, 0.0), (650, 0.0), (700, 0.0), (750, 0.0), (800, 0.0), (850, 0.0), (900, 0.0), (950, 0.05), (1000, 0.0)]\n",
      "0.705695417186016\n"
     ]
    },
    {
     "data": {
      "image/png": "[encoded data removed]",
      "text/plain": [
       "<Figure size 180x144 with 1 Axes>"
      ]
     },
     "metadata": {},
     "output_type": "display_data"
    }
   ],
   "source": [
    "np.random.seed(0)\n",
    "params = Params(ntrials=500, delay=700, tau=130, sigma=0.02, th=0.7)\n",
    "expsim = ExperimentSimulation(params)\n",
    "\n",
    "fig, ax = plt.subplots(1,1, figsize=(2.5,2))\n",
    "\n",
    "K = 11\n",
    "exp_result = expsim.simulate(stimulus_lst_all, K)\n",
    "plot = exp_result.create_behavioral_plot()\n",
    "plot.plot_behavior(ax)\n",
    "print(exp_result.create_behavioral_data().slope)\n",
    "\n",
    "ax.set(xlabel='stimulus [ms]', ylabel='reproduction [ms]')\n",
    "ax.spines['right'].set_visible(False)\n",
    "ax.spines['top'].set_visible(False) \n",
    "\n",
    "plt.tight_layout()"
   ]
  },
  {
   "cell_type": "code",
   "execution_count": 9,
   "id": "48c6286f-275d-4243-bc9b-adbda4adb9f7",
   "metadata": {},
   "outputs": [
    {
     "name": "stdout",
     "output_type": "stream",
     "text": [
      "timeouts: [(400, 0.0), (450, 0.0), (500, 0.0), (550, 0.0), (600, 0.0), (650, 0.0), (700, 0.0)]\n",
      "0.7712727139927705\n",
      "timeouts: [(700, 0.0), (750, 0.0), (800, 0.0), (850, 0.0), (900, 0.0), (950, 0.0), (1000, 0.0)]\n",
      "0.7293959652015919\n",
      "timeouts: [(550, 0.0), (600, 0.0), (650, 0.0), (700, 0.0), (750, 0.0), (800, 0.0), (850, 0.0)]\n",
      "0.7932859676448458\n"
     ]
    },
    {
     "data": {
      "image/png": "[encoded data removed]",
      "text/plain": [
       "<Figure size 180x144 with 1 Axes>"
      ]
     },
     "metadata": {},
     "output_type": "display_data"
    }
   ],
   "source": [
    "np.random.seed(0)\n",
    "params = Params(ntrials=500, delay=700, tau=130, sigma=0.02, th=0.7)\n",
    "expsim = ExperimentSimulation(params)\n",
    "\n",
    "fig, ax = plt.subplots(1,1, figsize=(2.5,2))\n",
    "\n",
    "K = 13\n",
    "exp_result = expsim.simulate(stimulus_lst_short, K)\n",
    "plot = exp_result.create_behavioral_plot()\n",
    "plot.plot_behavior(ax)\n",
    "print(exp_result.create_behavioral_data().slope)\n",
    "\n",
    "np.random.seed(0)\n",
    "K = 10\n",
    "exp_result = expsim.simulate(stimulus_lst_long, K)\n",
    "plot = exp_result.create_behavioral_plot()\n",
    "plot.plot_behavior(ax)\n",
    "print(exp_result.create_behavioral_data().slope)\n",
    "\n",
    "np.random.seed(0)\n",
    "K = 10.5\n",
    "exp_result = expsim.simulate(stimulus_lst_mid, K)\n",
    "plot = exp_result.create_behavioral_plot()\n",
    "plot.plot_behavior(ax)\n",
    "print(exp_result.create_behavioral_data().slope)\n",
    "\n",
    "ax.set(xlabel='stimulus [ms]', ylabel='reproduction [ms]')\n",
    "ax.spines['right'].set_visible(False)\n",
    "ax.spines['top'].set_visible(False) \n",
    "\n",
    "plt.tight_layout()"
   ]
  },
  {
   "cell_type": "markdown",
   "id": "3265c699-28bf-4636-a9c3-8fdba92d2a0e",
   "metadata": {},
   "source": [
    "# FEW SHORT & FEW ALL"
   ]
  },
  {
   "cell_type": "code",
   "execution_count": 24,
   "id": "7c6260af-8505-479f-818d-4bd110b98835",
   "metadata": {},
   "outputs": [],
   "source": [
    "path = '../results/range/'\n",
    "few_short_data, few_all_data = pt.load_data(path+'inter_FEW_SHORT_07-20221001-143203-output.pickle',\n",
    "                                            path+'inter_FEW_ALL_07-20221001-150559-output.pickle')\n",
    "\n",
    "few_short_seed, few_all_seed = pt.load_data(path+'inter_FEW_SHORT_07_seed-20221001-161648-output.pickle',\n",
    "                                            path+'inter_FEW_ALL_07_seed-20221001-162505-output.pickle')"
   ]
  },
  {
   "cell_type": "code",
   "execution_count": 21,
   "id": "f2edca95-5ae4-4b14-aaaf-685a4d997bd3",
   "metadata": {},
   "outputs": [
    {
     "name": "stdout",
     "output_type": "stream",
     "text": [
      "-0.3507470227354747 1.243099255205958\n"
     ]
    },
    {
     "data": {
      "image/png": "[encoded data removed]",
      "text/plain": [
       "<Figure size 288x115.2 with 3 Axes>"
      ]
     },
     "metadata": {},
     "output_type": "display_data"
    }
   ],
   "source": [
    "pt.plot_slope_behavior(few_short_data, few_all_data, K_lst, tau)"
   ]
  },
  {
   "cell_type": "code",
   "execution_count": 20,
   "id": "9fbc6d45-bcf3-491d-8e14-41da476fe752",
   "metadata": {},
   "outputs": [
    {
     "name": "stdout",
     "output_type": "stream",
     "text": [
      "3964.095284381858 60299.92024059266\n",
      "120 11.5\n",
      "[(100, 8.5), (110, 9.5), (120, 11.5), (130, 12.5), (140, 14.0), (150, 15.5), (160, 17.5), (170, 20.5), (180, 20.5), (190, 21.0), (200, 21.5), (210, 21.5), (220, 21.5)]\n",
      "160 15.0\n",
      "[(100, 8.0), (110, 9.0), (120, 10.0), (130, 11.0), (140, 12.0), (150, 13.5), (160, 15.0), (170, 16.0), (180, 17.5), (190, 19.5), (200, 20.0), (210, 21.5), (220, 21.0)]\n",
      "few short range\n",
      "['8.5,100' '9.0,100' '10.0,110' '10.5,110' '11.5,120' '12.0,120'\n",
      " '13.0,130' '13.5,130' '15.0,140' '15.5,140' '17.0,150' '17.5,150'\n",
      " '19.0,160' '19.5,160' '21.5,170']\n",
      "few all range\n",
      "['7.5,100' '8.0,100' '8.5,110' '9.0,110' '9.5,120' '10.0,120' '10.5,130'\n",
      " '11.0,130' '11.5,140' '12.0,140' '13.0,150' '13.5,150' '14.5,160'\n",
      " '15.0,160' '16.0,170' '16.5,170' '17.5,180' '18.0,180' '18.5,180'\n",
      " '19.0,190' '19.5,190' '20.0,190' '21.5,200']\n"
     ]
    },
    {
     "data": {
      "image/png": "[encoded data removed]",
      "text/plain": [
       "<Figure size 288x115.2 with 3 Axes>"
      ]
     },
     "metadata": {},
     "output_type": "display_data"
    }
   ],
   "source": [
    "pt.plot_mse(few_short_data, few_all_data, K_lst, tau)\n",
    "print(pt.get_opt_K(few_short_data, K_lst, tau, mse=True))\n",
    "print(pt.get_opt_K(few_all_data, K_lst, tau, mse=True))\n",
    "pt.parameter_behavioural_plausible(few_short_data, few_all_data, K_lst, tau)"
   ]
  },
  {
   "cell_type": "code",
   "execution_count": 13,
   "id": "e1bbb968-468b-4535-9792-00b5b7b3bd75",
   "metadata": {},
   "outputs": [
    {
     "name": "stdout",
     "output_type": "stream",
     "text": [
      "11 13.0\n",
      "11 13.0\n"
     ]
    },
    {
     "data": {
      "text/plain": [
       "(12.595238095238095, 0.3316282923139075)"
      ]
     },
     "execution_count": 13,
     "metadata": {},
     "output_type": "execute_result"
    }
   ],
   "source": [
    "pt.get_mean_seed(few_short_seed, K_lst, seed_lst)"
   ]
  },
  {
   "cell_type": "code",
   "execution_count": 14,
   "id": "f24a8292-2d8e-48aa-8b1b-4057b942ec6e",
   "metadata": {},
   "outputs": [
    {
     "name": "stdout",
     "output_type": "stream",
     "text": [
      "4 12.5\n",
      "4 12.5\n"
     ]
    },
    {
     "data": {
      "text/plain": [
       "(11.666666666666666, 0.3883215816738117)"
      ]
     },
     "execution_count": 14,
     "metadata": {},
     "output_type": "execute_result"
    }
   ],
   "source": [
    "pt.get_mean_seed(few_all_seed, K_lst, seed_lst)"
   ]
  },
  {
   "cell_type": "code",
   "execution_count": 26,
   "id": "0b7d8ccd-178c-4b36-8618-2f9520165621",
   "metadata": {},
   "outputs": [],
   "source": [
    "path = '../results/range/'\n",
    "few_short_data, few_short2_data = pt.load_data(path+'inter_FEW_SHORT_07-20221001-143203-output.pickle',\n",
    "                                            path+'inter_short_few_2_07-20221005-120253-output.pickle')\n",
    "\n",
    "few_short_seed, few_short2_seed = pt.load_data(path+'inter_FEW_SHORT_07_seed-20221001-161648-output.pickle',\n",
    "                                            path+'inter_short_few_2_07_seed-20221005-121133-output.pickle')"
   ]
  },
  {
   "cell_type": "code",
   "execution_count": 38,
   "id": "fa77b6f0-08d2-4417-b410-377223d604ce",
   "metadata": {},
   "outputs": [
    {
     "name": "stdout",
     "output_type": "stream",
     "text": [
      "3871.57384429949 33154.69036757382\n",
      "120 11.5\n",
      "[(100, 8.5), (110, 9.5), (120, 11.5), (130, 12.5), (140, 14.0), (150, 15.5), (160, 17.5), (170, 20.5), (180, 20.5), (190, 21.0), (200, 21.5), (210, 21.5), (220, 21.5)]\n",
      "120 11.0\n",
      "[(100, 8.5), (110, 10.0), (120, 11.0), (130, 12.5), (140, 14.0), (150, 15.5), (160, 18.5), (170, 20.5), (180, 21.5), (190, 21.5), (200, 21.5), (210, 21.0), (220, 21.5)]\n",
      "long range\n",
      "['8.5,100' '9.0,100' '10.0,110' '10.5,110' '11.5,120' '12.0,120'\n",
      " '13.0,130' '13.5,130' '15.0,140' '15.5,140' '17.0,150' '17.5,150'\n",
      " '19.0,160' '19.5,160' '21.5,170']\n",
      "extra long range\n",
      "['8.0,100' '8.5,100' '9.0,110' '9.5,110' '10.5,120' '11.0,120' '11.5,120'\n",
      " '12.0,130' '12.5,130' '13.0,130' '14.0,140' '14.5,140' '15.0,140'\n",
      " '16.0,150' '16.5,150' '17.0,150' '18.0,160' '18.5,160' '19.0,160'\n",
      " '20.5,170' '21.0,170' '21.5,170']\n"
     ]
    },
    {
     "data": {
      "image/png": "[encoded data removed]",
      "text/plain": [
       "<Figure size 288x115.2 with 3 Axes>"
      ]
     },
     "metadata": {},
     "output_type": "display_data"
    }
   ],
   "source": [
    "pt.plot_mse(few_short_data, few_short2_data, K_lst, tau)\n",
    "print(pt.get_opt_K(few_short_data, K_lst, tau, mse=True))\n",
    "print(pt.get_opt_K(few_short2_data, K_lst, tau, mse=True))\n",
    "pt.parameter_behavioural_plausible(few_short_data, few_short2_data, K_lst, tau)"
   ]
  },
  {
   "cell_type": "code",
   "execution_count": 39,
   "id": "ce1b3cb6-6533-412f-af18-9dcc5a429fd4",
   "metadata": {},
   "outputs": [
    {
     "name": "stdout",
     "output_type": "stream",
     "text": [
      "8 13.0\n",
      "8 13.0\n"
     ]
    },
    {
     "data": {
      "text/plain": [
       "(12.547619047619047, 0.2629847861235062)"
      ]
     },
     "execution_count": 39,
     "metadata": {},
     "output_type": "execute_result"
    }
   ],
   "source": [
    "pt.get_mean_seed(few_short2_seed, K_lst, seed_lst)"
   ]
  },
  {
   "cell_type": "code",
   "execution_count": 27,
   "id": "85736aa4-682f-4992-8931-8e5a4e2f4a98",
   "metadata": {},
   "outputs": [
    {
     "name": "stdout",
     "output_type": "stream",
     "text": [
      "8 13.0\n",
      "4 12.5\n"
     ]
    }
   ],
   "source": [
    "short_few_k = pt.get_mean_seed(few_short2_seed, K_lst, seed_lst, True)\n",
    "alle_few_k = pt.get_mean_seed(few_all_seed, K_lst, seed_lst, True)"
   ]
  },
  {
   "cell_type": "markdown",
   "id": "8a1990f6-4c8e-4708-bf56-7e296436d816",
   "metadata": {},
   "source": [
    "## Extra long"
   ]
  },
  {
   "cell_type": "code",
   "execution_count": 12,
   "id": "2b681529-5c5f-4bfb-982d-919526b4b72d",
   "metadata": {},
   "outputs": [],
   "source": [
    "path = '../results/'\n",
    "long_data, extralong_data = pt.load_data(path+'intermediateI/LONG_K1-22TAU_th07_del700_sig02_fixed_seed-20220907-165928-output.pickle',\n",
    "                                            path+'range/inter_EXTRALONG_07-20221004-143144-output.pickle')\n",
    "\n",
    "long_seed, extralong_seed = pt.load_data(path+'intermediateI/LONG_K1-22_TAU130_th07_del700_sig02_seed-20220923-122722-output.pickle',\n",
    "                                            path+'range/inter_EXTRALONG_07_seed-20221004-133405-output.pickle')"
   ]
  },
  {
   "cell_type": "code",
   "execution_count": 13,
   "id": "d3427503-529e-4e3a-9fca-0013f2115d18",
   "metadata": {
    "tags": []
   },
   "outputs": [
    {
     "name": "stdout",
     "output_type": "stream",
     "text": [
      "8632.2919290215 97013.88568165064\n",
      "200 20.0\n",
      "[(100, 4.0), (110, 4.5), (120, 7.0), (130, 10.0), (140, 10.5), (150, 12.0), (160, 13.5), (170, 15.5), (180, 16.5), (190, 18.5), (200, 20.0), (210, 21.5), (220, 21.5)]\n",
      "210 15.0\n",
      "[(100, 2.5), (110, 3.0), (120, 3.0), (130, 3.5), (140, 3.5), (150, 6.0), (160, 7.0), (170, 9.5), (180, 11.5), (190, 13.5), (200, 13.0), (210, 15.0), (220, 16.0)]\n",
      "short range\n",
      "['8.5,100' '9.0,100' '9.0,110' '9.5,110' '10.0,120' '10.5,130' '11.0,130'\n",
      " '11.5,140' '12.0,140' '12.5,140' '12.5,150' '13.0,150' '13.5,150'\n",
      " '14.0,160' '14.5,160' '15.0,170' '15.5,170' '16.0,170' '16.5,180'\n",
      " '17.0,180' '17.5,180' '18.0,180' '18.0,190' '18.5,190' '19.0,190'\n",
      " '19.5,190' '20.0,200' '20.5,200' '21.0,200']\n",
      "long range\n",
      "['7.5,130' '8.0,120' '8.0,130' '8.0,140' '8.5,110' '8.5,120' '8.5,140'\n",
      " '8.5,150' '9.0,120' '9.0,150' '9.5,110' '9.5,150' '9.5,160' '10.0,110'\n",
      " '10.0,160' '10.5,160' '10.5,170' '11.0,170' '11.5,170' '12.0,180'\n",
      " '12.5,180' '12.5,190' '13.0,190' '13.5,190' '14.0,200' '14.5,200'\n",
      " '15.0,200' '15.0,210' '15.5,210' '16.0,210' '16.5,210' '16.5,220'\n",
      " '17.0,220' '17.5,220' '18.0,220' '18.5,220']\n"
     ]
    },
    {
     "data": {
      "image/png": "[encoded data removed]",
      "text/plain": [
       "<Figure size 288x115.2 with 3 Axes>"
      ]
     },
     "metadata": {},
     "output_type": "display_data"
    }
   ],
   "source": [
    "pt.plot_mse(long_data, extralong_data, K_lst, tau)\n",
    "print(pt.get_opt_K(long_data, K_lst, tau, mse=True))\n",
    "print(pt.get_opt_K(extralong_data, K_lst, tau, mse=True))\n",
    "pt.parameter_behavioural_plausible(long_data, extralong_data, K_lst, tau)"
   ]
  },
  {
   "cell_type": "code",
   "execution_count": 33,
   "id": "93b783c2-f776-4af5-b9fd-0fbeb9c11721",
   "metadata": {},
   "outputs": [
    {
     "name": "stdout",
     "output_type": "stream",
     "text": [
      "timeouts: [(900, 0.0), (950, 0.0), (1000, 0.01), (1050, 0.0), (1100, 0.01), (1150, 0.0), (1200, 0.0)]\n",
      "0.31461270686163717\n"
     ]
    },
    {
     "data": {
      "image/png": "[encoded data removed]",
      "text/plain": [
       "<Figure size 180x144 with 1 Axes>"
      ]
     },
     "metadata": {},
     "output_type": "display_data"
    }
   ],
   "source": [
    "np.random.seed(0)\n",
    "params = Params(ntrials=500, delay=700, tau=130, sigma=0.02, th=0.7)\n",
    "expsim = ExperimentSimulation(params)\n",
    "\n",
    "fig, ax = plt.subplots(1,1, figsize=(2.5,2))\n",
    "\n",
    "K = 3.5\n",
    "exp_result = expsim.simulate(stimulus_lst_extralong, K)\n",
    "plot = exp_result.create_behavioral_plot()\n",
    "plot.plot_behavior(ax)\n",
    "print(exp_result.create_behavioral_data().slope)\n",
    "\n",
    "ax.set(xlabel='stimulus [ms]', ylabel='reproduction [ms]')\n",
    "ax.spines['right'].set_visible(False)\n",
    "ax.spines['top'].set_visible(False) \n",
    "\n",
    "plt.tight_layout()"
   ]
  },
  {
   "cell_type": "code",
   "execution_count": 34,
   "id": "d6d2d660-072c-4a9f-9c09-8b816cfed07c",
   "metadata": {},
   "outputs": [
    {
     "name": "stdout",
     "output_type": "stream",
     "text": [
      "timeouts: [(900, 0.0), (950, 0.0), (1000, 0.0), (1050, 0.0), (1100, 0.0), (1150, 0.0), (1200, 0.0)]\n",
      "0.6812378485390838\n"
     ]
    },
    {
     "data": {
      "image/png": "[encoded data removed]",
      "text/plain": [
       "<Figure size 180x144 with 1 Axes>"
      ]
     },
     "metadata": {},
     "output_type": "display_data"
    }
   ],
   "source": [
    "np.random.seed(0)\n",
    "params = Params(ntrials=500, delay=700, tau=210, sigma=0.02, th=0.7)\n",
    "expsim = ExperimentSimulation(params)\n",
    "\n",
    "fig, ax = plt.subplots(1,1, figsize=(2.5,2))\n",
    "\n",
    "K = 15\n",
    "exp_result = expsim.simulate(stimulus_lst_extralong, K)\n",
    "plot = exp_result.create_behavioral_plot()\n",
    "plot.plot_behavior(ax)\n",
    "print(exp_result.create_behavioral_data().slope)\n",
    "\n",
    "ax.set(xlabel='stimulus [ms]', ylabel='reproduction [ms]')\n",
    "ax.spines['right'].set_visible(False)\n",
    "ax.spines['top'].set_visible(False) \n",
    "\n",
    "plt.tight_layout()"
   ]
  },
  {
   "cell_type": "code",
   "execution_count": 28,
   "id": "7c8a8aba-9912-4b51-9f05-81b140171bf4",
   "metadata": {},
   "outputs": [
    {
     "name": "stdout",
     "output_type": "stream",
     "text": [
      "3 3.0\n",
      "3 3.0\n"
     ]
    },
    {
     "data": {
      "text/plain": [
       "(3.119047619047619, 1.7175894092258508)"
      ]
     },
     "execution_count": 28,
     "metadata": {},
     "output_type": "execute_result"
    }
   ],
   "source": [
    "pt.get_mean_seed(extralong_seed, K_lst, seed_lst)"
   ]
  },
  {
   "cell_type": "code",
   "execution_count": 30,
   "id": "1c2b1db2-1099-4d1e-aed6-4af0fc8cd874",
   "metadata": {},
   "outputs": [
    {
     "name": "stdout",
     "output_type": "stream",
     "text": [
      "3 3.0\n"
     ]
    }
   ],
   "source": [
    "extralong_k = pt.get_mean_seed(extralong_seed, K_lst, seed_lst, True)"
   ]
  },
  {
   "cell_type": "markdown",
   "id": "98accf38-ed6d-428e-9274-3aaefd6c82a6",
   "metadata": {},
   "source": [
    "## Results"
   ]
  },
  {
   "cell_type": "code",
   "execution_count": 48,
   "id": "dc89fc62-1e71-4346-8e3f-308dd7d0d88a",
   "metadata": {},
   "outputs": [],
   "source": [
    "def evar(x):\n",
    "    return np.mean(x)/np.var(x)"
   ]
  },
  {
   "cell_type": "code",
   "execution_count": 43,
   "id": "248951bb-3f56-42a4-a5e7-b11beeb87656",
   "metadata": {},
   "outputs": [],
   "source": [
    "import itertools\n",
    "dists = [short_k, mid_k, long_k, extralong_k, alle_k, short_few_k, alle_few_k]\n",
    "dists_name = ['short', 'mid', 'long', 'extralong', 'alle', 'short_few', 'alle_few']"
   ]
  },
  {
   "cell_type": "code",
   "execution_count": 44,
   "id": "79bff6e2-45b1-42a0-83e7-cd1ad72a292d",
   "metadata": {},
   "outputs": [
    {
     "name": "stdout",
     "output_type": "stream",
     "text": [
      "('short', 'mid')\n",
      "KstestResult(statistic=1.0, pvalue=3.715691111961505e-12)\n",
      "('short', 'long')\n",
      "KstestResult(statistic=1.0, pvalue=3.715691111961505e-12)\n",
      "('short', 'extralong')\n",
      "KstestResult(statistic=1.0, pvalue=3.715691111961505e-12)\n",
      "('short', 'alle')\n",
      "KstestResult(statistic=0.9047619047619048, pvalue=3.1992100473988563e-09)\n",
      "('short', 'short_few')\n",
      "KstestResult(statistic=0.5238095238095238, pvalue=0.005467427576534314)\n",
      "('short', 'alle_few')\n",
      "KstestResult(statistic=0.9047619047619048, pvalue=3.1992100473988563e-09)\n",
      "('mid', 'long')\n",
      "KstestResult(statistic=0.8095238095238095, pvalue=4.1589730616185135e-07)\n",
      "('mid', 'extralong')\n",
      "KstestResult(statistic=1.0, pvalue=3.715691111961505e-12)\n",
      "('mid', 'alle')\n",
      "KstestResult(statistic=0.6666666666666666, pvalue=0.00010024313356518223)\n",
      "('mid', 'short_few')\n",
      "KstestResult(statistic=1.0, pvalue=3.715691111961505e-12)\n",
      "('mid', 'alle_few')\n",
      "KstestResult(statistic=0.8095238095238095, pvalue=4.1589730616185135e-07)\n",
      "('long', 'extralong')\n",
      "KstestResult(statistic=1.0, pvalue=3.715691111961505e-12)\n",
      "('long', 'alle')\n",
      "KstestResult(statistic=0.9523809523809523, pvalue=1.5605902670238322e-10)\n",
      "('long', 'short_few')\n",
      "KstestResult(statistic=1.0, pvalue=3.715691111961505e-12)\n",
      "('long', 'alle_few')\n",
      "KstestResult(statistic=0.9523809523809523, pvalue=1.5605902670238322e-10)\n",
      "('extralong', 'alle')\n",
      "KstestResult(statistic=1.0, pvalue=3.715691111961505e-12)\n",
      "('extralong', 'short_few')\n",
      "KstestResult(statistic=1.0, pvalue=3.715691111961505e-12)\n",
      "('extralong', 'alle_few')\n",
      "KstestResult(statistic=1.0, pvalue=3.715691111961505e-12)\n",
      "('alle', 'short_few')\n",
      "KstestResult(statistic=0.8571428571428571, pvalue=4.265613396531809e-08)\n",
      "('alle', 'alle_few')\n",
      "KstestResult(statistic=0.3333333333333333, pvalue=0.1963120402389556)\n",
      "('short_few', 'alle_few')\n",
      "KstestResult(statistic=0.8571428571428571, pvalue=4.265613396531809e-08)\n"
     ]
    }
   ],
   "source": [
    "from scipy import stats\n",
    "for combo, name in zip(itertools.combinations(dists, 2), itertools.combinations(dists_name, 2)):  # 2 for pairs, 3 for triplets, etc\n",
    "    print(name)\n",
    "    print(stats.ks_2samp(combo[0], combo[1]))"
   ]
  },
  {
   "cell_type": "code",
   "execution_count": 76,
   "id": "eb11e4a7-9369-47d3-9262-1e6d20eec5ba",
   "metadata": {},
   "outputs": [
    {
     "data": {
      "text/plain": [
       "(None,)"
      ]
     },
     "execution_count": 76,
     "metadata": {},
     "output_type": "execute_result"
    },
    {
     "data": {
      "image/png": "[encoded data removed]",
      "text/plain": [
       "<Figure size 144x72 with 1 Axes>"
      ]
     },
     "metadata": {},
     "output_type": "display_data"
    }
   ],
   "source": [
    "plt.figure(figsize=(2,1))\n",
    "ax = plt.axes()\n",
    "\n",
    "short, short_ = 12.88, 0.34\n",
    "mid, mid_ = 10.43, 0.52\n",
    "long, long_ = 8.57, 0.99\n",
    "LONG, LONG_ = 3.12, 1.72\n",
    "alle, alle_ = 11.45, 0.56\n",
    "\n",
    "\n",
    "plt.errorbar(1, short, yerr=short_, fmt='-o', c='k', capsize=1, markersize=4)\n",
    "plt.errorbar(2, alle, yerr=alle_, fmt='-o', c='k', capsize=1, markersize=4)\n",
    "\n",
    "plt.errorbar(3, mid, yerr=mid_, fmt='-o', c='k', capsize=1, markersize=4)\n",
    "plt.errorbar(4, long, yerr=long_, fmt='-o', c='k', capsize=1, markersize=4)\n",
    "plt.errorbar(5, LONG, yerr=LONG_, fmt='-o', c='k', capsize=1, markersize=4)\n",
    "\n",
    "\n",
    "ax.spines['right'].set_visible(False)\n",
    "# ax.spines['left'].set_visible(False)\n",
    "ax.spines['top'].set_visible(False)\n",
    "\n",
    "plt.xticks([1,2,3,4,5], ['short', 'all', 'mid', 'long', 'LONG'], rotation=-30)\n",
    "\n",
    "plt.ylabel(r'$K$', fontsize=11)\n",
    "\n",
    "plt.savefig('../report/figures/range_result.svg', dpi=500, bbox_inches='tight'), "
   ]
  },
  {
   "cell_type": "code",
   "execution_count": 102,
   "id": "9afa1906-2d60-4ee9-82aa-9618ed5aba3a",
   "metadata": {},
   "outputs": [
    {
     "data": {
      "text/plain": [
       "(None,)"
      ]
     },
     "execution_count": 102,
     "metadata": {},
     "output_type": "execute_result"
    },
    {
     "data": {
      "image/png": "[encoded data removed]",
      "text/plain": [
       "<Figure size 180x72 with 1 Axes>"
      ]
     },
     "metadata": {},
     "output_type": "display_data"
    }
   ],
   "source": [
    "plt.figure(figsize=(2.5,1))\n",
    "ax = plt.axes()\n",
    "\n",
    "short, short_ = 12.88, 0.34\n",
    "mid, mid_ = 10.43, 0.52\n",
    "long, long_ = 8.57, 0.99\n",
    "LONG, LONG_ = 3.12, 1.72\n",
    "alle, alle_ = 11.45, 0.56\n",
    "\n",
    "shortfew, shortfew_ = 12.55, 0.26\n",
    "allefew, allefew_ = 11.67, 0.39\n",
    "\n",
    "\n",
    "\n",
    "plt.errorbar(evar(range_short), short, yerr=short_, fmt='-o', c='#c6dbef', capsize=1, markersize=4)\n",
    "plt.errorbar(evar(mid_range), mid, yerr=mid_, fmt='-o', c='#6baed6', capsize=1, markersize=4)\n",
    "plt.errorbar(evar(range_long), long, yerr=long_, fmt='-o', c='#2171b5', capsize=1, markersize=4)\n",
    "plt.errorbar(evar(extra_long), LONG, yerr=LONG_, fmt='-o', c='#08306b', capsize=1, markersize=4)\n",
    "\n",
    "plt.errorbar(evar(all_range), alle, yerr=alle_, fmt='-o', c='#c7e9b4ff', capsize=1, markersize=4)\n",
    "\n",
    "plt.errorbar(evar(short_few2), shortfew, yerr=shortfew_, fmt='-o', c='k', capsize=1, markersize=4)\n",
    "plt.errorbar(evar(all_few), allefew, yerr=allefew_, fmt='-o', c='k', capsize=1, markersize=4)\n",
    "\n",
    "\n",
    "ax.spines['right'].set_visible(False)\n",
    "ax.spines['top'].set_visible(False)\n",
    "\n",
    "# plt.xticks([1,2,3,4,5], ['short', 'all', 'mid', 'long', 'LONG'], rotation=-30)\n",
    "\n",
    "plt.ylabel(r'$K$', fontsize=11)\n",
    "plt.xlabel('E/var', fontsize=11)\n",
    "plt.ylim(0,14)\n",
    "plt.xlim(0,0.12)\n",
    "\n",
    "\n",
    "plt.savefig('../report/figures/range_resultEVAR.svg', dpi=500, bbox_inches='tight'), "
   ]
  },
  {
   "cell_type": "code",
   "execution_count": 50,
   "id": "b9036232-cfb1-45df-9c17-a032283a0753",
   "metadata": {},
   "outputs": [
    {
     "name": "stdout",
     "output_type": "stream",
     "text": [
      "short 550.0 10000.0 0.055\n",
      "short few 550.0 15000.0 0.03666666666666667\n",
      "all 700.0 35000.0 0.02\n",
      "all few 700.0 40000.0 0.0175\n",
      "mid 700.0 10000.0 0.07\n",
      "long 850.0 10000.0 0.085\n",
      "LONG 1050.0 10000.0 0.105\n"
     ]
    }
   ],
   "source": [
    "print('short', np.mean(range_short), np.var(range_short), evar(range_short))\n",
    "print('short few', np.mean(short_few), np.var(short_few), evar(short_few))\n",
    "print('all', np.mean(all_range), np.var(all_range), evar(all_range))\n",
    "print('all few', np.mean(all_few), np.var(all_few), evar(all_few))\n",
    "print('mid', np.mean(mid_range), np.var(mid_range), evar(mid_range))\n",
    "print('long', np.mean(range_long), np.var(range_long), evar(range_long))\n",
    "print('LONG', np.mean(extra_long), np.var(extra_long), evar(extra_long))"
   ]
  },
  {
   "cell_type": "code",
   "execution_count": 97,
   "id": "85ebb9c5-dd36-4bd2-8c91-6866e0e1ec70",
   "metadata": {},
   "outputs": [
    {
     "data": {
      "text/plain": [
       "Text(0.5, 0, 'E/var')"
      ]
     },
     "execution_count": 97,
     "metadata": {},
     "output_type": "execute_result"
    },
    {
     "data": {
      "image/png": "[encoded data removed]",
      "text/plain": [
       "<Figure size 72x72 with 1 Axes>"
      ]
     },
     "metadata": {},
     "output_type": "display_data"
    }
   ],
   "source": [
    "plt.figure(figsize=(1,1))\n",
    "ax = plt.axes()\n",
    "\n",
    "shortfew, shortfew_ = 12.55, 0.26\n",
    "allefew, allefew_ = 11.67, 0.39\n",
    "\n",
    "\n",
    "plt.errorbar(evar(short_few2), shortfew, yerr=shortfew_, fmt='-o', c='#c6dbef', capsize=1, markersize=4)\n",
    "plt.errorbar(evar(all_few), allefew, yerr=allefew_, fmt='-o', c='#c7e9b4ff', capsize=1, markersize=4)\n",
    "\n",
    "\n",
    "ax.spines['right'].set_visible(False)\n",
    "ax.spines['top'].set_visible(False)\n",
    "plt.ylim(0,14)\n",
    "\n",
    "plt.ylabel(r'$K$', fontsize=11)\n",
    "plt.xlabel('E/var', fontsize=11)"
   ]
  },
  {
   "cell_type": "code",
   "execution_count": 85,
   "id": "64704248-6be5-455d-bd15-d89b0c2c9e1c",
   "metadata": {},
   "outputs": [
    {
     "name": "stdout",
     "output_type": "stream",
     "text": [
      "short undersampled 0.044\n",
      "all undersampled 0.0175\n"
     ]
    }
   ],
   "source": [
    "print('short undersampled', evar(short_few2))\n",
    "print('all undersampled', evar(all_few))"
   ]
  }
 ],
 "metadata": {
  "kernelspec": {
   "display_name": "Python 3 (ipykernel)",
   "language": "python",
   "name": "python3"
  },
  "language_info": {
   "codemirror_mode": {
    "name": "ipython",
    "version": 3
   },
   "file_extension": ".py",
   "mimetype": "text/x-python",
   "name": "python",
   "nbconvert_exporter": "python",
   "pygments_lexer": "ipython3",
   "version": "3.9.7"
  }
 },
 "nbformat": 4,
 "nbformat_minor": 5
}
