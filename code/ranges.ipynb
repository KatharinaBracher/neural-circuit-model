{
 "cells": [
  {
   "cell_type": "code",
   "execution_count": 104,
   "id": "f962f536-6fa8-4f58-9d83-fd153dcb6e8a",
   "metadata": {},
   "outputs": [
    {
     "name": "stdout",
     "output_type": "stream",
     "text": [
      "The autoreload extension is already loaded. To reload it, use:\n",
      "  %reload_ext autoreload\n"
     ]
    }
   ],
   "source": [
    "from onetwogo import Params\n",
    "from onetwogo.parallel_simulation import ParallelSimulation\n",
    "from onetwogo.experiment_simulation import ExperimentSimulation\n",
    "from onetwogo.plot import SimulationPlot\n",
    "from onetwogo.plot import BehavioralPlot\n",
    "\n",
    "import numpy as np\n",
    "import seaborn as sns\n",
    "import matplotlib\n",
    "import matplotlib.pyplot as plt\n",
    "from scipy.stats import linregress\n",
    "import pickle\n",
    "\n",
    "import parameter_tuning as pt\n",
    "\n",
    "%load_ext autoreload\n",
    "%autoreload 2"
   ]
  },
  {
   "cell_type": "code",
   "execution_count": 2,
   "id": "4d509dfe-52b5-46be-9eb0-e33fe92e9aad",
   "metadata": {},
   "outputs": [],
   "source": [
    "sns.set_style(\"ticks\", {'font.family':'sans-serif', \n",
    "               'font.sans-serif':['CMU Serif'],\n",
    "               'size': 11})"
   ]
  },
  {
   "cell_type": "code",
   "execution_count": 3,
   "id": "e4a9fcbe-e203-4aac-84e7-1d038dd9a7df",
   "metadata": {},
   "outputs": [],
   "source": [
    "import matplotlib as mpl\n",
    "from matplotlib import rc\n",
    "\n",
    "rc('text', usetex=True)\n",
    "font = {'family':'CMU Serif', \n",
    "               #'sans-serif':['Helvetica'],\n",
    "               'size': 11}\n",
    "mpl.rc('font', **font)"
   ]
  },
  {
   "cell_type": "code",
   "execution_count": 4,
   "id": "f7fb5102-7e5e-4a61-9874-6d41d98af95d",
   "metadata": {},
   "outputs": [],
   "source": [
    "PARAMS_DICT = {'Wui': 6,\n",
    "              'Wuv': 6,\n",
    "              'Wvi': 6,\n",
    "              'Wvu': 6,\n",
    "              'dt': 10,\n",
    "              'tau': 100,\n",
    "              'th': 0.1,\n",
    "              'IF': -500,\n",
    "              'uinit': 0.7,\n",
    "              'vinit': 0.2,\n",
    "              'yinit': 0.5,\n",
    "              'Iinit': 1.02,\n",
    "              'first_duration': 750, \n",
    "              'sigma': 0.01, \n",
    "              'ntrials': 500,\n",
    "              'delay': 500}"
   ]
  },
  {
   "cell_type": "code",
   "execution_count": 5,
   "id": "727da0b1-6b7d-406f-a380-3901697cfef5",
   "metadata": {},
   "outputs": [],
   "source": [
    "range_short = [400, 450, 500, 550, 600, 650, 700]\n",
    "range_long = [700, 750, 800, 850, 900, 950, 1000]\n",
    "mid_range = [550, 600, 650, 700, 750, 800, 850]\n",
    "all_range = [400, 450, 500, 550, 600, 650, 700, 750, 800, 850, 900, 950, 1000]\n",
    "short_few = [400, 550, 700]\n",
    "all_few = [400, 500, 600, 700, 800, 900, 1000]\n",
    "short_few2 = [400, 500, 600, 700]\n",
    "extra_long = [900, 950, 1000, 1050, 1100, 1150, 1200]"
   ]
  },
  {
   "cell_type": "code",
   "execution_count": 6,
   "id": "93b9d71a-d0d2-4f73-801e-b33c82d8a609",
   "metadata": {},
   "outputs": [],
   "source": [
    "stimulus_lst_mid = np.loadtxt('stimlst_mid_550_850.txt', dtype=int)\n",
    "stimulus_lst_all = np.loadtxt('stimlst_all_400_1000.txt', dtype=int)\n",
    "stimulus_lst_few_short = np.loadtxt('stimlst_few_short_400_700.txt', dtype=int)\n",
    "stimulus_lst_few_all = np.loadtxt('stimlst_few_all_400_1000.txt', dtype=int)\n",
    "stimulus_lst_extralong = np.loadtxt('stimlst_extralong_900_1200.txt', dtype=int)\n",
    "stimulus_lst_short = np.loadtxt('stimlst_short_400_700_7_a.txt', dtype=int)\n",
    "stimulus_lst_long = np.loadtxt('stimlst_long_700_1000_7_a.txt', dtype=int)"
   ]
  },
  {
   "cell_type": "markdown",
   "id": "0ff939af-b951-4144-afb5-098640e7b8ab",
   "metadata": {},
   "source": [
    "## Parameter Space"
   ]
  },
  {
   "cell_type": "code",
   "execution_count": 25,
   "id": "db7378d5-f70f-47f0-890f-21947c2ed8e2",
   "metadata": {},
   "outputs": [],
   "source": [
    "K_lst = np.arange(1, 22, 0.5)\n",
    "tau = np.arange(100, 230, 10)\n",
    "seed_lst = np.arange(0, 21, 1)"
   ]
  },
  {
   "cell_type": "markdown",
   "id": "5e29b419-1bed-4cba-a8eb-36d4fb265563",
   "metadata": {},
   "source": [
    "# SHORT & LONG"
   ]
  },
  {
   "cell_type": "code",
   "execution_count": 26,
   "id": "4c6cb48d-f255-4686-9deb-1d944b06e575",
   "metadata": {},
   "outputs": [],
   "source": [
    "path = '../results/intermediateI/'\n",
    "short_ktau07_seed, long_ktau07_seed = pt.load_data(\n",
    "    path+'SHORT_K1-22_TAU130_th07_del700_sig02_seed-20220923-121834-output.pickle',\n",
    "    path+'LONG_K1-22_TAU130_th07_del700_sig02_seed-20220923-122722-output.pickle')"
   ]
  },
  {
   "cell_type": "code",
   "execution_count": 27,
   "id": "544158c9-3d45-4198-9a22-c158464d267b",
   "metadata": {},
   "outputs": [
    {
     "name": "stdout",
     "output_type": "stream",
     "text": [
      "17 13.5\n",
      "18 8.0\n"
     ]
    }
   ],
   "source": [
    "short_k = pt.get_mean_seed(short_ktau07_seed, K_lst, seed_lst, True)\n",
    "long_k = pt.get_mean_seed(long_ktau07_seed, K_lst, seed_lst, True)"
   ]
  },
  {
   "cell_type": "markdown",
   "id": "d83ad491-6b59-47b7-b17e-b815ecbcb0b9",
   "metadata": {},
   "source": [
    "# MID & ALL"
   ]
  },
  {
   "cell_type": "code",
   "execution_count": 28,
   "id": "b4dfaebd-aee2-47b4-ac52-fa8551f926f5",
   "metadata": {},
   "outputs": [],
   "source": [
    "path = '../results/range/'\n",
    "mid_data, all_data = pt.load_data(path+'inter_MID_07-20221001-115027-output.pickle',\n",
    "                                  path+'inter_ALL_07-20221001-115833-output.pickle')\n",
    "\n",
    "mid_data_seed, all_data_seed = pt.load_data(path+'inter_MID_07_seed-20221001-152829-output.pickle',\n",
    "                                  path+'inter_ALL_07_seed-20221001-160258-output.pickle')"
   ]
  },
  {
   "cell_type": "code",
   "execution_count": 11,
   "id": "4cf52fc2-2147-4978-bab6-a6852c1e28c2",
   "metadata": {},
   "outputs": [
    {
     "name": "stdout",
     "output_type": "stream",
     "text": [
      "-0.23492230186963775 1.2873119081561573\n"
     ]
    },
    {
     "data": {
      "image/png": "[encoded data removed]",
      "text/plain": [
       "<Figure size 288x115.2 with 3 Axes>"
      ]
     },
     "metadata": {},
     "output_type": "display_data"
    }
   ],
   "source": [
    "pt.plot_slope_behavior(mid_data, all_data, K_lst, tau)"
   ]
  },
  {
   "cell_type": "code",
   "execution_count": 12,
   "id": "82b65520-c8d6-4778-a569-26520d002610",
   "metadata": {},
   "outputs": [
    {
     "name": "stdout",
     "output_type": "stream",
     "text": [
      "4788.74392449582 54741.42254810985\n",
      "170 17.5\n",
      "[(100, 7.0), (110, 7.0), (120, 9.0), (130, 10.5), (140, 12.0), (150, 14.5), (160, 15.5), (170, 17.5), (180, 18.5), (190, 20.5), (200, 21.5), (210, 21.5), (220, 21.5)]\n",
      "140 12.5\n",
      "[(100, 9.0), (110, 10.0), (120, 11.5), (130, 11.0), (140, 12.5), (150, 14.0), (160, 15.5), (170, 17.0), (180, 18.0), (190, 20.5), (200, 21.0), (210, 21.5), (220, 21.0)]\n",
      "mid range\n",
      "['7.5,100' '8.0,100' '8.5,110' '9.0,110' '9.5,120' '10.0,120' '10.5,130'\n",
      " '11.0,130' '11.5,130' '12.0,140' '12.5,140' '13.0,140' '13.5,150'\n",
      " '14.0,150' '14.5,150' '15.0,160' '15.5,160' '16.0,160' '16.5,160'\n",
      " '17.0,170' '17.5,170' '18.0,170' '18.5,170' '19.0,180' '19.5,180'\n",
      " '20.0,180' '20.5,180' '21.0,190' '21.5,190']\n",
      "all range\n",
      "['8.0,100' '8.5,100' '8.5,110' '9.0,110' '9.5,110' '9.5,120' '10.0,120'\n",
      " '10.5,120' '11.0,130' '11.5,130' '12.0,140' '12.5,140' '13.0,140'\n",
      " '13.0,150' '13.5,150' '14.0,150' '15.0,160' '15.5,160' '16.0,160'\n",
      " '16.5,170' '17.0,170' '17.5,170' '18.5,180' '19.0,180' '19.5,180'\n",
      " '20.5,190' '21.0,190' '21.5,190']\n"
     ]
    },
    {
     "data": {
      "image/png": "[encoded data removed]",
      "text/plain": [
       "<Figure size 288x115.2 with 3 Axes>"
      ]
     },
     "metadata": {},
     "output_type": "display_data"
    }
   ],
   "source": [
    "pt.plot_mse(mid_data, all_data, K_lst, tau)\n",
    "print(pt.get_opt_K(mid_data, K_lst, tau, mse=True))\n",
    "print(pt.get_opt_K(all_data, K_lst, tau, mse=True))\n",
    "pt.parameter_behavioural_plausible(mid_data, all_data, K_lst, tau)"
   ]
  },
  {
   "cell_type": "code",
   "execution_count": 29,
   "id": "a6cc0e64-e083-450b-9cb5-9541a0717dec",
   "metadata": {},
   "outputs": [
    {
     "name": "stdout",
     "output_type": "stream",
     "text": [
      "14 11.0\n",
      "14 11.0\n"
     ]
    },
    {
     "data": {
      "text/plain": [
       "(10.428571428571429, 0.5183700251685057)"
      ]
     },
     "execution_count": 29,
     "metadata": {},
     "output_type": "execute_result"
    }
   ],
   "source": [
    "pt.get_mean_seed(mid_data_seed, K_lst, seed_lst)"
   ]
  },
  {
   "cell_type": "code",
   "execution_count": 30,
   "id": "dd56e636-ce11-47b0-b806-54093e34cd8f",
   "metadata": {},
   "outputs": [
    {
     "name": "stdout",
     "output_type": "stream",
     "text": [
      "14 11.0\n"
     ]
    }
   ],
   "source": [
    "mid_k = pt.get_mean_seed(mid_data_seed, K_lst, seed_lst, True)"
   ]
  },
  {
   "cell_type": "code",
   "execution_count": 31,
   "id": "b201559d-5d1b-42f9-a360-937404c3ec25",
   "metadata": {},
   "outputs": [
    {
     "name": "stdout",
     "output_type": "stream",
     "text": [
      "5 12.0\n",
      "5 12.0\n"
     ]
    },
    {
     "data": {
      "text/plain": [
       "(11.428571428571429, 0.5624291338579864)"
      ]
     },
     "execution_count": 31,
     "metadata": {},
     "output_type": "execute_result"
    }
   ],
   "source": [
    "pt.get_mean_seed(all_data_seed, K_lst, seed_lst)"
   ]
  },
  {
   "cell_type": "code",
   "execution_count": 32,
   "id": "4927ec5e-917d-478f-96b6-e892964c7156",
   "metadata": {},
   "outputs": [
    {
     "name": "stdout",
     "output_type": "stream",
     "text": [
      "5 12.0\n"
     ]
    }
   ],
   "source": [
    "alle_k = pt.get_mean_seed(all_data_seed, K_lst, seed_lst, True)"
   ]
  },
  {
   "cell_type": "code",
   "execution_count": 16,
   "id": "8c6cd6a2-bde9-4db7-ac8c-d7ff65859f32",
   "metadata": {},
   "outputs": [
    {
     "name": "stdout",
     "output_type": "stream",
     "text": [
      "timeouts: [(550, 0.0), (600, 0.0), (650, 0.0), (700, 0.0), (750, 0.0), (800, 0.0), (850, 0.0)]\n",
      "0.7932859676448458\n"
     ]
    },
    {
     "data": {
      "image/png": "[encoded data removed]",
      "text/plain": [
       "<Figure size 180x144 with 1 Axes>"
      ]
     },
     "metadata": {},
     "output_type": "display_data"
    }
   ],
   "source": [
    "np.random.seed(0)\n",
    "params = Params(ntrials=500, delay=700, tau=130, sigma=0.02, th=0.7)\n",
    "expsim = ExperimentSimulation(params)\n",
    "\n",
    "fig, ax = plt.subplots(1,1, figsize=(2.5,2))\n",
    "\n",
    "K = 10.5\n",
    "exp_result = expsim.simulate(stimulus_lst_mid, K)\n",
    "plot = exp_result.create_behavioral_plot()\n",
    "plot.plot_behavior(ax)\n",
    "print(exp_result.create_behavioral_data().slope)\n",
    "\n",
    "ax.set(xlabel='stimulus [ms]', ylabel='reproduction [ms]')\n",
    "ax.spines['right'].set_visible(False)\n",
    "ax.spines['top'].set_visible(False) \n",
    "\n",
    "plt.tight_layout()"
   ]
  },
  {
   "cell_type": "code",
   "execution_count": 72,
   "id": "cad7be1c-e10c-447e-927d-6ccc5249c46d",
   "metadata": {},
   "outputs": [
    {
     "name": "stdout",
     "output_type": "stream",
     "text": [
      "timeouts: [(550, 0.0), (600, 0.0), (650, 0.0), (700, 0.0), (750, 0.0), (800, 0.0), (850, 0.0)]\n",
      "0.816582798500381\n"
     ]
    },
    {
     "data": {
      "image/png": "[encoded data removed]",
      "text/plain": [
       "<Figure size 180x144 with 1 Axes>"
      ]
     },
     "metadata": {},
     "output_type": "display_data"
    }
   ],
   "source": [
    "np.random.seed(0)\n",
    "params = Params(ntrials=500, delay=700, tau=170, sigma=0.02, th=0.7)\n",
    "expsim = ExperimentSimulation(params)\n",
    "\n",
    "fig, ax = plt.subplots(1,1, figsize=(2.5,2))\n",
    "\n",
    "K = 17.5\n",
    "exp_result = expsim.simulate(stimulus_lst_mid, K)\n",
    "plot = exp_result.create_behavioral_plot()\n",
    "plot.plot_behavior(ax, 'black')\n",
    "print(exp_result.create_behavioral_data().slope)\n",
    "\n",
    "ax.set(xlabel='stimulus [ms]', ylabel='reproduction [ms]', title='delay = mean range')\n",
    "ax.spines['right'].set_visible(False)\n",
    "ax.spines['top'].set_visible(False) \n",
    "\n",
    "plt.tight_layout()\n",
    "plt.savefig('../report/figures/interI_params/delay/mid170delay700.svg', bbox_inches='tight')"
   ]
  },
  {
   "cell_type": "code",
   "execution_count": 17,
   "id": "14eb458e-25f2-49bb-9f1a-4431addd3e2a",
   "metadata": {},
   "outputs": [
    {
     "name": "stdout",
     "output_type": "stream",
     "text": [
      "timeouts: [(400, 0.0), (450, 0.0), (500, 0.0), (550, 0.0), (600, 0.0), (650, 0.0), (700, 0.0), (750, 0.0), (800, 0.0), (850, 0.0), (900, 0.0), (950, 0.05), (1000, 0.0)]\n",
      "0.705695417186016\n"
     ]
    },
    {
     "data": {
      "image/png": "[encoded data removed]",
      "text/plain": [
       "<Figure size 180x144 with 1 Axes>"
      ]
     },
     "metadata": {},
     "output_type": "display_data"
    }
   ],
   "source": [
    "np.random.seed(0)\n",
    "params = Params(ntrials=500, delay=700, tau=130, sigma=0.02, th=0.7)\n",
    "expsim = ExperimentSimulation(params)\n",
    "\n",
    "fig, ax = plt.subplots(1,1, figsize=(2.5,2))\n",
    "\n",
    "K = 11\n",
    "exp_result = expsim.simulate(stimulus_lst_all, K)\n",
    "plot = exp_result.create_behavioral_plot()\n",
    "plot.plot_behavior(ax)\n",
    "print(exp_result.create_behavioral_data().slope)\n",
    "\n",
    "ax.set(xlabel='stimulus [ms]', ylabel='reproduction [ms]')\n",
    "ax.spines['right'].set_visible(False)\n",
    "ax.spines['top'].set_visible(False) \n",
    "\n",
    "plt.tight_layout()"
   ]
  },
  {
   "cell_type": "code",
   "execution_count": 9,
   "id": "48c6286f-275d-4243-bc9b-adbda4adb9f7",
   "metadata": {},
   "outputs": [
    {
     "name": "stdout",
     "output_type": "stream",
     "text": [
      "timeouts: [(400, 0.0), (450, 0.0), (500, 0.0), (550, 0.0), (600, 0.0), (650, 0.0), (700, 0.0)]\n",
      "0.7712727139927705\n",
      "timeouts: [(700, 0.0), (750, 0.0), (800, 0.0), (850, 0.0), (900, 0.0), (950, 0.0), (1000, 0.0)]\n",
      "0.7293959652015919\n",
      "timeouts: [(550, 0.0), (600, 0.0), (650, 0.0), (700, 0.0), (750, 0.0), (800, 0.0), (850, 0.0)]\n",
      "0.7932859676448458\n"
     ]
    },
    {
     "data": {
      "image/png": "[encoded data removed]",
      "text/plain": [
       "<Figure size 180x144 with 1 Axes>"
      ]
     },
     "metadata": {},
     "output_type": "display_data"
    }
   ],
   "source": [
    "np.random.seed(0)\n",
    "params = Params(ntrials=500, delay=700, tau=130, sigma=0.02, th=0.7)\n",
    "expsim = ExperimentSimulation(params)\n",
    "\n",
    "fig, ax = plt.subplots(1,1, figsize=(2.5,2))\n",
    "\n",
    "K = 13\n",
    "exp_result = expsim.simulate(stimulus_lst_short, K)\n",
    "plot = exp_result.create_behavioral_plot()\n",
    "plot.plot_behavior(ax)\n",
    "print(exp_result.create_behavioral_data().slope)\n",
    "\n",
    "np.random.seed(0)\n",
    "K = 10\n",
    "exp_result = expsim.simulate(stimulus_lst_long, K)\n",
    "plot = exp_result.create_behavioral_plot()\n",
    "plot.plot_behavior(ax)\n",
    "print(exp_result.create_behavioral_data().slope)\n",
    "\n",
    "np.random.seed(0)\n",
    "K = 10.5\n",
    "exp_result = expsim.simulate(stimulus_lst_mid, K)\n",
    "plot = exp_result.create_behavioral_plot()\n",
    "plot.plot_behavior(ax)\n",
    "print(exp_result.create_behavioral_data().slope)\n",
    "\n",
    "ax.set(xlabel='stimulus [ms]', ylabel='reproduction [ms]')\n",
    "ax.spines['right'].set_visible(False)\n",
    "ax.spines['top'].set_visible(False) \n",
    "\n",
    "plt.tight_layout()"
   ]
  },
  {
   "cell_type": "markdown",
   "id": "3265c699-28bf-4636-a9c3-8fdba92d2a0e",
   "metadata": {},
   "source": [
    "# FEW SHORT & FEW ALL"
   ]
  },
  {
   "cell_type": "code",
   "execution_count": 33,
   "id": "7c6260af-8505-479f-818d-4bd110b98835",
   "metadata": {},
   "outputs": [],
   "source": [
    "path = '../results/range/'\n",
    "few_short_data, few_all_data = pt.load_data(path+'inter_FEW_SHORT_07-20221001-143203-output.pickle',\n",
    "                                            path+'inter_FEW_ALL_07-20221001-150559-output.pickle')\n",
    "\n",
    "few_short_seed, few_all_seed = pt.load_data(path+'inter_FEW_SHORT_07_seed-20221001-161648-output.pickle',\n",
    "                                            path+'inter_FEW_ALL_07_seed-20221001-162505-output.pickle')"
   ]
  },
  {
   "cell_type": "code",
   "execution_count": 21,
   "id": "f2edca95-5ae4-4b14-aaaf-685a4d997bd3",
   "metadata": {},
   "outputs": [
    {
     "name": "stdout",
     "output_type": "stream",
     "text": [
      "-0.3507470227354747 1.243099255205958\n"
     ]
    },
    {
     "data": {
      "image/png": "[encoded data removed]",
      "text/plain": [
       "<Figure size 288x115.2 with 3 Axes>"
      ]
     },
     "metadata": {},
     "output_type": "display_data"
    }
   ],
   "source": [
    "pt.plot_slope_behavior(few_short_data, few_all_data, K_lst, tau)"
   ]
  },
  {
   "cell_type": "code",
   "execution_count": 20,
   "id": "9fbc6d45-bcf3-491d-8e14-41da476fe752",
   "metadata": {},
   "outputs": [
    {
     "name": "stdout",
     "output_type": "stream",
     "text": [
      "3964.095284381858 60299.92024059266\n",
      "120 11.5\n",
      "[(100, 8.5), (110, 9.5), (120, 11.5), (130, 12.5), (140, 14.0), (150, 15.5), (160, 17.5), (170, 20.5), (180, 20.5), (190, 21.0), (200, 21.5), (210, 21.5), (220, 21.5)]\n",
      "160 15.0\n",
      "[(100, 8.0), (110, 9.0), (120, 10.0), (130, 11.0), (140, 12.0), (150, 13.5), (160, 15.0), (170, 16.0), (180, 17.5), (190, 19.5), (200, 20.0), (210, 21.5), (220, 21.0)]\n",
      "few short range\n",
      "['8.5,100' '9.0,100' '10.0,110' '10.5,110' '11.5,120' '12.0,120'\n",
      " '13.0,130' '13.5,130' '15.0,140' '15.5,140' '17.0,150' '17.5,150'\n",
      " '19.0,160' '19.5,160' '21.5,170']\n",
      "few all range\n",
      "['7.5,100' '8.0,100' '8.5,110' '9.0,110' '9.5,120' '10.0,120' '10.5,130'\n",
      " '11.0,130' '11.5,140' '12.0,140' '13.0,150' '13.5,150' '14.5,160'\n",
      " '15.0,160' '16.0,170' '16.5,170' '17.5,180' '18.0,180' '18.5,180'\n",
      " '19.0,190' '19.5,190' '20.0,190' '21.5,200']\n"
     ]
    },
    {
     "data": {
      "image/png": "[encoded data removed]",
      "text/plain": [
       "<Figure size 288x115.2 with 3 Axes>"
      ]
     },
     "metadata": {},
     "output_type": "display_data"
    }
   ],
   "source": [
    "pt.plot_mse(few_short_data, few_all_data, K_lst, tau)\n",
    "print(pt.get_opt_K(few_short_data, K_lst, tau, mse=True))\n",
    "print(pt.get_opt_K(few_all_data, K_lst, tau, mse=True))\n",
    "pt.parameter_behavioural_plausible(few_short_data, few_all_data, K_lst, tau)"
   ]
  },
  {
   "cell_type": "code",
   "execution_count": 34,
   "id": "e1bbb968-468b-4535-9792-00b5b7b3bd75",
   "metadata": {},
   "outputs": [
    {
     "name": "stdout",
     "output_type": "stream",
     "text": [
      "11 13.0\n",
      "11 13.0\n"
     ]
    },
    {
     "data": {
      "text/plain": [
       "(12.595238095238095, 0.3316282923139075)"
      ]
     },
     "execution_count": 34,
     "metadata": {},
     "output_type": "execute_result"
    }
   ],
   "source": [
    "pt.get_mean_seed(few_short_seed, K_lst, seed_lst)"
   ]
  },
  {
   "cell_type": "code",
   "execution_count": 35,
   "id": "f24a8292-2d8e-48aa-8b1b-4057b942ec6e",
   "metadata": {},
   "outputs": [
    {
     "name": "stdout",
     "output_type": "stream",
     "text": [
      "4 12.5\n",
      "4 12.5\n"
     ]
    },
    {
     "data": {
      "text/plain": [
       "(11.666666666666666, 0.3883215816738117)"
      ]
     },
     "execution_count": 35,
     "metadata": {},
     "output_type": "execute_result"
    }
   ],
   "source": [
    "pt.get_mean_seed(few_all_seed, K_lst, seed_lst)"
   ]
  },
  {
   "cell_type": "code",
   "execution_count": 36,
   "id": "0b7d8ccd-178c-4b36-8618-2f9520165621",
   "metadata": {},
   "outputs": [],
   "source": [
    "path = '../results/range/'\n",
    "few_short_data, few_short2_data = pt.load_data(path+'inter_FEW_SHORT_07-20221001-143203-output.pickle',\n",
    "                                            path+'inter_short_few_2_07-20221005-120253-output.pickle')\n",
    "\n",
    "few_short_seed, few_short2_seed = pt.load_data(path+'inter_FEW_SHORT_07_seed-20221001-161648-output.pickle',\n",
    "                                            path+'inter_short_few_2_07_seed-20221005-121133-output.pickle')"
   ]
  },
  {
   "cell_type": "code",
   "execution_count": 38,
   "id": "fa77b6f0-08d2-4417-b410-377223d604ce",
   "metadata": {},
   "outputs": [
    {
     "name": "stdout",
     "output_type": "stream",
     "text": [
      "3871.57384429949 33154.69036757382\n",
      "120 11.5\n",
      "[(100, 8.5), (110, 9.5), (120, 11.5), (130, 12.5), (140, 14.0), (150, 15.5), (160, 17.5), (170, 20.5), (180, 20.5), (190, 21.0), (200, 21.5), (210, 21.5), (220, 21.5)]\n",
      "120 11.0\n",
      "[(100, 8.5), (110, 10.0), (120, 11.0), (130, 12.5), (140, 14.0), (150, 15.5), (160, 18.5), (170, 20.5), (180, 21.5), (190, 21.5), (200, 21.5), (210, 21.0), (220, 21.5)]\n",
      "long range\n",
      "['8.5,100' '9.0,100' '10.0,110' '10.5,110' '11.5,120' '12.0,120'\n",
      " '13.0,130' '13.5,130' '15.0,140' '15.5,140' '17.0,150' '17.5,150'\n",
      " '19.0,160' '19.5,160' '21.5,170']\n",
      "extra long range\n",
      "['8.0,100' '8.5,100' '9.0,110' '9.5,110' '10.5,120' '11.0,120' '11.5,120'\n",
      " '12.0,130' '12.5,130' '13.0,130' '14.0,140' '14.5,140' '15.0,140'\n",
      " '16.0,150' '16.5,150' '17.0,150' '18.0,160' '18.5,160' '19.0,160'\n",
      " '20.5,170' '21.0,170' '21.5,170']\n"
     ]
    },
    {
     "data": {
      "image/png": "[encoded data removed]",
      "text/plain": [
       "<Figure size 288x115.2 with 3 Axes>"
      ]
     },
     "metadata": {},
     "output_type": "display_data"
    }
   ],
   "source": [
    "pt.plot_mse(few_short_data, few_short2_data, K_lst, tau)\n",
    "print(pt.get_opt_K(few_short_data, K_lst, tau, mse=True))\n",
    "print(pt.get_opt_K(few_short2_data, K_lst, tau, mse=True))\n",
    "pt.parameter_behavioural_plausible(few_short_data, few_short2_data, K_lst, tau)"
   ]
  },
  {
   "cell_type": "code",
   "execution_count": 37,
   "id": "ce1b3cb6-6533-412f-af18-9dcc5a429fd4",
   "metadata": {},
   "outputs": [
    {
     "name": "stdout",
     "output_type": "stream",
     "text": [
      "8 13.0\n",
      "8 13.0\n"
     ]
    },
    {
     "data": {
      "text/plain": [
       "(12.547619047619047, 0.2629847861235062)"
      ]
     },
     "execution_count": 37,
     "metadata": {},
     "output_type": "execute_result"
    }
   ],
   "source": [
    "pt.get_mean_seed(few_short2_seed, K_lst, seed_lst)"
   ]
  },
  {
   "cell_type": "code",
   "execution_count": 38,
   "id": "85736aa4-682f-4992-8931-8e5a4e2f4a98",
   "metadata": {},
   "outputs": [
    {
     "name": "stdout",
     "output_type": "stream",
     "text": [
      "8 13.0\n",
      "4 12.5\n"
     ]
    }
   ],
   "source": [
    "short_few_k = pt.get_mean_seed(few_short2_seed, K_lst, seed_lst, True)\n",
    "alle_few_k = pt.get_mean_seed(few_all_seed, K_lst, seed_lst, True)"
   ]
  },
  {
   "cell_type": "markdown",
   "id": "8a1990f6-4c8e-4708-bf56-7e296436d816",
   "metadata": {},
   "source": [
    "## Extra long"
   ]
  },
  {
   "cell_type": "code",
   "execution_count": 12,
   "id": "2b681529-5c5f-4bfb-982d-919526b4b72d",
   "metadata": {},
   "outputs": [],
   "source": [
    "path = '../results/'\n",
    "long_data, extralong_data = pt.load_data(path+'intermediateI/LONG_K1-22TAU_th07_del700_sig02_fixed_seed-20220907-165928-output.pickle',\n",
    "                                            path+'range/inter_EXTRALONG_07-20221004-143144-output.pickle')\n",
    "\n",
    "long_seed, extralong_seed = pt.load_data(path+'intermediateI/LONG_K1-22_TAU130_th07_del700_sig02_seed-20220923-122722-output.pickle',\n",
    "                                            path+'range/inter_EXTRALONG_07_seed-20221004-133405-output.pickle')"
   ]
  },
  {
   "cell_type": "code",
   "execution_count": 13,
   "id": "d3427503-529e-4e3a-9fca-0013f2115d18",
   "metadata": {
    "tags": []
   },
   "outputs": [
    {
     "name": "stdout",
     "output_type": "stream",
     "text": [
      "8632.2919290215 97013.88568165064\n",
      "200 20.0\n",
      "[(100, 4.0), (110, 4.5), (120, 7.0), (130, 10.0), (140, 10.5), (150, 12.0), (160, 13.5), (170, 15.5), (180, 16.5), (190, 18.5), (200, 20.0), (210, 21.5), (220, 21.5)]\n",
      "210 15.0\n",
      "[(100, 2.5), (110, 3.0), (120, 3.0), (130, 3.5), (140, 3.5), (150, 6.0), (160, 7.0), (170, 9.5), (180, 11.5), (190, 13.5), (200, 13.0), (210, 15.0), (220, 16.0)]\n",
      "short range\n",
      "['8.5,100' '9.0,100' '9.0,110' '9.5,110' '10.0,120' '10.5,130' '11.0,130'\n",
      " '11.5,140' '12.0,140' '12.5,140' '12.5,150' '13.0,150' '13.5,150'\n",
      " '14.0,160' '14.5,160' '15.0,170' '15.5,170' '16.0,170' '16.5,180'\n",
      " '17.0,180' '17.5,180' '18.0,180' '18.0,190' '18.5,190' '19.0,190'\n",
      " '19.5,190' '20.0,200' '20.5,200' '21.0,200']\n",
      "long range\n",
      "['7.5,130' '8.0,120' '8.0,130' '8.0,140' '8.5,110' '8.5,120' '8.5,140'\n",
      " '8.5,150' '9.0,120' '9.0,150' '9.5,110' '9.5,150' '9.5,160' '10.0,110'\n",
      " '10.0,160' '10.5,160' '10.5,170' '11.0,170' '11.5,170' '12.0,180'\n",
      " '12.5,180' '12.5,190' '13.0,190' '13.5,190' '14.0,200' '14.5,200'\n",
      " '15.0,200' '15.0,210' '15.5,210' '16.0,210' '16.5,210' '16.5,220'\n",
      " '17.0,220' '17.5,220' '18.0,220' '18.5,220']\n"
     ]
    },
    {
     "data": {
      "image/png": "[encoded data removed]",
      "text/plain": [
       "<Figure size 288x115.2 with 3 Axes>"
      ]
     },
     "metadata": {},
     "output_type": "display_data"
    }
   ],
   "source": [
    "pt.plot_mse(long_data, extralong_data, K_lst, tau)\n",
    "print(pt.get_opt_K(long_data, K_lst, tau, mse=True))\n",
    "print(pt.get_opt_K(extralong_data, K_lst, tau, mse=True))\n",
    "pt.parameter_behavioural_plausible(long_data, extralong_data, K_lst, tau)"
   ]
  },
  {
   "cell_type": "code",
   "execution_count": 33,
   "id": "93b783c2-f776-4af5-b9fd-0fbeb9c11721",
   "metadata": {},
   "outputs": [
    {
     "name": "stdout",
     "output_type": "stream",
     "text": [
      "timeouts: [(900, 0.0), (950, 0.0), (1000, 0.01), (1050, 0.0), (1100, 0.01), (1150, 0.0), (1200, 0.0)]\n",
      "0.31461270686163717\n"
     ]
    },
    {
     "data": {
      "image/png": "[encoded data removed]",
      "text/plain": [
       "<Figure size 180x144 with 1 Axes>"
      ]
     },
     "metadata": {},
     "output_type": "display_data"
    }
   ],
   "source": [
    "np.random.seed(0)\n",
    "params = Params(ntrials=500, delay=700, tau=130, sigma=0.02, th=0.7)\n",
    "expsim = ExperimentSimulation(params)\n",
    "\n",
    "fig, ax = plt.subplots(1,1, figsize=(2.5,2))\n",
    "\n",
    "K = 3.5\n",
    "exp_result = expsim.simulate(stimulus_lst_extralong, K)\n",
    "plot = exp_result.create_behavioral_plot()\n",
    "plot.plot_behavior(ax)\n",
    "print(exp_result.create_behavioral_data().slope)\n",
    "\n",
    "ax.set(xlabel='stimulus [ms]', ylabel='reproduction [ms]')\n",
    "ax.spines['right'].set_visible(False)\n",
    "ax.spines['top'].set_visible(False) \n",
    "\n",
    "plt.tight_layout()"
   ]
  },
  {
   "cell_type": "code",
   "execution_count": 34,
   "id": "d6d2d660-072c-4a9f-9c09-8b816cfed07c",
   "metadata": {},
   "outputs": [
    {
     "name": "stdout",
     "output_type": "stream",
     "text": [
      "timeouts: [(900, 0.0), (950, 0.0), (1000, 0.0), (1050, 0.0), (1100, 0.0), (1150, 0.0), (1200, 0.0)]\n",
      "0.6812378485390838\n"
     ]
    },
    {
     "data": {
      "image/png": "[encoded data removed]",
      "text/plain": [
       "<Figure size 180x144 with 1 Axes>"
      ]
     },
     "metadata": {},
     "output_type": "display_data"
    }
   ],
   "source": [
    "np.random.seed(0)\n",
    "params = Params(ntrials=500, delay=700, tau=210, sigma=0.02, th=0.7)\n",
    "expsim = ExperimentSimulation(params)\n",
    "\n",
    "fig, ax = plt.subplots(1,1, figsize=(2.5,2))\n",
    "\n",
    "K = 15\n",
    "exp_result = expsim.simulate(stimulus_lst_extralong, K)\n",
    "plot = exp_result.create_behavioral_plot()\n",
    "plot.plot_behavior(ax)\n",
    "print(exp_result.create_behavioral_data().slope)\n",
    "\n",
    "ax.set(xlabel='stimulus [ms]', ylabel='reproduction [ms]')\n",
    "ax.spines['right'].set_visible(False)\n",
    "ax.spines['top'].set_visible(False) \n",
    "\n",
    "plt.tight_layout()"
   ]
  },
  {
   "cell_type": "code",
   "execution_count": 39,
   "id": "7c8a8aba-9912-4b51-9f05-81b140171bf4",
   "metadata": {},
   "outputs": [
    {
     "name": "stdout",
     "output_type": "stream",
     "text": [
      "3 3.0\n",
      "3 3.0\n"
     ]
    },
    {
     "data": {
      "text/plain": [
       "(3.119047619047619, 1.7175894092258508)"
      ]
     },
     "execution_count": 39,
     "metadata": {},
     "output_type": "execute_result"
    }
   ],
   "source": [
    "pt.get_mean_seed(extralong_seed, K_lst, seed_lst)"
   ]
  },
  {
   "cell_type": "code",
   "execution_count": 40,
   "id": "1c2b1db2-1099-4d1e-aed6-4af0fc8cd874",
   "metadata": {},
   "outputs": [
    {
     "name": "stdout",
     "output_type": "stream",
     "text": [
      "3 3.0\n"
     ]
    }
   ],
   "source": [
    "extralong_k = pt.get_mean_seed(extralong_seed, K_lst, seed_lst, True)"
   ]
  },
  {
   "cell_type": "markdown",
   "id": "98accf38-ed6d-428e-9274-3aaefd6c82a6",
   "metadata": {},
   "source": [
    "## Results"
   ]
  },
  {
   "cell_type": "code",
   "execution_count": 13,
   "id": "dc89fc62-1e71-4346-8e3f-308dd7d0d88a",
   "metadata": {},
   "outputs": [],
   "source": [
    "def evar(x, w=1):\n",
    "    return np.mean(x)/(w*np.var(x))"
   ]
  },
  {
   "cell_type": "code",
   "execution_count": 14,
   "id": "248951bb-3f56-42a4-a5e7-b11beeb87656",
   "metadata": {},
   "outputs": [
    {
     "ename": "NameError",
     "evalue": "name 'short_k' is not defined",
     "output_type": "error",
     "traceback": [
      "\u001b[0;31m---------------------------------------------------------------------------\u001b[0m",
      "\u001b[0;31mNameError\u001b[0m                                 Traceback (most recent call last)",
      "Input \u001b[0;32mIn [14]\u001b[0m, in \u001b[0;36m<cell line: 2>\u001b[0;34m()\u001b[0m\n\u001b[1;32m      1\u001b[0m \u001b[38;5;28;01mimport\u001b[39;00m \u001b[38;5;21;01mitertools\u001b[39;00m\n\u001b[0;32m----> 2\u001b[0m dists \u001b[38;5;241m=\u001b[39m [\u001b[43mshort_k\u001b[49m, mid_k, long_k, extralong_k, alle_k, short_few_k, alle_few_k]\n\u001b[1;32m      3\u001b[0m dists_name \u001b[38;5;241m=\u001b[39m [\u001b[38;5;124m'\u001b[39m\u001b[38;5;124mshort\u001b[39m\u001b[38;5;124m'\u001b[39m, \u001b[38;5;124m'\u001b[39m\u001b[38;5;124mmid\u001b[39m\u001b[38;5;124m'\u001b[39m, \u001b[38;5;124m'\u001b[39m\u001b[38;5;124mlong\u001b[39m\u001b[38;5;124m'\u001b[39m, \u001b[38;5;124m'\u001b[39m\u001b[38;5;124mextralong\u001b[39m\u001b[38;5;124m'\u001b[39m, \u001b[38;5;124m'\u001b[39m\u001b[38;5;124malle\u001b[39m\u001b[38;5;124m'\u001b[39m, \u001b[38;5;124m'\u001b[39m\u001b[38;5;124mshort_few\u001b[39m\u001b[38;5;124m'\u001b[39m, \u001b[38;5;124m'\u001b[39m\u001b[38;5;124malle_few\u001b[39m\u001b[38;5;124m'\u001b[39m]\n",
      "\u001b[0;31mNameError\u001b[0m: name 'short_k' is not defined"
     ]
    }
   ],
   "source": [
    "import itertools\n",
    "dists = [short_k, mid_k, long_k, extralong_k, alle_k, short_few_k, alle_few_k]\n",
    "dists_name = ['short', 'mid', 'long', 'extralong', 'alle', 'short_few', 'alle_few']"
   ]
  },
  {
   "cell_type": "code",
   "execution_count": 49,
   "id": "3476c6cc-94d2-447f-9bf5-1969de38a150",
   "metadata": {},
   "outputs": [
    {
     "name": "stdout",
     "output_type": "stream",
     "text": [
      "0.002380952380952381\n"
     ]
    }
   ],
   "source": [
    "print(0.05/len(list(itertools.combinations(dists_name, 2))))"
   ]
  },
  {
   "cell_type": "code",
   "execution_count": 48,
   "id": "79bff6e2-45b1-42a0-83e7-cd1ad72a292d",
   "metadata": {},
   "outputs": [
    {
     "name": "stdout",
     "output_type": "stream",
     "text": [
      "('short', 'mid')\n",
      "KstestResult(statistic=1.0, pvalue=3.715691111961505e-12)\n",
      "----> significant\n",
      "('short', 'long')\n",
      "KstestResult(statistic=1.0, pvalue=3.715691111961505e-12)\n",
      "----> significant\n",
      "('short', 'extralong')\n",
      "KstestResult(statistic=1.0, pvalue=3.715691111961505e-12)\n",
      "----> significant\n",
      "('short', 'alle')\n",
      "KstestResult(statistic=0.9047619047619048, pvalue=3.1992100473988563e-09)\n",
      "----> significant\n",
      "('short', 'short_few')\n",
      "KstestResult(statistic=0.5238095238095238, pvalue=0.005467427576534314)\n",
      "('short', 'alle_few')\n",
      "KstestResult(statistic=0.9047619047619048, pvalue=3.1992100473988563e-09)\n",
      "----> significant\n",
      "('mid', 'long')\n",
      "KstestResult(statistic=0.8095238095238095, pvalue=4.1589730616185135e-07)\n",
      "----> significant\n",
      "('mid', 'extralong')\n",
      "KstestResult(statistic=1.0, pvalue=3.715691111961505e-12)\n",
      "----> significant\n",
      "('mid', 'alle')\n",
      "KstestResult(statistic=0.6666666666666666, pvalue=0.00010024313356518223)\n",
      "----> significant\n",
      "('mid', 'short_few')\n",
      "KstestResult(statistic=1.0, pvalue=3.715691111961505e-12)\n",
      "----> significant\n",
      "('mid', 'alle_few')\n",
      "KstestResult(statistic=0.8095238095238095, pvalue=4.1589730616185135e-07)\n",
      "----> significant\n",
      "('long', 'extralong')\n",
      "KstestResult(statistic=1.0, pvalue=3.715691111961505e-12)\n",
      "----> significant\n",
      "('long', 'alle')\n",
      "KstestResult(statistic=0.9523809523809523, pvalue=1.5605902670238322e-10)\n",
      "----> significant\n",
      "('long', 'short_few')\n",
      "KstestResult(statistic=1.0, pvalue=3.715691111961505e-12)\n",
      "----> significant\n",
      "('long', 'alle_few')\n",
      "KstestResult(statistic=0.9523809523809523, pvalue=1.5605902670238322e-10)\n",
      "----> significant\n",
      "('extralong', 'alle')\n",
      "KstestResult(statistic=1.0, pvalue=3.715691111961505e-12)\n",
      "----> significant\n",
      "('extralong', 'short_few')\n",
      "KstestResult(statistic=1.0, pvalue=3.715691111961505e-12)\n",
      "----> significant\n",
      "('extralong', 'alle_few')\n",
      "KstestResult(statistic=1.0, pvalue=3.715691111961505e-12)\n",
      "----> significant\n",
      "('alle', 'short_few')\n",
      "KstestResult(statistic=0.8571428571428571, pvalue=4.265613396531809e-08)\n",
      "----> significant\n",
      "('alle', 'alle_few')\n",
      "KstestResult(statistic=0.3333333333333333, pvalue=0.1963120402389556)\n",
      "('short_few', 'alle_few')\n",
      "KstestResult(statistic=0.8571428571428571, pvalue=4.265613396531809e-08)\n",
      "----> significant\n"
     ]
    }
   ],
   "source": [
    "from scipy import stats\n",
    "for combo, name in zip(itertools.combinations(dists, 2), itertools.combinations(dists_name, 2)):  # 2 for pairs, 3 for triplets, etc\n",
    "    print(name)\n",
    "    print(stats.ks_2samp(combo[0], combo[1]))\n",
    "    if stats.ks_2samp(combo[0], combo[1])[1]<0.05/21:\n",
    "        print('----> significant')"
   ]
  },
  {
   "cell_type": "code",
   "execution_count": 76,
   "id": "eb11e4a7-9369-47d3-9262-1e6d20eec5ba",
   "metadata": {},
   "outputs": [
    {
     "data": {
      "text/plain": [
       "(None,)"
      ]
     },
     "execution_count": 76,
     "metadata": {},
     "output_type": "execute_result"
    },
    {
     "data": {
      "image/png": "[encoded data removed]",
      "text/plain": [
       "<Figure size 144x72 with 1 Axes>"
      ]
     },
     "metadata": {},
     "output_type": "display_data"
    }
   ],
   "source": [
    "plt.figure(figsize=(2,1))\n",
    "ax = plt.axes()\n",
    "\n",
    "short, short_ = 12.88, 0.34\n",
    "mid, mid_ = 10.43, 0.52\n",
    "long, long_ = 8.57, 0.99\n",
    "LONG, LONG_ = 3.12, 1.72\n",
    "alle, alle_ = 11.45, 0.56\n",
    "\n",
    "\n",
    "plt.errorbar(1, short, yerr=short_, fmt='-o', c='k', capsize=1, markersize=4)\n",
    "plt.errorbar(2, alle, yerr=alle_, fmt='-o', c='k', capsize=1, markersize=4)\n",
    "\n",
    "plt.errorbar(3, mid, yerr=mid_, fmt='-o', c='k', capsize=1, markersize=4)\n",
    "plt.errorbar(4, long, yerr=long_, fmt='-o', c='k', capsize=1, markersize=4)\n",
    "plt.errorbar(5, LONG, yerr=LONG_, fmt='-o', c='k', capsize=1, markersize=4)\n",
    "\n",
    "\n",
    "ax.spines['right'].set_visible(False)\n",
    "# ax.spines['left'].set_visible(False)\n",
    "ax.spines['top'].set_visible(False)\n",
    "\n",
    "plt.xticks([1,2,3,4,5], ['short', 'all', 'mid', 'long', 'LONG'], rotation=-30)\n",
    "\n",
    "plt.ylabel(r'$K$', fontsize=11)\n",
    "\n",
    "plt.savefig('../report/figures/range_result.svg', dpi=500, bbox_inches='tight'), "
   ]
  },
  {
   "cell_type": "code",
   "execution_count": 102,
   "id": "9afa1906-2d60-4ee9-82aa-9618ed5aba3a",
   "metadata": {},
   "outputs": [
    {
     "data": {
      "text/plain": [
       "(None,)"
      ]
     },
     "execution_count": 102,
     "metadata": {},
     "output_type": "execute_result"
    },
    {
     "data": {
      "image/png": "[encoded data removed]",
      "text/plain": [
       "<Figure size 180x72 with 1 Axes>"
      ]
     },
     "metadata": {},
     "output_type": "display_data"
    }
   ],
   "source": [
    "plt.figure(figsize=(2.5,1))\n",
    "ax = plt.axes()\n",
    "\n",
    "short, short_ = 12.88, 0.34\n",
    "mid, mid_ = 10.43, 0.52\n",
    "long, long_ = 8.57, 0.99\n",
    "LONG, LONG_ = 3.12, 1.72\n",
    "alle, alle_ = 11.45, 0.56\n",
    "\n",
    "shortfew, shortfew_ = 12.55, 0.26\n",
    "allefew, allefew_ = 11.67, 0.39\n",
    "\n",
    "\n",
    "\n",
    "plt.errorbar(evar(range_short), short, yerr=short_, fmt='-o', c='#c6dbef', capsize=1, markersize=4)\n",
    "plt.errorbar(evar(mid_range), mid, yerr=mid_, fmt='-o', c='#6baed6', capsize=1, markersize=4)\n",
    "plt.errorbar(evar(range_long), long, yerr=long_, fmt='-o', c='#2171b5', capsize=1, markersize=4)\n",
    "plt.errorbar(evar(extra_long), LONG, yerr=LONG_, fmt='-o', c='#08306b', capsize=1, markersize=4)\n",
    "\n",
    "plt.errorbar(evar(all_range), alle, yerr=alle_, fmt='-o', c='#c7e9b4ff', capsize=1, markersize=4)\n",
    "\n",
    "plt.errorbar(evar(short_few2), shortfew, yerr=shortfew_, fmt='-o', c='k', capsize=1, markersize=4)\n",
    "plt.errorbar(evar(all_few), allefew, yerr=allefew_, fmt='-o', c='k', capsize=1, markersize=4)\n",
    "\n",
    "\n",
    "ax.spines['right'].set_visible(False)\n",
    "ax.spines['top'].set_visible(False)\n",
    "\n",
    "# plt.xticks([1,2,3,4,5], ['short', 'all', 'mid', 'long', 'LONG'], rotation=-30)\n",
    "\n",
    "plt.ylabel(r'$K$', fontsize=11)\n",
    "plt.xlabel('E/var', fontsize=11)\n",
    "plt.ylim(0,14)\n",
    "plt.xlim(0,0.12)\n",
    "\n",
    "\n",
    "plt.savefig('../report/figures/range_resultEVAR.svg', dpi=500, bbox_inches='tight'), "
   ]
  },
  {
   "cell_type": "code",
   "execution_count": 52,
   "id": "c7a4dd25-5c4c-48dc-815c-00320f2b5554",
   "metadata": {
    "tags": []
   },
   "outputs": [
    {
     "data": {
      "image/png": "[encoded data removed]",
      "text/plain": [
       "<Figure size 180x180 with 1 Axes>"
      ]
     },
     "metadata": {},
     "output_type": "display_data"
    },
    {
     "data": {
      "text/plain": [
       "Text(0.5, 0, 'var')"
      ]
     },
     "execution_count": 52,
     "metadata": {},
     "output_type": "execute_result"
    },
    {
     "data": {
      "image/png": "[encoded data removed]",
      "text/plain": [
       "<Figure size 180x180 with 1 Axes>"
      ]
     },
     "metadata": {},
     "output_type": "display_data"
    }
   ],
   "source": [
    "plt.figure(figsize=(2.5,2.5))\n",
    "ax = plt.axes()\n",
    "\n",
    "short, short_ = 12.88, 0.34\n",
    "mid, mid_ = 10.43, 0.52\n",
    "long, long_ = 8.57, 0.99\n",
    "LONG, LONG_ = 3.12, 1.72\n",
    "alle, alle_ = 11.45, 0.56\n",
    "\n",
    "shortfew, shortfew_ = 12.55, 0.26\n",
    "allefew, allefew_ = 11.67, 0.39\n",
    "\n",
    "\n",
    "\n",
    "plt.errorbar(np.mean(range_short), short, yerr=short_, fmt='-o', c='#c6dbef', capsize=1, markersize=4)\n",
    "plt.errorbar(np.mean(mid_range), mid, yerr=mid_, fmt='-o', c='#6baed6', capsize=1, markersize=4)\n",
    "plt.errorbar(np.mean(range_long), long, yerr=long_, fmt='-o', c='#2171b5', capsize=1, markersize=4)\n",
    "plt.errorbar(np.mean(extra_long), LONG, yerr=LONG_, fmt='-o', c='#08306b', capsize=1, markersize=4)\n",
    "\n",
    "plt.errorbar(np.mean(all_range), alle, yerr=alle_, fmt='-o', c='#c7e9b4ff', capsize=1, markersize=4)\n",
    "\n",
    "plt.errorbar(np.mean(short_few2), shortfew, yerr=shortfew_, fmt='-o', c='k', capsize=1, markersize=4)\n",
    "plt.errorbar(np.mean(all_few), allefew, yerr=allefew_, fmt='-o', c='k', capsize=1, markersize=4)\n",
    "\n",
    "\n",
    "ax.spines['right'].set_visible(False)\n",
    "ax.spines['top'].set_visible(False)\n",
    "\n",
    "# plt.xticks([1,2,3,4,5], ['short', 'all', 'mid', 'long', 'LONG'], rotation=-30)\n",
    "\n",
    "plt.ylabel(r'$K$', fontsize=11)\n",
    "plt.xlabel('mean', fontsize=11)\n",
    "#plt.ylim(0,14)\n",
    "#plt.xlim(0,0.12)\n",
    "plt.show()\n",
    "\n",
    "plt.figure(figsize=(2.5,2.5))\n",
    "ax = plt.axes()\n",
    "\n",
    "short, short_ = 12.88, 0.34\n",
    "mid, mid_ = 10.43, 0.52\n",
    "long, long_ = 8.57, 0.99\n",
    "LONG, LONG_ = 3.12, 1.72\n",
    "alle, alle_ = 11.45, 0.56\n",
    "\n",
    "shortfew, shortfew_ = 12.55, 0.26\n",
    "allefew, allefew_ = 11.67, 0.39\n",
    "\n",
    "\n",
    "\n",
    "plt.errorbar(np.var(range_short), short, yerr=short_, fmt='-o', c='#c6dbef', capsize=1, markersize=4)\n",
    "plt.errorbar(np.var(mid_range), mid, yerr=mid_, fmt='-o', c='#6baed6', capsize=1, markersize=4)\n",
    "plt.errorbar(np.var(range_long), long, yerr=long_, fmt='-o', c='#2171b5', capsize=1, markersize=4)\n",
    "plt.errorbar(np.var(extra_long), LONG, yerr=LONG_, fmt='-o', c='#08306b', capsize=1, markersize=4)\n",
    "\n",
    "plt.errorbar(np.var(all_range), alle, yerr=alle_, fmt='-o', c='#c7e9b4ff', capsize=1, markersize=4)\n",
    "\n",
    "plt.errorbar(np.var(short_few2), shortfew, yerr=shortfew_, fmt='-o', c='k', capsize=1, markersize=4)\n",
    "plt.errorbar(np.var(all_few), allefew, yerr=allefew_, fmt='-o', c='k', capsize=1, markersize=4)\n",
    "\n",
    "\n",
    "ax.spines['right'].set_visible(False)\n",
    "ax.spines['top'].set_visible(False)\n",
    "\n",
    "# plt.xticks([1,2,3,4,5], ['short', 'all', 'mid', 'long', 'LONG'], rotation=-30)\n",
    "\n",
    "plt.ylabel(r'$K$', fontsize=11)\n",
    "plt.xlabel('var', fontsize=11)\n",
    "#plt.ylim(0,14)\n",
    "#plt.xlim(0,0.12)\n"
   ]
  },
  {
   "cell_type": "code",
   "execution_count": 58,
   "id": "a4e9adbb-acfc-445f-b94a-8a92e2c4d370",
   "metadata": {},
   "outputs": [
    {
     "data": {
      "text/plain": [
       "Text(0.5, 0, 'E/var')"
      ]
     },
     "execution_count": 58,
     "metadata": {},
     "output_type": "execute_result"
    },
    {
     "data": {
      "image/png": "[encoded data removed]",
      "text/plain": [
       "<Figure size 180x72 with 1 Axes>"
      ]
     },
     "metadata": {},
     "output_type": "display_data"
    }
   ],
   "source": [
    "plt.figure(figsize=(2.5,1))\n",
    "ax = plt.axes()\n",
    "\n",
    "plt.errorbar(evar(range_short, w), short, yerr=short_, fmt='-o', c='#c6dbef', capsize=1, markersize=4)\n",
    "plt.errorbar(evar(mid_range, w), mid, yerr=mid_, fmt='-o', c='#6baed6', capsize=1, markersize=4)\n",
    "plt.errorbar(evar(range_long, w), long, yerr=long_, fmt='-o', c='#2171b5', capsize=1, markersize=4)\n",
    "plt.errorbar(evar(extra_long, w), LONG, yerr=LONG_, fmt='-o', c='#08306b', capsize=1, markersize=4)\n",
    "\n",
    "plt.errorbar(evar(all_range, w), alle, yerr=alle_, fmt='-o', c='#c7e9b4ff', capsize=1, markersize=4)\n",
    "\n",
    "plt.errorbar(evar(short_few2, w), shortfew, yerr=shortfew_, fmt='-o', c='k', capsize=1, markersize=4)\n",
    "plt.errorbar(evar(all_few, w), allefew, yerr=allefew_, fmt='-o', c='k', capsize=1, markersize=4)\n",
    "\n",
    "\n",
    "ax.spines['right'].set_visible(False)\n",
    "ax.spines['top'].set_visible(False)\n",
    "\n",
    "# plt.xticks([1,2,3,4,5], ['short', 'all', 'mid', 'long', 'LONG'], rotation=-30)\n",
    "\n",
    "plt.ylabel(r'$K$', fontsize=11)\n",
    "plt.xlabel('E/var', fontsize=11)"
   ]
  },
  {
   "cell_type": "code",
   "execution_count": 50,
   "id": "b9036232-cfb1-45df-9c17-a032283a0753",
   "metadata": {},
   "outputs": [
    {
     "name": "stdout",
     "output_type": "stream",
     "text": [
      "short 550.0 10000.0 0.055\n",
      "short few 550.0 15000.0 0.03666666666666667\n",
      "all 700.0 35000.0 0.02\n",
      "all few 700.0 40000.0 0.0175\n",
      "mid 700.0 10000.0 0.07\n",
      "long 850.0 10000.0 0.085\n",
      "LONG 1050.0 10000.0 0.105\n"
     ]
    }
   ],
   "source": [
    "print('short', np.mean(range_short), np.var(range_short), evar(range_short))\n",
    "print('short few', np.mean(short_few), np.var(short_few), evar(short_few))\n",
    "print('all', np.mean(all_range), np.var(all_range), evar(all_range))\n",
    "print('all few', np.mean(all_few), np.var(all_few), evar(all_few))\n",
    "print('mid', np.mean(mid_range), np.var(mid_range), evar(mid_range))\n",
    "print('long', np.mean(range_long), np.var(range_long), evar(range_long))\n",
    "print('LONG', np.mean(extra_long), np.var(extra_long), evar(extra_long))"
   ]
  },
  {
   "cell_type": "code",
   "execution_count": 97,
   "id": "85ebb9c5-dd36-4bd2-8c91-6866e0e1ec70",
   "metadata": {},
   "outputs": [
    {
     "data": {
      "text/plain": [
       "Text(0.5, 0, 'E/var')"
      ]
     },
     "execution_count": 97,
     "metadata": {},
     "output_type": "execute_result"
    },
    {
     "data": {
      "image/png": "[encoded data removed]",
      "text/plain": [
       "<Figure size 72x72 with 1 Axes>"
      ]
     },
     "metadata": {},
     "output_type": "display_data"
    }
   ],
   "source": [
    "plt.figure(figsize=(1,1))\n",
    "ax = plt.axes()\n",
    "\n",
    "shortfew, shortfew_ = 12.55, 0.26\n",
    "allefew, allefew_ = 11.67, 0.39\n",
    "\n",
    "\n",
    "plt.errorbar(evar(short_few2), shortfew, yerr=shortfew_, fmt='-o', c='#c6dbef', capsize=1, markersize=4)\n",
    "plt.errorbar(evar(all_few), allefew, yerr=allefew_, fmt='-o', c='#c7e9b4ff', capsize=1, markersize=4)\n",
    "\n",
    "\n",
    "ax.spines['right'].set_visible(False)\n",
    "ax.spines['top'].set_visible(False)\n",
    "plt.ylim(0,14)\n",
    "\n",
    "plt.ylabel(r'$K$', fontsize=11)\n",
    "plt.xlabel('E/var', fontsize=11)"
   ]
  },
  {
   "cell_type": "code",
   "execution_count": 85,
   "id": "64704248-6be5-455d-bd15-d89b0c2c9e1c",
   "metadata": {},
   "outputs": [
    {
     "name": "stdout",
     "output_type": "stream",
     "text": [
      "short undersampled 0.044\n",
      "all undersampled 0.0175\n"
     ]
    }
   ],
   "source": [
    "print('short undersampled', evar(short_few2))\n",
    "print('all undersampled', evar(all_few))"
   ]
  },
  {
   "cell_type": "markdown",
   "id": "4ad68b0f-d20b-4fad-945e-5819fe18465d",
   "metadata": {},
   "source": [
    "# 0 delay"
   ]
  },
  {
   "cell_type": "code",
   "execution_count": 90,
   "id": "9d8154b3-8411-4aa6-b98c-84634e55cc9e",
   "metadata": {},
   "outputs": [],
   "source": [
    "K_lst = np.arange(1, 35, 1)\n",
    "tau = np.arange(90, 250, 10)\n",
    "seed_lst = np.arange(0, 21, 1)"
   ]
  },
  {
   "cell_type": "code",
   "execution_count": 91,
   "id": "490c279f-3eea-4ae9-88ec-e2a0ef79527b",
   "metadata": {},
   "outputs": [],
   "source": [
    "path = '../results/underestimation/delayinter/'\n",
    "short_ktau7, long_ktau7 = pt.load_data(path+'SHORT_K1-35_th7_fixed_seed_delay0-20221017-110451-output.pickle', \n",
    "                                      path+'LONG_K1-35_th7_fixed_seed_delay0-20221017-105509-output.pickle')\n",
    "short_ktau7s, long_ktau7s = pt.load_data(path+'SHORT_K1-35_th7_seed_delay0-20221017-113621-output.pickle', \n",
    "                                      path+'LONG_K1-35_th7_seed_delay0-20221017-112423-output.pickle')\n",
    "\n",
    "\n",
    "path = '../results/range/delay0/'\n",
    "all_ktau7, mid_ktau7 = pt.load_data(path+'all_K1-35_th1_fixedseed_delay0-20221017-142554-output.pickle', \n",
    "                                      path+'MID_K1-35_th1_fixedseed_delay0-20221017-140517-output.pickle')\n",
    "all_ktau7s, mid_ktau7s = pt.load_data(path+'all_K1-35_th1_seed_delay0-20221017-153256-output.pickle', \n",
    "                                      path+'MID_K1-35_th1_seed_delay0-20221017-150852-output.pickle')\n",
    "\n",
    "fewall_ktau7, fewshort_ktau7 = pt.load_data(path+'fewall_K1-35_th1_fixedseed_delay0-20221017-144029-output.pickle', \n",
    "                                      path+'fewshort_K1-35_th1_fixedseed_delay0-20221017-143404-output.pickle')\n",
    "fewall_ktau7s, fewshort_ktau7s = pt.load_data(path+'fewall_K1-35_th1_seed_delay0-20221017-154936-output.pickle', \n",
    "                                      path+'fewshort_K1-35_th1_seed_delay0-20221017-154215-output.pickle')\n",
    "\n",
    "extralong_ktau7, _ = pt.load_data(path+'extralong_K1-35_th1_fixedseed_delay0-20221017-141335-output.pickle', \n",
    "                                      path+'fewshort_K1-35_th1_fixedseed_delay0-20221017-143404-output.pickle')\n",
    "extralong_ktau7s, _ = pt.load_data(path+'extralong_K1-35_th1_seed_delay0-20221017-165543-output.pickle', \n",
    "                                      path+'fewshort_K1-35_th1_fixedseed_delay0-20221017-143404-output.pickle')"
   ]
  },
  {
   "cell_type": "code",
   "execution_count": 107,
   "id": "438ac3e7-754f-4a1b-9279-5cad783a05e1",
   "metadata": {},
   "outputs": [],
   "source": [
    "path = '../results/range/delay0best/'\n",
    "short_ktau7sb, long_ktau7sb = pt.load_data(path+'short_130_th7_seed_delay0-20221018-120922-output.pickle', \n",
    "                                      path+'long_200_th7_seed_delay0-20221018-121652-output.pickle')\n",
    "\n",
    "all_ktau7sb, mid_ktau7sb = pt.load_data(path+'all_150_th7_seed_delay0-20221018-112848-output.pickle', \n",
    "                                      path+'MID_170_th7_seed_delay0-20221018-111919-output.pickle')\n",
    "\n",
    "fewall_ktau7sb, fewshort_ktau7sb = pt.load_data(path+'fewall_160_th7_seed_delay0-20221018-114553-output.pickle', \n",
    "                                      path+'fewshort_120_th1_seed_delay0-20221018-113814-output.pickle')\n",
    "\n",
    "extralong_ktau7sb, _ = pt.load_data(path+'extralong_230_th7_seed_delay0-20221018-115512-output.pickle', \n",
    "                                      path+'extralong_230_th7_seed_delay0-20221018-115512-output.pickle')"
   ]
  },
  {
   "cell_type": "code",
   "execution_count": 29,
   "id": "2ae78daa-d634-470a-bbb4-559cd614e5d2",
   "metadata": {},
   "outputs": [
    {
     "name": "stdout",
     "output_type": "stream",
     "text": [
      "17 21\n",
      "17 21\n",
      "17 21\n"
     ]
    },
    {
     "data": {
      "text/plain": [
       "(21.333333333333332, 0.835710894037345)"
      ]
     },
     "execution_count": 29,
     "metadata": {},
     "output_type": "execute_result"
    }
   ],
   "source": [
    "short_k = pt.get_mean_seed(short_ktau7s, K_lst, seed_lst, True)\n",
    "pt.get_mean_seed(short_ktau7s, K_lst, seed_lst)"
   ]
  },
  {
   "cell_type": "code",
   "execution_count": 92,
   "id": "f0ee3aa3-4182-4ea7-ba0f-7470eece1bcf",
   "metadata": {},
   "outputs": [
    {
     "name": "stdout",
     "output_type": "stream",
     "text": [
      "0.7742004619958076\n"
     ]
    }
   ],
   "source": [
    "short_s = pt.get_mean_slope(short_ktau7s, K_lst, seed_lst)"
   ]
  },
  {
   "cell_type": "code",
   "execution_count": 108,
   "id": "380cc059-e495-4924-9799-646ffe6ed62a",
   "metadata": {},
   "outputs": [
    {
     "name": "stdout",
     "output_type": "stream",
     "text": [
      "0.8307213386546314\n"
     ]
    }
   ],
   "source": [
    "short_sb = pt.get_mean_slope(short_ktau7sb, K_lst, seed_lst)"
   ]
  },
  {
   "cell_type": "code",
   "execution_count": 30,
   "id": "63eba166-85c6-4d7a-a310-debac02234e2",
   "metadata": {},
   "outputs": [
    {
     "name": "stdout",
     "output_type": "stream",
     "text": [
      "0 13\n",
      "0 13\n",
      "0 13\n"
     ]
    },
    {
     "data": {
      "text/plain": [
       "(13.19047619047619, 0.9060141709733546)"
      ]
     },
     "execution_count": 30,
     "metadata": {},
     "output_type": "execute_result"
    }
   ],
   "source": [
    "long_k = pt.get_mean_seed(long_ktau7s, K_lst, seed_lst, True)\n",
    "pt.get_mean_seed(long_ktau7s, K_lst, seed_lst)"
   ]
  },
  {
   "cell_type": "code",
   "execution_count": 93,
   "id": "68986142-61c2-4b35-af96-189b47503a92",
   "metadata": {},
   "outputs": [
    {
     "name": "stdout",
     "output_type": "stream",
     "text": [
      "0.7075957894870678\n"
     ]
    }
   ],
   "source": [
    "long_s = pt.get_mean_slope(long_ktau7s, K_lst, seed_lst)"
   ]
  },
  {
   "cell_type": "code",
   "execution_count": 109,
   "id": "005a1baa-8bbb-4d98-bfff-15f5b0b6749e",
   "metadata": {},
   "outputs": [
    {
     "name": "stdout",
     "output_type": "stream",
     "text": [
      "0.7391934400896245\n"
     ]
    }
   ],
   "source": [
    "long_sb = pt.get_mean_slope(long_ktau7sb, K_lst, seed_lst)"
   ]
  },
  {
   "cell_type": "code",
   "execution_count": 10,
   "id": "d02139b6-8e3a-41aa-9dca-0426db088498",
   "metadata": {},
   "outputs": [
    {
     "name": "stdout",
     "output_type": "stream",
     "text": [
      "6242.597819768833 50748.13219780712\n",
      "150 14\n",
      "[(90, 7), (100, 8), (110, 9), (120, 10), (130, 11), (140, 13), (150, 14), (160, 17), (170, 17), (180, 19), (190, 20), (200, 22), (210, 24), (220, 26), (230, 27), (240, 28)]\n",
      "170 17\n",
      "[(90, 4), (100, 6), (110, 7), (120, 7), (130, 10), (140, 13), (150, 13), (160, 15), (170, 17), (180, 18), (190, 22), (200, 23), (210, 25), (220, 29), (230, 33), (240, 34)]\n",
      "short range\n",
      "['8,90' '9,100' '10,110' '11,120' '12,130' '13,140' '15,150' '16,160'\n",
      " '17,160' '18,170' '19,170' '20,180' '21,180' '22,190' '23,190' '25,200'\n",
      " '28,210' '31,220' '32,220' '33,220']\n",
      "long range\n",
      "['6,90' '6,100' '7,110' '8,120' '9,130' '10,140' '11,140' '12,150'\n",
      " '13,160' '14,160' '15,170' '16,170' '17,180' '18,180' '19,190' '20,190'\n",
      " '21,200' '22,200' '23,210' '24,210' '25,210' '26,220' '27,220' '29,230'\n",
      " '30,230' '32,240' '33,240']\n"
     ]
    },
    {
     "data": {
      "image/png": "[encoded data removed]",
      "text/plain": [
       "<Figure size 288x115.2 with 3 Axes>"
      ]
     },
     "metadata": {},
     "output_type": "display_data"
    }
   ],
   "source": [
    "pt.plot_mse(all_ktau7, mid_ktau7, K_lst, tau)\n",
    "print(pt.get_opt_K(all_ktau7, K_lst, tau, mse=True))\n",
    "print(pt.get_opt_K(mid_ktau7, K_lst, tau, mse=True))\n",
    "pt.parameter_behavioural_plausible(all_ktau7, mid_ktau7, K_lst, tau)"
   ]
  },
  {
   "cell_type": "code",
   "execution_count": 20,
   "id": "a5f9c89d-0774-41be-a499-aa9bfa0b2134",
   "metadata": {},
   "outputs": [
    {
     "name": "stdout",
     "output_type": "stream",
     "text": [
      "16 17\n",
      "16 17\n",
      "16 17\n"
     ]
    },
    {
     "data": {
      "text/plain": [
       "(16.714285714285715, 0.628138378965377)"
      ]
     },
     "execution_count": 20,
     "metadata": {},
     "output_type": "execute_result"
    }
   ],
   "source": [
    "all_k = pt.get_mean_seed(all_ktau7s, K_lst, seed_lst, True)\n",
    "pt.get_mean_seed(all_ktau7s, K_lst, seed_lst)"
   ]
  },
  {
   "cell_type": "code",
   "execution_count": 94,
   "id": "70687f48-3516-40e0-b45d-4f96d48b92ce",
   "metadata": {},
   "outputs": [
    {
     "name": "stdout",
     "output_type": "stream",
     "text": [
      "0.7760516695294842\n"
     ]
    }
   ],
   "source": [
    "all_s = pt.get_mean_slope(all_ktau7s, K_lst, seed_lst)"
   ]
  },
  {
   "cell_type": "code",
   "execution_count": 110,
   "id": "3fd06b98-26f9-41ce-abb4-bc15fd806a3b",
   "metadata": {},
   "outputs": [
    {
     "name": "stdout",
     "output_type": "stream",
     "text": [
      "0.7950260325829683\n"
     ]
    }
   ],
   "source": [
    "all_sb = pt.get_mean_slope(all_ktau7sb, K_lst, seed_lst)"
   ]
  },
  {
   "cell_type": "code",
   "execution_count": 33,
   "id": "d2735ed6-e57a-49d8-82f8-e660ddbb23e3",
   "metadata": {},
   "outputs": [
    {
     "name": "stdout",
     "output_type": "stream",
     "text": [
      "10 17\n",
      "10 17\n",
      "10 17\n"
     ]
    },
    {
     "data": {
      "text/plain": [
       "(16.714285714285715, 0.8247860988423225)"
      ]
     },
     "execution_count": 33,
     "metadata": {},
     "output_type": "execute_result"
    }
   ],
   "source": [
    "mid_k = pt.get_mean_seed(mid_ktau7s, K_lst, seed_lst, True)\n",
    "pt.get_mean_seed(mid_ktau7s, K_lst, seed_lst)"
   ]
  },
  {
   "cell_type": "code",
   "execution_count": 95,
   "id": "da6d394f-a87c-4d1f-a131-300562ab7450",
   "metadata": {},
   "outputs": [
    {
     "name": "stdout",
     "output_type": "stream",
     "text": [
      "0.8193057042862151\n"
     ]
    }
   ],
   "source": [
    "mid_s = pt.get_mean_slope(mid_ktau7s, K_lst, seed_lst)"
   ]
  },
  {
   "cell_type": "code",
   "execution_count": 111,
   "id": "c3b4623a-a7da-4b45-a526-145ee4b9bec2",
   "metadata": {},
   "outputs": [
    {
     "name": "stdout",
     "output_type": "stream",
     "text": [
      "0.8172218207370447\n"
     ]
    }
   ],
   "source": [
    "mid_sb = pt.get_mean_slope(mid_ktau7sb, K_lst, seed_lst)"
   ]
  },
  {
   "cell_type": "code",
   "execution_count": 11,
   "id": "2bfc85e2-99b8-421c-a611-a65fd80c9839",
   "metadata": {},
   "outputs": [
    {
     "name": "stdout",
     "output_type": "stream",
     "text": [
      "3862.6766490593686 63500.1230273616\n",
      "160 15\n",
      "[(90, 7), (100, 8), (110, 9), (120, 10), (130, 11), (140, 12), (150, 14), (160, 15), (170, 17), (180, 18), (190, 20), (200, 22), (210, 23), (220, 23), (230, 26), (240, 29)]\n",
      "120 12\n",
      "[(90, 7), (100, 9), (110, 10), (120, 12), (130, 14), (140, 16), (150, 18), (160, 20), (170, 22), (180, 25), (190, 28), (200, 30), (210, 30), (220, 17), (230, 24), (240, 31)]\n",
      "short range\n",
      "['8,90' '9,100' '11,120' '12,130' '13,140' '15,150' '16,160' '18,170'\n",
      " '20,180' '22,190' '24,200' '28,210']\n",
      "long range\n",
      "['7,90' '8,100' '9,110' '10,120' '11,120' '12,130' '14,140' '16,150'\n",
      " '17,150' '18,160' '19,160' '21,170' '22,170' '24,180' '25,180' '27,190'\n",
      " '28,190' '33,200' '34,200']\n"
     ]
    },
    {
     "data": {
      "image/png": "[encoded data removed]",
      "text/plain": [
       "<Figure size 288x115.2 with 3 Axes>"
      ]
     },
     "metadata": {},
     "output_type": "display_data"
    }
   ],
   "source": [
    "pt.plot_mse(fewall_ktau7, fewshort_ktau7, K_lst, tau)\n",
    "print(pt.get_opt_K(fewall_ktau7, K_lst, tau, mse=True))\n",
    "print(pt.get_opt_K(fewshort_ktau7, K_lst, tau, mse=True))\n",
    "pt.parameter_behavioural_plausible(fewall_ktau7, fewshort_ktau7, K_lst, tau)"
   ]
  },
  {
   "cell_type": "code",
   "execution_count": 34,
   "id": "331420f9-29d8-4b1b-a9e6-f6bee1ab46a9",
   "metadata": {},
   "outputs": [
    {
     "name": "stdout",
     "output_type": "stream",
     "text": [
      "6 17\n",
      "6 17\n",
      "6 17\n"
     ]
    },
    {
     "data": {
      "text/plain": [
       "(16.857142857142858, 0.5593971487843205)"
      ]
     },
     "execution_count": 34,
     "metadata": {},
     "output_type": "execute_result"
    }
   ],
   "source": [
    "fewall_k = pt.get_mean_seed(fewall_ktau7s, K_lst, seed_lst, True)\n",
    "pt.get_mean_seed(fewall_ktau7s, K_lst, seed_lst)"
   ]
  },
  {
   "cell_type": "code",
   "execution_count": 96,
   "id": "44835362-033e-4e6b-9096-10e737270c59",
   "metadata": {},
   "outputs": [
    {
     "name": "stdout",
     "output_type": "stream",
     "text": [
      "0.7785370867320216\n"
     ]
    }
   ],
   "source": [
    "fewall_s = pt.get_mean_slope(fewall_ktau7s, K_lst, seed_lst)"
   ]
  },
  {
   "cell_type": "code",
   "execution_count": 112,
   "id": "7b44ba3e-217a-43c7-904b-635bffb08a35",
   "metadata": {},
   "outputs": [
    {
     "name": "stdout",
     "output_type": "stream",
     "text": [
      "0.7704852207306907\n"
     ]
    }
   ],
   "source": [
    "fewall_sb = pt.get_mean_slope(fewall_ktau7sb, K_lst, seed_lst)"
   ]
  },
  {
   "cell_type": "code",
   "execution_count": 35,
   "id": "995a9915-86ba-43f0-9d1b-51425f99409b",
   "metadata": {},
   "outputs": [
    {
     "name": "stdout",
     "output_type": "stream",
     "text": [
      "5 22\n",
      "5 22\n",
      "5 22\n"
     ]
    },
    {
     "data": {
      "text/plain": [
       "(21.19047619047619, 0.6632565846278151)"
      ]
     },
     "execution_count": 35,
     "metadata": {},
     "output_type": "execute_result"
    }
   ],
   "source": [
    "fewshort_k = pt.get_mean_seed(fewshort_ktau7s, K_lst, seed_lst, True)\n",
    "pt.get_mean_seed(fewshort_ktau7s, K_lst, seed_lst)"
   ]
  },
  {
   "cell_type": "code",
   "execution_count": 100,
   "id": "f86eb2d3-a764-4a7d-af79-04434688370f",
   "metadata": {},
   "outputs": [
    {
     "name": "stdout",
     "output_type": "stream",
     "text": [
      "0.7840444957076231\n"
     ]
    }
   ],
   "source": [
    "fewshort_s = pt.get_mean_slope(fewshort_ktau7s, K_lst, seed_lst)"
   ]
  },
  {
   "cell_type": "code",
   "execution_count": 113,
   "id": "b24a728c-c68b-4d7e-8a29-57a441338559",
   "metadata": {},
   "outputs": [
    {
     "name": "stdout",
     "output_type": "stream",
     "text": [
      "0.8469281741530039\n"
     ]
    }
   ],
   "source": [
    "fewshort_sb = pt.get_mean_slope(fewshort_ktau7sb, K_lst, seed_lst)"
   ]
  },
  {
   "cell_type": "code",
   "execution_count": 12,
   "id": "4f91dab6-4837-4663-ac12-842f96772ab9",
   "metadata": {},
   "outputs": [
    {
     "name": "stdout",
     "output_type": "stream",
     "text": [
      "3862.6766490593686 98059.68545393487\n",
      "230 18\n",
      "[(90, 1), (100, 3), (110, 1), (120, 4), (130, 2), (140, 8), (150, 7), (160, 9), (170, 9), (180, 12), (190, 14), (200, 15), (210, 16), (220, 15), (230, 18), (240, 18)]\n",
      "120 12\n",
      "[(90, 7), (100, 9), (110, 10), (120, 12), (130, 14), (140, 16), (150, 18), (160, 20), (170, 22), (180, 25), (190, 28), (200, 30), (210, 30), (220, 17), (230, 24), (240, 31)]\n",
      "short range\n",
      "['12,130' '12,140' '13,120' '13,140' '13,150' '13,160' '14,130' '14,160'\n",
      " '14,170' '15,130' '15,170' '15,180' '16,180' '17,190' '18,190' '18,200'\n",
      " '19,200' '20,210' '21,210' '21,220' '22,220' '23,230' '24,230' '25,240'\n",
      " '26,240']\n",
      "long range\n",
      "['7,90' '8,100' '9,110' '10,120' '11,120' '12,130' '14,140' '16,150'\n",
      " '17,150' '18,160' '19,160' '21,170' '22,170' '24,180' '25,180' '27,190'\n",
      " '28,190' '33,200' '34,200']\n"
     ]
    },
    {
     "data": {
      "image/png": "[encoded data removed]",
      "text/plain": [
       "<Figure size 288x115.2 with 3 Axes>"
      ]
     },
     "metadata": {},
     "output_type": "display_data"
    }
   ],
   "source": [
    "pt.plot_mse(extralong_ktau7, fewshort_ktau7, K_lst, tau)\n",
    "print(pt.get_opt_K(extralong_ktau7, K_lst, tau, mse=True))\n",
    "print(pt.get_opt_K(fewshort_ktau7, K_lst, tau, mse=True))\n",
    "pt.parameter_behavioural_plausible(extralong_ktau7, fewshort_ktau7, K_lst, tau)"
   ]
  },
  {
   "cell_type": "code",
   "execution_count": 65,
   "id": "140a4840-c7bc-4c34-8587-33ff6d984037",
   "metadata": {},
   "outputs": [
    {
     "name": "stdout",
     "output_type": "stream",
     "text": [
      "0 11\n",
      "0 11\n",
      "0 11\n"
     ]
    },
    {
     "data": {
      "text/plain": [
       "(8.714285714285714, 1.6078040967746794)"
      ]
     },
     "execution_count": 65,
     "metadata": {},
     "output_type": "execute_result"
    }
   ],
   "source": [
    "extralong_k = pt.get_mean_seed(extralong_ktau7s, K_lst, seed_lst, True)\n",
    "pt.get_mean_seed(extralong_ktau7s, K_lst, seed_lst)"
   ]
  },
  {
   "cell_type": "code",
   "execution_count": 99,
   "id": "4e9ef4e1-c1df-4ce0-bf72-c418da079078",
   "metadata": {},
   "outputs": [
    {
     "name": "stdout",
     "output_type": "stream",
     "text": [
      "0.4599325322115966\n"
     ]
    }
   ],
   "source": [
    "extralong_s = pt.get_mean_slope(extralong_ktau7s, K_lst, seed_lst)"
   ]
  },
  {
   "cell_type": "code",
   "execution_count": 114,
   "id": "a53ed185-182e-4eb7-be46-ecf81d0f2258",
   "metadata": {},
   "outputs": [
    {
     "name": "stdout",
     "output_type": "stream",
     "text": [
      "0.5772522934937262\n"
     ]
    }
   ],
   "source": [
    "extralong_sb = pt.get_mean_slope(extralong_ktau7sb, K_lst, seed_lst)"
   ]
  },
  {
   "cell_type": "code",
   "execution_count": 89,
   "id": "816a3573-3358-4ed2-8e11-65838420f2bd",
   "metadata": {},
   "outputs": [
    {
     "name": "stdout",
     "output_type": "stream",
     "text": [
      "timeouts: [(900, 0.0), (950, 0.0), (1000, 0.0), (1050, 0.0), (1100, 0.0), (1150, 0.0), (1200, 0.0)]\n",
      "0.5740206245763093\n"
     ]
    },
    {
     "data": {
      "image/png": "[encoded data removed]",
      "text/plain": [
       "<Figure size 180x144 with 1 Axes>"
      ]
     },
     "metadata": {},
     "output_type": "display_data"
    }
   ],
   "source": [
    "np.random.seed(0)\n",
    "params = Params(ntrials=0, delay=0, tau=230, sigma=0.02, th=0.7)\n",
    "expsim = ExperimentSimulation(params)\n",
    "\n",
    "fig, ax = plt.subplots(1,1, figsize=(2.5,2))\n",
    "\n",
    "K = 18\n",
    "exp_result = expsim.simulate(stimulus_lst_extralong, K)\n",
    "plot = exp_result.create_behavioral_plot()\n",
    "plot.plot_behavior(ax)\n",
    "print(exp_result.create_behavioral_data().slope)\n",
    "\n",
    "ax.set(xlabel='stimulus [ms]', ylabel='reproduction [ms]')\n",
    "ax.spines['right'].set_visible(False)\n",
    "ax.spines['top'].set_visible(False) \n",
    "\n",
    "plt.tight_layout()"
   ]
  },
  {
   "cell_type": "code",
   "execution_count": 69,
   "id": "9697287b-a061-4d13-8681-96f2a1efb946",
   "metadata": {
    "tags": []
   },
   "outputs": [
    {
     "data": {
      "text/plain": [
       "(None,)"
      ]
     },
     "execution_count": 69,
     "metadata": {},
     "output_type": "execute_result"
    },
    {
     "data": {
      "image/png": "[encoded data removed]",
      "text/plain": [
       "<Figure size 180x72 with 1 Axes>"
      ]
     },
     "metadata": {},
     "output_type": "display_data"
    }
   ],
   "source": [
    "plt.figure(figsize=(2.5,1))\n",
    "ax = plt.axes()\n",
    "\n",
    "short, short_ = 21.33, 0.84\n",
    "mid, mid_ = 16.71, 0.83\n",
    "long, long_ = 13.10, 0.91\n",
    "LONG, LONG_ = 8.71, 1.61\n",
    "alle, alle_ = 16.71, 0.63\n",
    "\n",
    "shortfew, shortfew_ = 21.19, 0.66\n",
    "allefew, allefew_ = 16.86, 0.56\n",
    "\n",
    "\n",
    "\n",
    "plt.errorbar(evar(range_short), short, yerr=short_, fmt='-o', c='#c6dbef', capsize=1, markersize=4)\n",
    "plt.errorbar(evar(mid_range), mid, yerr=mid_, fmt='-o', c='#6baed6', capsize=1, markersize=4)\n",
    "plt.errorbar(evar(range_long), long, yerr=long_, fmt='-o', c='#2171b5', capsize=1, markersize=4)\n",
    "plt.errorbar(evar(extra_long), LONG, yerr=LONG_, fmt='-o', c='#08306b', capsize=1, markersize=4)\n",
    "\n",
    "plt.errorbar(evar(all_range), alle, yerr=alle_, fmt='-o', c='#c7e9b4ff', capsize=1, markersize=4)\n",
    "\n",
    "plt.errorbar(evar(short_few2), shortfew, yerr=shortfew_, fmt='-o', c='k', capsize=1, markersize=4)\n",
    "plt.errorbar(evar(all_few), allefew, yerr=allefew_, fmt='-o', c='k', capsize=1, markersize=4)\n",
    "\n",
    "\n",
    "ax.spines['right'].set_visible(False)\n",
    "ax.spines['top'].set_visible(False)\n",
    "\n",
    "# plt.xticks([1,2,3,4,5], ['short', 'all', 'mid', 'long', 'LONG'], rotation=-30)\n",
    "\n",
    "plt.ylabel(r'$K$', fontsize=11)\n",
    "plt.xlabel('E/var', fontsize=11)\n",
    "\n",
    "plt.ylim(0,25)\n",
    "plt.xlim(0,0.12)\n",
    "\n",
    "plt.savefig('../report/figures/range_resultEVAR.svg', dpi=500, bbox_inches='tight')"
   ]
  },
  {
   "cell_type": "code",
   "execution_count": 70,
   "id": "52fe1172-4307-440e-9b99-58b82d6a74d0",
   "metadata": {
    "tags": []
   },
   "outputs": [
    {
     "data": {
      "image/png": "[encoded data removed]",
      "text/plain": [
       "<Figure size 180x180 with 1 Axes>"
      ]
     },
     "metadata": {},
     "output_type": "display_data"
    },
    {
     "data": {
      "text/plain": [
       "Text(0.5, 0, 'var')"
      ]
     },
     "execution_count": 70,
     "metadata": {},
     "output_type": "execute_result"
    },
    {
     "data": {
      "image/png": "[encoded data removed]",
      "text/plain": [
       "<Figure size 180x180 with 1 Axes>"
      ]
     },
     "metadata": {},
     "output_type": "display_data"
    }
   ],
   "source": [
    "plt.figure(figsize=(2.5,2.5))\n",
    "ax = plt.axes()\n",
    "\n",
    "plt.errorbar(np.mean(range_short), short, yerr=short_, fmt='-o', c='#c6dbef', capsize=1, markersize=4)\n",
    "plt.errorbar(np.mean(mid_range), mid, yerr=mid_, fmt='-o', c='#6baed6', capsize=1, markersize=4)\n",
    "plt.errorbar(np.mean(range_long), long, yerr=long_, fmt='-o', c='#2171b5', capsize=1, markersize=4)\n",
    "plt.errorbar(np.mean(extra_long), LONG, yerr=LONG_, fmt='-o', c='#08306b', capsize=1, markersize=4)\n",
    "\n",
    "plt.errorbar(np.mean(all_range), alle, yerr=alle_, fmt='-o', c='#c7e9b4ff', capsize=1, markersize=4)\n",
    "\n",
    "plt.errorbar(np.mean(short_few2), shortfew, yerr=shortfew_, fmt='-o', c='k', capsize=1, markersize=4)\n",
    "plt.errorbar(np.mean(all_few), allefew, yerr=allefew_, fmt='-o', c='k', capsize=1, markersize=4)\n",
    "\n",
    "\n",
    "ax.spines['right'].set_visible(False)\n",
    "ax.spines['top'].set_visible(False)\n",
    "\n",
    "# plt.xticks([1,2,3,4,5], ['short', 'all', 'mid', 'long', 'LONG'], rotation=-30)\n",
    "\n",
    "plt.ylabel(r'$K$', fontsize=11)\n",
    "plt.xlabel('mean', fontsize=11)\n",
    "#plt.ylim(0,14)\n",
    "#plt.xlim(0,0.12)\n",
    "plt.show()\n",
    "\n",
    "plt.figure(figsize=(2.5,2.5))\n",
    "ax = plt.axes()\n",
    "\n",
    "plt.errorbar(np.var(range_short), short, yerr=short_, fmt='-o', c='#c6dbef', capsize=1, markersize=4)\n",
    "plt.errorbar(np.var(mid_range), mid, yerr=mid_, fmt='-o', c='#6baed6', capsize=1, markersize=4)\n",
    "plt.errorbar(np.var(range_long), long, yerr=long_, fmt='-o', c='#2171b5', capsize=1, markersize=4)\n",
    "plt.errorbar(np.var(extra_long), LONG, yerr=LONG_, fmt='-o', c='#08306b', capsize=1, markersize=4)\n",
    "\n",
    "plt.errorbar(np.var(all_range), alle, yerr=alle_, fmt='-o', c='#c7e9b4ff', capsize=1, markersize=4)\n",
    "\n",
    "plt.errorbar(np.var(short_few2), shortfew, yerr=shortfew_, fmt='-o', c='k', capsize=1, markersize=4)\n",
    "plt.errorbar(np.var(all_few), allefew, yerr=allefew_, fmt='-o', c='k', capsize=1, markersize=4)\n",
    "\n",
    "\n",
    "ax.spines['right'].set_visible(False)\n",
    "ax.spines['top'].set_visible(False)\n",
    "\n",
    "# plt.xticks([1,2,3,4,5], ['short', 'all', 'mid', 'long', 'LONG'], rotation=-30)\n",
    "\n",
    "plt.ylabel(r'$K$', fontsize=11)\n",
    "plt.xlabel('var', fontsize=11)"
   ]
  },
  {
   "cell_type": "code",
   "execution_count": 119,
   "id": "b4324005-fa1d-49e0-aba7-b222ecf94b38",
   "metadata": {
    "tags": []
   },
   "outputs": [
    {
     "data": {
      "text/plain": [
       "(0.0, 0.12)"
      ]
     },
     "execution_count": 119,
     "metadata": {},
     "output_type": "execute_result"
    },
    {
     "data": {
      "image/png": "[encoded data removed]",
      "text/plain": [
       "<Figure size 180x72 with 1 Axes>"
      ]
     },
     "metadata": {},
     "output_type": "display_data"
    }
   ],
   "source": [
    "plt.figure(figsize=(2.5,1))\n",
    "ax = plt.axes()\n",
    "\n",
    "plt.errorbar(evar(range_short), np.mean(short_s), yerr=np.var(short_s), fmt='-o', c='#c6dbef', capsize=1, markersize=4)\n",
    "plt.errorbar(evar(mid_range), np.mean(mid_s), yerr=np.var(mid_s), fmt='-o', c='#6baed6', capsize=1, markersize=4)\n",
    "plt.errorbar(evar(range_long), np.mean(long_s), yerr=np.var(long_s), fmt='-o', c='#2171b5', capsize=1, markersize=4)\n",
    "plt.errorbar(evar(extra_long), np.mean(extralong_s), yerr=np.var(extralong_s), fmt='-o', c='#08306b', capsize=1, markersize=4)\n",
    "\n",
    "plt.errorbar(evar(all_range), np.mean(all_s), yerr=np.var(all_s), fmt='-o', c='#c7e9b4ff', capsize=1, markersize=4)\n",
    "\n",
    "plt.errorbar(evar(short_few2), np.mean(fewshort_s), yerr=np.var(fewshort_s), fmt='-o', c='k', capsize=1, markersize=4)\n",
    "plt.errorbar(evar(all_few), np.mean(fewall_s), yerr=np.var(fewall_s), fmt='-o', c='k', capsize=1, markersize=4)\n",
    "\n",
    "\n",
    "ax.spines['right'].set_visible(False)\n",
    "ax.spines['top'].set_visible(False)\n",
    "\n",
    "# plt.xticks([1,2,3,4,5], ['short', 'all', 'mid', 'long', 'LONG'], rotation=-30)\n",
    "\n",
    "plt.ylabel('slope '+r'$\\tau_{165}$', fontsize=11)\n",
    "plt.xlabel('E/var', fontsize=11)\n",
    "\n",
    "plt.ylim(0.3,1)\n",
    "plt.xlim(0,0.12)"
   ]
  },
  {
   "cell_type": "code",
   "execution_count": 120,
   "id": "fd2bb307-162f-4905-993a-b6cac16f8273",
   "metadata": {
    "tags": []
   },
   "outputs": [
    {
     "data": {
      "text/plain": [
       "(None,)"
      ]
     },
     "execution_count": 120,
     "metadata": {},
     "output_type": "execute_result"
    },
    {
     "data": {
      "image/png": "[encoded data removed]",
      "text/plain": [
       "<Figure size 180x72 with 1 Axes>"
      ]
     },
     "metadata": {},
     "output_type": "display_data"
    }
   ],
   "source": [
    "plt.figure(figsize=(2.5,1))\n",
    "ax = plt.axes()\n",
    "\n",
    "plt.errorbar(evar(range_short), np.mean(short_sb), yerr=np.var(short_sb), fmt='-o', c='#c6dbef', capsize=1, markersize=4)\n",
    "plt.errorbar(evar(mid_range), np.mean(mid_sb), yerr=np.var(mid_sb), fmt='-o', c='#6baed6', capsize=1, markersize=4)\n",
    "plt.errorbar(evar(range_long), np.mean(long_sb), yerr=np.var(long_sb), fmt='-o', c='#2171b5', capsize=1, markersize=4)\n",
    "plt.errorbar(evar(extra_long), np.mean(extralong_sb), yerr=np.var(extralong_sb), fmt='-o', c='#08306b', capsize=1, markersize=4)\n",
    "\n",
    "plt.errorbar(evar(all_range), np.mean(all_sb), yerr=np.var(all_sb), fmt='-o', c='#c7e9b4ff', capsize=1, markersize=4)\n",
    "\n",
    "plt.errorbar(evar(short_few2), np.mean(fewshort_sb), yerr=np.var(fewshort_sb), fmt='-o', c='k', capsize=1, markersize=4)\n",
    "plt.errorbar(evar(all_few), np.mean(fewall_sb), yerr=np.var(fewall_sb), fmt='-o', c='k', capsize=1, markersize=4)\n",
    "\n",
    "\n",
    "ax.spines['right'].set_visible(False)\n",
    "ax.spines['top'].set_visible(False)\n",
    "\n",
    "# plt.xticks([1,2,3,4,5], ['short', 'all', 'mid', 'long', 'LONG'], rotation=-30)\n",
    "\n",
    "plt.ylabel('slope '+r'$\\tau*$', fontsize=11)\n",
    "plt.xlabel('E/var', fontsize=11)\n",
    "\n",
    "plt.ylim(0.3,1)\n",
    "plt.xlim(0,0.12)\n",
    "\n",
    "plt.savefig('../report/figures/range_resultSLOPE.svg', dpi=500, bbox_inches='tight'), "
   ]
  },
  {
   "cell_type": "code",
   "execution_count": 67,
   "id": "95618c34-4c18-448b-9641-7735836982a2",
   "metadata": {},
   "outputs": [],
   "source": [
    "import itertools\n",
    "dists = [short_k, mid_k, long_k, extralong_k, all_k, fewshort_k, fewall_k]\n",
    "dists_name = ['short', 'mid', 'long', 'extralong', 'alle', 'short_few', 'alle_few']"
   ]
  },
  {
   "cell_type": "code",
   "execution_count": 71,
   "id": "9a387a22-15a3-49ed-bab8-f2e151bd73e0",
   "metadata": {},
   "outputs": [
    {
     "name": "stdout",
     "output_type": "stream",
     "text": [
      "('short', 'mid')\n",
      "KstestResult(statistic=1.0, pvalue=3.715691111961505e-12)\n",
      "----> significant\n",
      "('short', 'long')\n",
      "KstestResult(statistic=1.0, pvalue=3.715691111961505e-12)\n",
      "----> significant\n",
      "('short', 'extralong')\n",
      "KstestResult(statistic=1.0, pvalue=3.715691111961505e-12)\n",
      "----> significant\n",
      "('short', 'alle')\n",
      "KstestResult(statistic=1.0, pvalue=3.715691111961505e-12)\n",
      "----> significant\n",
      "('short', 'short_few')\n",
      "KstestResult(statistic=0.14285714285714285, pvalue=0.9870441861918785)\n",
      ";;;;; n.s.\n",
      "('short', 'alle_few')\n",
      "KstestResult(statistic=1.0, pvalue=3.715691111961505e-12)\n",
      "----> significant\n",
      "('mid', 'long')\n",
      "KstestResult(statistic=1.0, pvalue=3.715691111961505e-12)\n",
      "----> significant\n",
      "('mid', 'extralong')\n",
      "KstestResult(statistic=1.0, pvalue=3.715691111961505e-12)\n",
      "----> significant\n",
      "('mid', 'alle')\n",
      "KstestResult(statistic=0.14285714285714285, pvalue=0.9870441861918785)\n",
      ";;;;; n.s.\n",
      "('mid', 'short_few')\n",
      "KstestResult(statistic=1.0, pvalue=3.715691111961505e-12)\n",
      "----> significant\n",
      "('mid', 'alle_few')\n",
      "KstestResult(statistic=0.2857142857142857, pvalue=0.36497950870925666)\n",
      ";;;;; n.s.\n",
      "('long', 'extralong')\n",
      "KstestResult(statistic=1.0, pvalue=3.715691111961505e-12)\n",
      "----> significant\n",
      "('long', 'alle')\n",
      "KstestResult(statistic=1.0, pvalue=3.715691111961505e-12)\n",
      "----> significant\n",
      "('long', 'short_few')\n",
      "KstestResult(statistic=1.0, pvalue=3.715691111961505e-12)\n",
      "----> significant\n",
      "('long', 'alle_few')\n",
      "KstestResult(statistic=1.0, pvalue=3.715691111961505e-12)\n",
      "----> significant\n",
      "('extralong', 'alle')\n",
      "KstestResult(statistic=1.0, pvalue=3.715691111961505e-12)\n",
      "----> significant\n",
      "('extralong', 'short_few')\n",
      "KstestResult(statistic=1.0, pvalue=3.715691111961505e-12)\n",
      "----> significant\n",
      "('extralong', 'alle_few')\n",
      "KstestResult(statistic=1.0, pvalue=3.715691111961505e-12)\n",
      "----> significant\n",
      "('alle', 'short_few')\n",
      "KstestResult(statistic=1.0, pvalue=3.715691111961505e-12)\n",
      "----> significant\n",
      "('alle', 'alle_few')\n",
      "KstestResult(statistic=0.14285714285714285, pvalue=0.9870441861918785)\n",
      ";;;;; n.s.\n",
      "('short_few', 'alle_few')\n",
      "KstestResult(statistic=1.0, pvalue=3.715691111961505e-12)\n",
      "----> significant\n"
     ]
    }
   ],
   "source": [
    "from scipy import stats\n",
    "for combo, name in zip(itertools.combinations(dists, 2), itertools.combinations(dists_name, 2)):  # 2 for pairs, 3 for triplets, etc\n",
    "    print(name)\n",
    "    print(stats.ks_2samp(combo[0], combo[1]))\n",
    "    if stats.ks_2samp(combo[0], combo[1])[1]<0.05/21:\n",
    "        print('----> significant')\n",
    "    else:\n",
    "        print(';;;;; n.s.')"
   ]
  },
  {
   "cell_type": "code",
   "execution_count": 122,
   "id": "a2cf8387-0eea-4764-a00d-9a7daa45defb",
   "metadata": {},
   "outputs": [
    {
     "name": "stdout",
     "output_type": "stream",
     "text": [
      "('short', 'mid')\n",
      "KstestResult(statistic=0.3333333333333333, pvalue=0.1963120402389556)\n",
      ";;;;; n.s.\n",
      "('short', 'long')\n",
      "KstestResult(statistic=0.42857142857142855, pvalue=0.041088503979639056)\n",
      ";;;;; n.s.\n",
      "('short', 'extralong')\n",
      "KstestResult(statistic=1.0, pvalue=3.715691111961505e-12)\n",
      "----> significant\n",
      "('short', 'alle')\n",
      "KstestResult(statistic=0.14285714285714285, pvalue=0.9870441861918785)\n",
      ";;;;; n.s.\n",
      "('short', 'short_few')\n",
      "KstestResult(statistic=0.19047619047619047, pvalue=0.8530789718547532)\n",
      ";;;;; n.s.\n",
      "('short', 'alle_few')\n",
      "KstestResult(statistic=0.14285714285714285, pvalue=0.9870441861918785)\n",
      ";;;;; n.s.\n",
      "('mid', 'long')\n",
      "KstestResult(statistic=0.7619047619047619, pvalue=3.16081952683007e-06)\n",
      "----> significant\n",
      "('mid', 'extralong')\n",
      "KstestResult(statistic=1.0, pvalue=3.715691111961505e-12)\n",
      "----> significant\n",
      "('mid', 'alle')\n",
      "KstestResult(statistic=0.38095238095238093, pvalue=0.09481656218610322)\n",
      ";;;;; n.s.\n",
      "('mid', 'short_few')\n",
      "KstestResult(statistic=0.38095238095238093, pvalue=0.09481656218610322)\n",
      ";;;;; n.s.\n",
      "('mid', 'alle_few')\n",
      "KstestResult(statistic=0.42857142857142855, pvalue=0.041088503979639056)\n",
      ";;;;; n.s.\n",
      "('long', 'extralong')\n",
      "KstestResult(statistic=0.9047619047619048, pvalue=3.1992100473988563e-09)\n",
      "----> significant\n",
      "('long', 'alle')\n",
      "KstestResult(statistic=0.5238095238095238, pvalue=0.005467427576534314)\n",
      ";;;;; n.s.\n",
      "('long', 'short_few')\n",
      "KstestResult(statistic=0.5714285714285714, pvalue=0.0016567962353134283)\n",
      "----> significant\n",
      "('long', 'alle_few')\n",
      "KstestResult(statistic=0.5714285714285714, pvalue=0.0016567962353134283)\n",
      "----> significant\n",
      "('extralong', 'alle')\n",
      "KstestResult(statistic=1.0, pvalue=3.715691111961505e-12)\n",
      "----> significant\n",
      "('extralong', 'short_few')\n",
      "KstestResult(statistic=1.0, pvalue=3.715691111961505e-12)\n",
      "----> significant\n",
      "('extralong', 'alle_few')\n",
      "KstestResult(statistic=1.0, pvalue=3.715691111961505e-12)\n",
      "----> significant\n",
      "('alle', 'short_few')\n",
      "KstestResult(statistic=0.19047619047619047, pvalue=0.8530789718547532)\n",
      ";;;;; n.s.\n",
      "('alle', 'alle_few')\n",
      "KstestResult(statistic=0.2857142857142857, pvalue=0.36497950870925666)\n",
      ";;;;; n.s.\n",
      "('short_few', 'alle_few')\n",
      "KstestResult(statistic=0.23809523809523808, pvalue=0.6028129403170835)\n",
      ";;;;; n.s.\n"
     ]
    }
   ],
   "source": [
    "dists_slope_best = [short_s, mid_s, long_s, extralong_s, all_s, fewshort_s, fewall_s]\n",
    "\n",
    "for combo, name in zip(itertools.combinations(dists_slope_best, 2), itertools.combinations(dists_name, 2)):  # 2 for pairs, 3 for triplets, etc\n",
    "    print(name)\n",
    "    print(stats.ks_2samp(combo[0], combo[1]))\n",
    "    if stats.ks_2samp(combo[0], combo[1])[1]<0.05/21:\n",
    "        print('----> significant')\n",
    "    else:\n",
    "        print(';;;;; n.s.')"
   ]
  },
  {
   "cell_type": "code",
   "execution_count": 116,
   "id": "0235ce2b-0b8e-4b67-aa45-542f1586b448",
   "metadata": {},
   "outputs": [
    {
     "name": "stdout",
     "output_type": "stream",
     "text": [
      "('short', 'mid')\n",
      "KstestResult(statistic=0.2857142857142857, pvalue=0.36497950870925666)\n",
      ";;;;; n.s.\n",
      "('short', 'long')\n",
      "KstestResult(statistic=0.7619047619047619, pvalue=3.16081952683007e-06)\n",
      "----> significant\n",
      "('short', 'extralong')\n",
      "KstestResult(statistic=1.0, pvalue=3.715691111961505e-12)\n",
      "----> significant\n",
      "('short', 'alle')\n",
      "KstestResult(statistic=0.5238095238095238, pvalue=0.005467427576534314)\n",
      ";;;;; n.s.\n",
      "('short', 'short_few')\n",
      "KstestResult(statistic=0.3333333333333333, pvalue=0.1963120402389556)\n",
      ";;;;; n.s.\n",
      "('short', 'alle_few')\n",
      "KstestResult(statistic=0.6666666666666666, pvalue=0.00010024313356518223)\n",
      "----> significant\n",
      "('mid', 'long')\n",
      "KstestResult(statistic=0.6666666666666666, pvalue=0.00010024313356518223)\n",
      "----> significant\n",
      "('mid', 'extralong')\n",
      "KstestResult(statistic=1.0, pvalue=3.715691111961505e-12)\n",
      "----> significant\n",
      "('mid', 'alle')\n",
      "KstestResult(statistic=0.23809523809523808, pvalue=0.6028129403170835)\n",
      ";;;;; n.s.\n",
      "('mid', 'short_few')\n",
      "KstestResult(statistic=0.3333333333333333, pvalue=0.1963120402389556)\n",
      ";;;;; n.s.\n",
      "('mid', 'alle_few')\n",
      "KstestResult(statistic=0.42857142857142855, pvalue=0.041088503979639056)\n",
      ";;;;; n.s.\n",
      "('long', 'extralong')\n",
      "KstestResult(statistic=0.8095238095238095, pvalue=4.1589730616185135e-07)\n",
      "----> significant\n",
      "('long', 'alle')\n",
      "KstestResult(statistic=0.5238095238095238, pvalue=0.005467427576534314)\n",
      ";;;;; n.s.\n",
      "('long', 'short_few')\n",
      "KstestResult(statistic=0.7619047619047619, pvalue=3.16081952683007e-06)\n",
      "----> significant\n",
      "('long', 'alle_few')\n",
      "KstestResult(statistic=0.3333333333333333, pvalue=0.1963120402389556)\n",
      ";;;;; n.s.\n",
      "('extralong', 'alle')\n",
      "KstestResult(statistic=0.9523809523809523, pvalue=1.5605902670238322e-10)\n",
      "----> significant\n",
      "('extralong', 'short_few')\n",
      "KstestResult(statistic=1.0, pvalue=3.715691111961505e-12)\n",
      "----> significant\n",
      "('extralong', 'alle_few')\n",
      "KstestResult(statistic=0.8571428571428571, pvalue=4.265613396531809e-08)\n",
      "----> significant\n",
      "('alle', 'short_few')\n",
      "KstestResult(statistic=0.5238095238095238, pvalue=0.005467427576534314)\n",
      ";;;;; n.s.\n",
      "('alle', 'alle_few')\n",
      "KstestResult(statistic=0.23809523809523808, pvalue=0.6028129403170835)\n",
      ";;;;; n.s.\n",
      "('short_few', 'alle_few')\n",
      "KstestResult(statistic=0.6190476190476191, pvalue=0.00043856370934767223)\n",
      "----> significant\n"
     ]
    }
   ],
   "source": [
    "dists_slope_best = [short_sb, mid_sb, long_sb, extralong_sb, all_sb, fewshort_sb, fewall_sb]\n",
    "\n",
    "for combo, name in zip(itertools.combinations(dists_slope_best, 2), itertools.combinations(dists_name, 2)):  # 2 for pairs, 3 for triplets, etc\n",
    "    print(name)\n",
    "    print(stats.ks_2samp(combo[0], combo[1]))\n",
    "    if stats.ks_2samp(combo[0], combo[1])[1]<0.05/21:\n",
    "        print('----> significant')\n",
    "    else:\n",
    "        print(';;;;; n.s.')"
   ]
  },
  {
   "cell_type": "code",
   "execution_count": null,
   "id": "d9f667bc-35f2-47a7-9214-700708070c0c",
   "metadata": {},
   "outputs": [],
   "source": []
  }
 ],
 "metadata": {
  "kernelspec": {
   "display_name": "Python 3 (ipykernel)",
   "language": "python",
   "name": "python3"
  },
  "language_info": {
   "codemirror_mode": {
    "name": "ipython",
    "version": 3
   },
   "file_extension": ".py",
   "mimetype": "text/x-python",
   "name": "python",
   "nbconvert_exporter": "python",
   "pygments_lexer": "ipython3",
   "version": "3.9.7"
  }
 },
 "nbformat": 4,
 "nbformat_minor": 5
}
